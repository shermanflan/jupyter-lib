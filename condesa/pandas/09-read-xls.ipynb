{
 "cells": [
  {
   "cell_type": "markdown",
   "id": "6c2decf4",
   "metadata": {},
   "source": [
    "# Examples Reading Excel Files\n",
    "\n",
    "References:\n",
    "- [`pandas.read_excel`](https://pandas.pydata.org/docs/reference/api/pandas.read_excel.html#pandas-read-excel)"
   ]
  },
  {
   "cell_type": "code",
   "execution_count": null,
   "id": "3abfba35",
   "metadata": {},
   "outputs": [],
   "source": [
    "import os\n",
    "\n",
    "import pandas as pd\n",
    "import numpy as np\n",
    "from sqlalchemy import create_engine, text\n",
    "from sqlalchemy.orm import sessionmaker"
   ]
  },
  {
   "cell_type": "code",
   "execution_count": null,
   "id": "962c9b87",
   "metadata": {},
   "outputs": [],
   "source": [
    "%%bash\n",
    "\n",
    "ls -al data/*.xlsx"
   ]
  },
  {
   "cell_type": "markdown",
   "id": "3e942e67",
   "metadata": {},
   "source": [
    "## Read Single Tab"
   ]
  },
  {
   "cell_type": "code",
   "execution_count": null,
   "id": "3ec88ed0",
   "metadata": {
    "scrolled": true
   },
   "outputs": [],
   "source": [
    "consolidated_codes = pd.read_excel('data/ReferenceData_MSSPQMs_PY2021.xlsx', \n",
    "                                   sheet_name='2021 Codes List', \n",
    "                                  )\n",
    "\n",
    "consolidated_codes.head()"
   ]
  },
  {
   "cell_type": "code",
   "execution_count": null,
   "id": "4fd33907",
   "metadata": {
    "scrolled": true
   },
   "outputs": [],
   "source": [
    "consolidated_codes = pd.read_excel('data/ReferenceData_MSSPQMs_PY2021.xlsx', \n",
    "                                   sheet_name='2021 Codes List', \n",
    "                                   names=('measure_type', 'measure_indicator_cms_wi', 'variable_name', \n",
    "                                          'orig_code_system_name', 'code', 'code_description', 'tab')\n",
    "                                  )\n",
    "\n",
    "consolidated_codes = consolidated_codes.astype({'measure_indicator_cms_wi': str, 'code': str})\n",
    "consolidated_codes.head()"
   ]
  },
  {
   "cell_type": "code",
   "execution_count": null,
   "id": "ba658fb3",
   "metadata": {},
   "outputs": [],
   "source": [
    "consolidated_codes.shape"
   ]
  },
  {
   "cell_type": "code",
   "execution_count": null,
   "id": "3f9fd15f",
   "metadata": {},
   "outputs": [],
   "source": [
    "\"\"\"\n",
    "Derive: orig_code_system_name to normalized_code_system_name:\n",
    "\n",
    "LN to LOINC\n",
    "I9 to ICD-9\n",
    "SNM to SNOMED CT\n",
    "I10 to ICD-10\n",
    "\"\"\"\n",
    "@np.vectorize\n",
    "def transform_code(code):\n",
    "    if code == \"LN\":\n",
    "        return \"LOINC\"\n",
    "    elif code == \"I9\":\n",
    "        return \"ICD-9\"\n",
    "    elif code == \"I10\":\n",
    "        return \"ICD-10\"\n",
    "    elif code == \"SNM\":\n",
    "        return \"SNOMED CT\"\n",
    "    else:\n",
    "        return code\n",
    "    \n",
    "consolidated_codes['normalized_code_system_name'] = transform_code(consolidated_codes['orig_code_system_name'])"
   ]
  },
  {
   "cell_type": "code",
   "execution_count": null,
   "id": "3f4f1cc8",
   "metadata": {
    "scrolled": true
   },
   "outputs": [],
   "source": [
    "consolidated_codes.loc[consolidated_codes['orig_code_system_name'] == 'SNM', :].head()"
   ]
  },
  {
   "cell_type": "markdown",
   "id": "be985255",
   "metadata": {},
   "source": [
    "## Read Single Tab"
   ]
  },
  {
   "cell_type": "code",
   "execution_count": null,
   "id": "6dfe1095",
   "metadata": {
    "scrolled": true
   },
   "outputs": [],
   "source": [
    "drug_codes = pd.read_excel('data/ReferenceData_MSSPQMs_PY2021.xlsx', \n",
    "                           sheet_name='2021 Drug Codes DM_HTN_PREV', \n",
    "                           names=('measure_type', 'measure_indicator_cms_wi', 'variable_name', 'code_system_name', \n",
    "                                  'code', 'drug_description', 'drug_category', 'drug_exclusion', 'tab'))\n",
    "\n",
    "drug_codes = drug_codes.astype({'measure_indicator_cms_wi': str, 'code': str})\n",
    "drug_codes.head()"
   ]
  },
  {
   "cell_type": "code",
   "execution_count": null,
   "id": "aa7a1dd2",
   "metadata": {},
   "outputs": [],
   "source": [
    "drug_codes.shape"
   ]
  },
  {
   "cell_type": "code",
   "execution_count": null,
   "id": "1107ac10",
   "metadata": {},
   "outputs": [],
   "source": [
    "drug_codes.dtypes"
   ]
  },
  {
   "cell_type": "markdown",
   "id": "951e25a2",
   "metadata": {},
   "source": [
    "## Write to SQL"
   ]
  },
  {
   "cell_type": "code",
   "execution_count": null,
   "id": "79a83f38",
   "metadata": {},
   "outputs": [],
   "source": [
    "host = os.environ['PG_SERVER']\n",
    "db = os.environ['PG_DATABASE']\n",
    "user = os.environ['PG_UID']\n",
    "pw = os.environ['PG_PASSWORD']\n",
    "\n",
    "con_str = f'{user}:{pw}@{host}/{db}'\n",
    "engine = create_engine(f\"postgresql+psycopg2://{con_str}\", echo=False)"
   ]
  },
  {
   "cell_type": "code",
   "execution_count": null,
   "id": "1a583481",
   "metadata": {
    "scrolled": false
   },
   "outputs": [],
   "source": [
    "consolidated_codes.to_sql('consolidated_codes_reference_2021', \n",
    "                          con=engine, schema='ccda_validation', \n",
    "                          if_exists='replace', index=False)"
   ]
  },
  {
   "cell_type": "code",
   "execution_count": null,
   "id": "ce295276",
   "metadata": {
    "scrolled": true
   },
   "outputs": [],
   "source": [
    "drug_codes.to_sql('drug_codes_reference_2021', \n",
    "                  con=engine, schema='ccda_validation', \n",
    "                  if_exists='replace', index=False)"
   ]
  },
  {
   "cell_type": "code",
   "execution_count": null,
   "id": "a3bc1713",
   "metadata": {},
   "outputs": [],
   "source": []
  }
 ],
 "metadata": {
  "kernelspec": {
   "display_name": "Python 3",
   "language": "python",
   "name": "python3"
  },
  "language_info": {
   "codemirror_mode": {
    "name": "ipython",
    "version": 3
   },
   "file_extension": ".py",
   "mimetype": "text/x-python",
   "name": "python",
   "nbconvert_exporter": "python",
   "pygments_lexer": "ipython3",
   "version": "3.8.5"
  }
 },
 "nbformat": 4,
 "nbformat_minor": 5
}
