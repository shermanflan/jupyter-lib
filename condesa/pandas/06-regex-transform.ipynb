{
 "cells": [
  {
   "cell_type": "markdown",
   "metadata": {},
   "source": [
    "# Census.gov Reference Data"
   ]
  },
  {
   "cell_type": "code",
   "execution_count": 1,
   "metadata": {},
   "outputs": [],
   "source": [
    "from datetime import datetime\n",
    "from os import environ\n",
    "import re\n",
    "import urllib\n",
    "\n",
    "import numpy as np\n",
    "import openpyxl\n",
    "import pandas as pd\n",
    "import pyodbc\n",
    "from sqlalchemy import create_engine\n",
    "from sqlalchemy import Column, Integer, String\n",
    "from sqlalchemy.ext.declarative import declarative_base\n",
    "from sqlalchemy.orm import sessionmaker"
   ]
  },
  {
   "cell_type": "code",
   "execution_count": null,
   "metadata": {
    "scrolled": false
   },
   "outputs": [],
   "source": [
    "%%bash\n",
    "\n",
    "pip3 list"
   ]
  },
  {
   "cell_type": "markdown",
   "metadata": {},
   "source": [
    "## Counties (Census.gov)\n",
    "- Counties are source from census.gov [gazetteer files](https://www2.census.gov/geo/docs/maps-data/data/gazetteer/2019_Gazetteer/2019_Gaz_counties_national.zip)"
   ]
  },
  {
   "cell_type": "code",
   "execution_count": null,
   "metadata": {},
   "outputs": [],
   "source": [
    "%%time\n",
    "\n",
    "county_uri = 'https://www2.census.gov/geo/docs/maps-data/data/gazetteer/2019_Gazetteer/2019_Gaz_counties_national.zip'\n",
    "\n",
    "counties = (pd.read_table(county_uri,\n",
    "                          dtype={'GEOID': str, 'ANSICODE': str})\n",
    "           .rename(columns=lambda x: x.strip()))\n",
    "counties.shape"
   ]
  },
  {
   "cell_type": "code",
   "execution_count": null,
   "metadata": {
    "scrolled": true
   },
   "outputs": [],
   "source": [
    "counties.dtypes"
   ]
  },
  {
   "cell_type": "code",
   "execution_count": null,
   "metadata": {
    "scrolled": true
   },
   "outputs": [],
   "source": [
    "counties['StateFIPS'] = counties.GEOID.str[:2]\n",
    "counties['CountyFIPS'] = counties.GEOID.str[2:]\n",
    "# counties[['CountyPrefix', 'CountySuffix']] = counties.NAME.str.rsplit(n=1, expand=True)\n",
    "# counties['CountySuffix'] = counties['CountySuffix'].str.upper()"
   ]
  },
  {
   "cell_type": "code",
   "execution_count": null,
   "metadata": {},
   "outputs": [],
   "source": [
    "county_pattern = re.compile(pattern=r'\\sCounty$')\n",
    "\n",
    "counties.loc[\n",
    "    counties.NAME.str.contains(county_pattern)\n",
    "    , ['CountyPrefix']] = counties.NAME.str.replace(county_pattern, repl='')\n",
    "\n",
    "counties.loc[\n",
    "    counties.NAME.str.contains(county_pattern)\n",
    "    , ['CountySuffix']] = 'COUNTY'\n",
    "\n",
    "counties.loc[counties.CountyPrefix.isna(), ['CountyPrefix']] = counties.NAME"
   ]
  },
  {
   "cell_type": "code",
   "execution_count": null,
   "metadata": {},
   "outputs": [],
   "source": [
    "counties.loc[~counties.NAME.str.contains('County'), :]"
   ]
  },
  {
   "cell_type": "markdown",
   "metadata": {},
   "source": [
    "## States/Regions (Census.gov)\n",
    "- Census.gov's [States and regions](https://www2.census.gov/programs-surveys/popest/geographies/2019/state-geocodes-v2019.xlsx)"
   ]
  },
  {
   "cell_type": "code",
   "execution_count": null,
   "metadata": {
    "scrolled": true
   },
   "outputs": [],
   "source": [
    "st_uri = 'https://www2.census.gov/programs-surveys/popest/geographies/2019/state-geocodes-v2019.xlsx'\n",
    "\n",
    "st = pd.read_excel(st_uri, engine='openpyxl', header=1, skiprows=4,\n",
    "                   dtype={'Region': str, 'Division': str, 'State (FIPS)': str})\n",
    "\n",
    "st_region = st.loc[st['Name'].str.endswith('Region'), \n",
    "                   ['Region','Name']]\n",
    "\n",
    "st_division = st.loc[st['Name'].str.endswith('Division'), \n",
    "                   ['Division','Name']]"
   ]
  },
  {
   "cell_type": "code",
   "execution_count": null,
   "metadata": {
    "scrolled": false
   },
   "outputs": [],
   "source": [
    "st_final = (st.loc[st['State (FIPS)'] != '00', :]\n",
    "            .merge(st_region, on='Region', how='left')\n",
    "            .merge(st_division, on='Division', how='left')\n",
    "            .rename(columns={\n",
    "                'State (FIPS)':'StateFIPS', 'Name_x': 'StateName',\n",
    "                'Name_y': 'RegionName', 'Name': 'DivisionName'\n",
    "            })\n",
    "            .merge(counties.loc[:, ['StateFIPS', 'USPS']], on='StateFIPS', how='left')\n",
    "            .drop_duplicates()\n",
    "            .reset_index(drop=True)\n",
    ")\n",
    "\n",
    "st_final.head()"
   ]
  },
  {
   "cell_type": "markdown",
   "metadata": {},
   "source": [
    "## Places (Census.gov)\n",
    "- Places are sourced from census.gov [gazetteer files](https://www2.census.gov/geo/docs/maps-data/data/gazetteer/2019_Gazetteer/2019_Gaz_place_national.zip)"
   ]
  },
  {
   "cell_type": "code",
   "execution_count": null,
   "metadata": {},
   "outputs": [],
   "source": [
    "%%time\n",
    "\n",
    "places_uri = 'https://www2.census.gov/geo/docs/maps-data/data/gazetteer/2019_Gazetteer/2019_Gaz_place_national.zip'\n",
    "\n",
    "places = (pd.read_table(places_uri,\n",
    "                        dtype={'GEOID': str, 'ANSICODE': str})\n",
    "          .rename(columns=lambda x: x.strip()))\n",
    "places.shape"
   ]
  },
  {
   "cell_type": "code",
   "execution_count": null,
   "metadata": {
    "scrolled": true
   },
   "outputs": [],
   "source": [
    "places.dtypes"
   ]
  },
  {
   "cell_type": "markdown",
   "metadata": {},
   "source": [
    "### Regular Expression Data Wrangling"
   ]
  },
  {
   "cell_type": "code",
   "execution_count": null,
   "metadata": {
    "scrolled": false
   },
   "outputs": [],
   "source": [
    "%%time\n",
    "\n",
    "places['StateFIPS'] = places.GEOID.str[:2]\n",
    "places['PlaceFIPS'] = places.GEOID.str[2:]\n",
    "\n",
    "places[['CLEAN_NAME']] = (\n",
    "    places.NAME.str.replace(pat=' (balance)', repl='', regex=False)\n",
    ")\n",
    "\n",
    "erase = re.compile(pattern=r'\\s[(].+[)]')\n",
    "synonym = re.compile(pattern=r'[(](?P<in_syn>.+)[)]')\n",
    "\n",
    "places.loc[\n",
    "    places.CLEAN_NAME.str.contains(pat=erase)\n",
    "    , ['CLEAN_NAME']] = places.CLEAN_NAME.str.replace(pat=erase, repl='')\n",
    "\n",
    "places.loc[\n",
    "    places.CLEAN_NAME.str.contains(pat=erase)\n",
    "    , ['PlaceSynonym']] = places.CLEAN_NAME.str.extract(pat=synonym, expand=False)\n",
    "\n",
    "g_pattern = r\"\"\"\n",
    "    (?P<PlacePrefix>.+?)  # non-greedy\n",
    "    \\s\n",
    "    (?P<PlaceSuffix>\n",
    "        borough  # 21\n",
    "        |city  # 25\n",
    "        |metro\\stownship  # 35 (undocumented)\n",
    "        |municipality  # 37\n",
    "        |town  # 43\n",
    "        |village  # 47\n",
    "        |city\\sand\\sborough  # 53\n",
    "        |comunidad  # 55\n",
    "        |zona\\surbana  # 62\n",
    "        |CDP  # 57\n",
    "        |consolidated\\sgovernment  # CG\n",
    "        |metro\\w*\\sgovernment  # MG\n",
    "        |urban\\scounty  # UC\n",
    "        |unified\\sgovernment  # UG\n",
    "    )$\n",
    "\"\"\"\n",
    "\n",
    "g_compiled = re.compile(g_pattern, flags=re.X)  # re.IGNORECASE\n",
    "\n",
    "name_split = places.CLEAN_NAME.str.extract(g_compiled)\n",
    "\n",
    "unity = places.join(name_split)\n",
    "\n",
    "unity.loc[\n",
    "    unity.PlacePrefix.isna()\n",
    "    , ['PlacePrefix']] = unity.CLEAN_NAME\n",
    "\n",
    "unity['PlacePrefix'] = unity['PlacePrefix'].str.strip()\n",
    "unity['PlaceSuffix'] = unity['PlaceSuffix'].str.strip()\n",
    "unity['PlaceSuffix'] = unity['PlaceSuffix'].str.upper()\n",
    "unity.drop(['CLEAN_NAME'], axis=1, inplace=True)\n",
    "\n",
    "g1 = (unity\n",
    "      .groupby('PlaceSuffix', sort=True, dropna=False)\n",
    "      .agg('count')\n",
    "     )\n",
    "g1[['USPS']]"
   ]
  },
  {
   "cell_type": "code",
   "execution_count": null,
   "metadata": {},
   "outputs": [],
   "source": [
    "unity.loc[unity.PlacePrefix.str.contains('Odessa'), :]"
   ]
  }
 ],
 "metadata": {
  "kernelspec": {
   "display_name": "Python 3",
   "language": "python",
   "name": "python3"
  },
  "language_info": {
   "codemirror_mode": {
    "name": "ipython",
    "version": 3
   },
   "file_extension": ".py",
   "mimetype": "text/x-python",
   "name": "python",
   "nbconvert_exporter": "python",
   "pygments_lexer": "ipython3",
   "version": "3.8.5"
  }
 },
 "nbformat": 4,
 "nbformat_minor": 4
}
