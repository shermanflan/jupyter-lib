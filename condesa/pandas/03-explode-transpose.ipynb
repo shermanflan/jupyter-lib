{
 "cells": [
  {
   "cell_type": "markdown",
   "metadata": {},
   "source": [
    "# Geonames.org Reference Data"
   ]
  },
  {
   "cell_type": "code",
   "execution_count": null,
   "metadata": {},
   "outputs": [],
   "source": [
    "from datetime import datetime\n",
    "from os import environ\n",
    "import re\n",
    "from tempfile import TemporaryDirectory\n",
    "import urllib\n",
    "from zipfile import ZipFile\n",
    "\n",
    "import numpy as np\n",
    "import pandas as pd\n",
    "import requests\n",
    "from sqlalchemy import create_engine\n",
    "from sqlalchemy.orm import sessionmaker"
   ]
  },
  {
   "cell_type": "code",
   "execution_count": null,
   "metadata": {
    "scrolled": true
   },
   "outputs": [],
   "source": [
    "%%bash\n",
    "\n",
    "pip3 list"
   ]
  },
  {
   "cell_type": "markdown",
   "metadata": {},
   "source": [
    "## Places (Geonames.org)"
   ]
  },
  {
   "cell_type": "code",
   "execution_count": null,
   "metadata": {},
   "outputs": [],
   "source": [
    "%%time\n",
    "\n",
    "places_uri = 'https://download.geonames.org/export/dump/US.zip'\n",
    "\n",
    "session = requests.Session()\n",
    "r = session.get(places_uri)\n",
    "r.raise_for_status()\n",
    "r.status_code"
   ]
  },
  {
   "cell_type": "code",
   "execution_count": null,
   "metadata": {},
   "outputs": [],
   "source": [
    "with open('data/US-places.zip', 'wb') as fd:\n",
    "    for chunk in r.iter_content(chunk_size=128):\n",
    "        fd.write(chunk)\n",
    "with ZipFile('data/US-places.zip') as z:\n",
    "    z.extract('US.txt', path='data')"
   ]
  },
  {
   "cell_type": "code",
   "execution_count": null,
   "metadata": {
    "scrolled": true
   },
   "outputs": [],
   "source": [
    "%%time\n",
    "\n",
    "header = ['geonameid', 'name', 'ascii_name'\n",
    "          , 'alternatenames', 'latitude', 'longitude'\n",
    "          , 'feature_class', 'feature_code', 'country_code'\n",
    "          , 'cc2', 'admin_code1', 'admin_code2'\n",
    "          , 'admin_code3', 'admin_code4', 'population'\n",
    "          , 'elevation', 'dem', 'timezone', 'modification_date'\n",
    "         ]\n",
    "\n",
    "places = pd.read_table('data/US.txt'\n",
    "                       , names=header\n",
    "                       , dtype={\n",
    "                           'admin_code1': str, 'admin_code2': str,\n",
    "                           'admin_code3': str, 'admin_code3': str}\n",
    "                      )\n",
    "places.drop(['admin_code4', 'ascii_name'], axis=1, inplace=True)\n",
    "places.shape"
   ]
  },
  {
   "cell_type": "code",
   "execution_count": null,
   "metadata": {},
   "outputs": [],
   "source": [
    "places.dtypes"
   ]
  },
  {
   "cell_type": "markdown",
   "metadata": {},
   "source": [
    "## Transpose Place Synonyms into Rows\n",
    "- Built in [explode](https://pandas.pydata.org/pandas-docs/stable/user_guide/reshaping.html#exploding-a-list-like-column) function"
   ]
  },
  {
   "cell_type": "code",
   "execution_count": null,
   "metadata": {},
   "outputs": [],
   "source": [
    "%%time\n",
    "\n",
    "pivot = places.loc[~places.alternatenames.isna(), ['alternatenames']]  #.head(1000)\n",
    "pivot.shape\n",
    "\n",
    "# Split csv strings to iterable\n",
    "to_columns2 = pd.DataFrame(data=pivot.alternatenames.str.split(pat=',', expand=False)\n",
    "                          ,index=pivot.index)\n",
    "\n",
    "# Use built in explode (may be more efficient)\n",
    "to_rows2 = to_columns2.explode('alternatenames')\n",
    "\n",
    "places2 = to_rows2.join(places.drop(['name'], axis=1)\n",
    "                        , lsuffix='_tmp')\n",
    "\n",
    "places2['name'] = places2.alternatenames_tmp\n",
    "places2.drop(['alternatenames_tmp'], axis=1, inplace=True)\n",
    "\n",
    "places2.shape"
   ]
  },
  {
   "cell_type": "code",
   "execution_count": null,
   "metadata": {},
   "outputs": [],
   "source": [
    "unity = places.append(places2).drop_duplicates()\n",
    "unity.shape"
   ]
  },
  {
   "cell_type": "code",
   "execution_count": null,
   "metadata": {},
   "outputs": [],
   "source": [
    "unity.modification_date = (\n",
    "    unity.modification_date.str\n",
    "    .replace(pat='-', repl='', regex=False)\n",
    "    .astype(np.int32)\n",
    ")"
   ]
  },
  {
   "cell_type": "code",
   "execution_count": null,
   "metadata": {},
   "outputs": [],
   "source": [
    "unity.dtypes"
   ]
  }
 ],
 "metadata": {
  "kernelspec": {
   "display_name": "Python 3",
   "language": "python",
   "name": "python3"
  },
  "language_info": {
   "codemirror_mode": {
    "name": "ipython",
    "version": 3
   },
   "file_extension": ".py",
   "mimetype": "text/x-python",
   "name": "python",
   "nbconvert_exporter": "python",
   "pygments_lexer": "ipython3",
   "version": "3.8.5"
  }
 },
 "nbformat": 4,
 "nbformat_minor": 4
}
