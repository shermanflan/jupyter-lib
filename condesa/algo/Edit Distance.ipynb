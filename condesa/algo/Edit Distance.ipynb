{
 "cells": [
  {
   "cell_type": "markdown",
   "id": "c562a910",
   "metadata": {},
   "source": [
    "# Implementation of edit-distance (Levenshtein)\n",
    "- May be useful for inexactly comparing names"
   ]
  },
  {
   "cell_type": "code",
   "execution_count": 65,
   "id": "a4f58061",
   "metadata": {},
   "outputs": [],
   "source": [
    "from os import environ\n",
    "\n",
    "import pandas as pd\n",
    "import numpy as np\n",
    "from sqlalchemy import create_engine"
   ]
  },
  {
   "cell_type": "markdown",
   "id": "b25f377b",
   "metadata": {},
   "source": [
    "## Edit Distance Algorithm\n",
    "- Function is vectorized for efficient Numpy processing"
   ]
  },
  {
   "cell_type": "code",
   "execution_count": 66,
   "id": "4cedf5e5",
   "metadata": {},
   "outputs": [],
   "source": [
    "def edit_distance(s1: str, s2: str) -> int:\n",
    "    memo = [[0]*(len(s2) + 1) for _ in range(len(s1) + 1)]\n",
    "\n",
    "    for i1 in range(len(s1) + 1):\n",
    "        for i2 in range(len(s2) + 1):\n",
    "            if i1 == 0:\n",
    "                memo[i1][i2] = i2\n",
    "            elif i2 == 0:\n",
    "                memo[i1][i2] = i1\n",
    "            elif s1[i1 - 1] == s2[i2 - 1]:\n",
    "                memo[i1][i2] = memo[i1 - 1][i2 - 1]  # same\n",
    "            else:\n",
    "                memo[i1][i2] = 1 + min(memo[i1 - 1][i2 - 1],  # same\n",
    "                                       memo[i1 - 1][i2],  # delete s1\n",
    "                                       memo[i1][i2 - 1]  # insert s1\n",
    "                                       )\n",
    "\n",
    "    return memo[-1][-1]\n",
    "\n",
    "edit_distance_vec = np.vectorize(edit_distance)\n",
    "\n",
    "# print(edit_distance('calcasieu', 'patel'))\n",
    "# print(edit_distance('patel', 'calcasieu'))"
   ]
  },
  {
   "cell_type": "code",
   "execution_count": 67,
   "id": "796c73b5",
   "metadata": {},
   "outputs": [],
   "source": [
    "host = environ.get('PG_SERVER', 'sql-fabulous')\n",
    "db = environ.get('PG_DATABASE', 'psycodb')\n",
    "user = environ.get('PG_UID', 'sa')\n",
    "pw = environ.get('POSTGRES_PASSWORD', 'pwd')\n",
    "\n",
    "engine = create_engine(f\"postgresql+psycopg2://{user}:{pw}@{host}/{db}\", echo=False)"
   ]
  },
  {
   "cell_type": "markdown",
   "id": "bcbb266a",
   "metadata": {},
   "source": [
    "## Read Source Data\n",
    "- Additional transformations could improve match results (remove '-', 'inc.', 'llc', etc.)"
   ]
  },
  {
   "cell_type": "code",
   "execution_count": 68,
   "id": "bb5d2856",
   "metadata": {},
   "outputs": [],
   "source": [
    "mpmi_sql = \"\"\"\n",
    "    select  *\n",
    "    from    public.mc_practice_master_info\n",
    "\"\"\"\n",
    "\n",
    "feed_sql = \"\"\"\n",
    "    select  *\n",
    "    from    public.practice_feed\n",
    "\"\"\"\n",
    "\n",
    "mpmi_df = pd.read_sql(mpmi_sql, engine)\n",
    "mpmi = mpmi_df.loc[:, ['practice_id', 'practice_name']]\n",
    "mpmi['practice_name'] = mpmi.practice_name.str.lower()\n",
    "\n",
    "feed_df = pd.read_sql(feed_sql, engine)\n",
    "feed = feed_df.loc[:, ['id', 's3_path']]\n",
    "feed['practice'] = feed.s3_path.str.extract(pat=r'.+/.+/(?P<prac>.+)/.+/.+/', expand=False).str.lower()\n",
    "\n",
    "feed_x = feed.merge(mpmi, how='cross').iloc[:, :]"
   ]
  },
  {
   "cell_type": "markdown",
   "id": "d63e0f61",
   "metadata": {},
   "source": [
    "## Run Algorithm\n",
    "- Also write back to sql\n",
    "- The following query could be used to get top x results:\n",
    "```\n",
    "with fuzzy\n",
    "as\n",
    "(\n",
    "    select  id,\n",
    "            edit_distance,\n",
    "            row_number() over (partition by practice\n",
    "                                order by edit_distance ASC) as fuzzy_rank,\n",
    "            practice,\n",
    "            practice_id,\n",
    "            practice_name,\n",
    "            s3_path\n",
    "    from    public.feed_x\n",
    ")\n",
    "select  *\n",
    "from    fuzzy\n",
    "where   fuzzy_rank <= 5\n",
    "order by practice, fuzzy_rank ASC\n",
    "```"
   ]
  },
  {
   "cell_type": "code",
   "execution_count": 69,
   "id": "d19eb0aa",
   "metadata": {},
   "outputs": [],
   "source": [
    "feed_x['edit_distance'] = edit_distance_vec(feed_x.practice, feed_x.practice_name)"
   ]
  },
  {
   "cell_type": "code",
   "execution_count": 70,
   "id": "8e14725e",
   "metadata": {},
   "outputs": [],
   "source": [
    "feed_x.to_sql('feed_x', engine, schema='public', if_exists='replace', index=False)"
   ]
  }
 ],
 "metadata": {
  "kernelspec": {
   "display_name": "Python 3",
   "language": "python",
   "name": "python3"
  },
  "language_info": {
   "codemirror_mode": {
    "name": "ipython",
    "version": 3
   },
   "file_extension": ".py",
   "mimetype": "text/x-python",
   "name": "python",
   "nbconvert_exporter": "python",
   "pygments_lexer": "ipython3",
   "version": "3.8.5"
  }
 },
 "nbformat": 4,
 "nbformat_minor": 5
}
