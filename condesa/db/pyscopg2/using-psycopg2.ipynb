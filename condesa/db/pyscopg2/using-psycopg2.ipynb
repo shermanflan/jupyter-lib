{
 "cells": [
  {
   "cell_type": "markdown",
   "metadata": {},
   "source": [
    "## Psyco Examples"
   ]
  },
  {
   "cell_type": "code",
   "execution_count": 6,
   "metadata": {},
   "outputs": [],
   "source": [
    "import os\n",
    "\n",
    "import psycopg2\n",
    "import shapefile  # pyshp\n",
    "from shapely.geometry import Point, MultiPoint, Polygon\n",
    "from shapely.wkb import loads"
   ]
  },
  {
   "cell_type": "markdown",
   "metadata": {},
   "source": [
    "## Import Point Shapefile to Spatial Database"
   ]
  },
  {
   "cell_type": "code",
   "execution_count": 4,
   "metadata": {},
   "outputs": [
    {
     "name": "stdout",
     "output_type": "stream",
     "text": [
      "Completed.\n"
     ]
    }
   ],
   "source": [
    "pg_host = os.environ[\"PG_SERVER\"]\n",
    "pg_db = os.environ[\"PG_DATABASE\"]\n",
    "pg_user = os.environ[\"PG_UID\"]\n",
    "pg_pwd = 'pwd' #os.environ[\"PG_PWD\"]\n",
    "\n",
    "ddl = \"\"\"\n",
    "DROP TABLE IF EXISTS public.nyc_museums;\n",
    "\n",
    "CREATE TABLE public.nyc_museums\n",
    "(\n",
    "    id SERIAL NOT NULL \n",
    "        PRIMARY KEY, \n",
    "    NAME VARCHAR(255) NULL,\n",
    "    URL VARCHAR(255) NULL,\n",
    "    --location    GEOMETRY(POLYGON, 4326)   NULL\n",
    "    location    GEOGRAPHY(POINT, 4326)   NULL\n",
    ");\n",
    "\n",
    "CREATE INDEX nyc_museums_points_gix \n",
    "ON public.nyc_museums \n",
    "USING GIST (location);\n",
    "\"\"\"\n",
    "point_cloud = []\n",
    "\n",
    "with psycopg2.connect(host=pg_host, \n",
    "                      database=pg_db,\n",
    "                      user=pg_user, \n",
    "                      password=pg_pwd) as c: #, shapefile.Reader(nyc_path) as nyc_museums:\n",
    "\n",
    "    try:\n",
    "        # Execute DDL\n",
    "        cursor = c.cursor()\n",
    "        cursor.execute(ddl)\n",
    "        c.commit()\n",
    "\n",
    "        # Execute DML\n",
    "        cursor = c.cursor()\n",
    "\n",
    "        dml = \"\"\"\n",
    "        INSERT INTO public.nyc_museums (NAME, URL, location)\n",
    "        VALUES (%s, %s, ST_GeomFromText(%s, 4326))\n",
    "        \"\"\"\n",
    "\n",
    "        # Read both attributes and geometries.\n",
    "#         for srec in nyc_museums.shapeRecords():\n",
    "#             p = Point(srec.shape.points[0][0], srec.shape.points[0][1])\n",
    "#             point_cloud.append(p)\n",
    "#             cursor.execute(dml, (srec.record['NAME'], srec.record['URL'], p.wkt))\n",
    "\n",
    "        p = Point(31.8457, 102.3676)\n",
    "        cursor.execute(dml, ('met', 'www.met.com', p.wkt))\n",
    "        c.commit()\n",
    "        \n",
    "    except Exception as e:\n",
    "        c.rollback()\n",
    "        raise e\n",
    "\n",
    "print(\"Completed.\")\n",
    "# mpt = MultiPoint(point_cloud)\n",
    "# mpt"
   ]
  },
  {
   "cell_type": "markdown",
   "metadata": {},
   "source": [
    "## Read Points from Spatial Database"
   ]
  },
  {
   "cell_type": "code",
   "execution_count": 5,
   "metadata": {
    "scrolled": true
   },
   "outputs": [
    {
     "name": "stdout",
     "output_type": "stream",
     "text": [
      "POINT (31.8457 77.6324)\n"
     ]
    }
   ],
   "source": [
    "dml = \"\"\"\n",
    "SELECT id\n",
    "\t\t, name\n",
    "\t\t, url\n",
    "\t\t, location \n",
    "FROM\tpublic.nyc_museums\n",
    "LIMIT 10;\n",
    "\"\"\"\n",
    "\n",
    "with psycopg2.connect(host=pg_host, database=pg_db,user=pg_user, password=pg_pwd) as c:\n",
    "    cursor = c.cursor()\n",
    "\n",
    "    cursor.execute(dml)\n",
    "    \n",
    "    for rec in cursor.fetchall():\n",
    "        pt = loads(rec[3], hex=True)\n",
    "        print(pt)"
   ]
  },
  {
   "cell_type": "markdown",
   "metadata": {},
   "source": [
    "## Import Polygons to Spatial Database"
   ]
  },
  {
   "cell_type": "code",
   "execution_count": null,
   "metadata": {
    "scrolled": true
   },
   "outputs": [],
   "source": [
    "pg_host = os.environ[\"PG_SERVER\"]\n",
    "pg_db = os.environ[\"PG_DATABASE\"]\n",
    "pg_user = os.environ[\"PG_UID\"]\n",
    "pg_pwd = os.environ[\"PG_PWD\"]\n",
    "\n",
    "ddl = \"\"\"\n",
    "DROP TABLE IF EXISTS public.us_states;\n",
    "\n",
    "CREATE TABLE public.us_states\n",
    "(\n",
    "    id SERIAL NOT NULL \n",
    "        PRIMARY KEY, \n",
    "    NAME VARCHAR(100) NULL,\n",
    "    CODE CHAR(2) NULL,\n",
    "    ABBREV CHAR(2) NULL,\n",
    "    AREA BIGINT NULL,\n",
    "    -- NAD 83\n",
    "    -- TODO: Can be MultiPolygon. How to handle both?\n",
    "    location    GEOMETRY(POLYGON, 4269)   NULL\n",
    ");\n",
    "\n",
    "CREATE INDEX us_states_poly_gix \n",
    "ON public.us_states\n",
    "USING GIST (location);\n",
    "\"\"\"\n",
    "shp_path = os.path.join(os.environ[\"DATA_DIR\"], 'us_states', 'tl_2014_us_state.shp')\n",
    "\n",
    "with psycopg2.connect(host=pg_host, database=pg_db,user=pg_user, password=pg_pwd) as c, \\\n",
    "    shapefile.Reader(shp_path) as shp:\n",
    "\n",
    "    try:\n",
    "        # Execute DDL\n",
    "        cursor = c.cursor()\n",
    "        cursor.execute(ddl)\n",
    "        c.commit()\n",
    "\n",
    "        # Execute DML\n",
    "        cursor = c.cursor()\n",
    "\n",
    "        dml = \"\"\"\n",
    "        INSERT INTO public.us_states (NAME, CODE, ABBREV, AREA, location)\n",
    "        VALUES (%s, %s, %s, %s, ST_GeomFromText(%s, 4269))\n",
    "        \"\"\"\n",
    "\n",
    "        # Read both attributes and geometries.\n",
    "        for srec in shp.shapeRecords()[:5]:\n",
    "            if srec.record['STUSPS'] not in ('AK', 'HI'):\n",
    "                poly = Polygon(srec.shape.points)\n",
    "                cursor.execute(dml, (srec.record['NAME'], srec.record['STATEFP'], \n",
    "                                     srec.record['STUSPS'], srec.record['ALAND'], poly.wkt))\n",
    "\n",
    "        c.commit()\n",
    "        \n",
    "    except Exception as e:\n",
    "        c.rollback()\n",
    "        raise e"
   ]
  },
  {
   "cell_type": "markdown",
   "metadata": {},
   "source": [
    "## Load from CSV"
   ]
  },
  {
   "cell_type": "code",
   "execution_count": null,
   "metadata": {},
   "outputs": [],
   "source": [
    "branch_file = \"data/patient_branch_zip.csv\"\n",
    "ddl = \"\"\"\n",
    "DROP TABLE IF EXISTS public.patient_branch;\n",
    "\n",
    "CREATE TABLE public.patient_branch\n",
    "(\n",
    "    id                 SERIAL NOT NULL \n",
    "        PRIMARY KEY, \n",
    "    patient_key        VARCHAR(32) NOT NULL,\n",
    "    patient_latitude   FLOAT NOT NULL,\n",
    "    patient_longitude  FLOAT NOT NULL,\n",
    "    branch_key         INT NOT NULL,\n",
    "    branch_latitude    FLOAT NOT NULL,\n",
    "    branch_longitude   FLOAT NOT NULL,\n",
    "    -- TODO: Use 3857 (Web Mercator)\n",
    "    --location    GEOMETRY(POLYGON, 4326)   NULL\n",
    "    patient_location   GEOGRAPHY(POINT, 4326)   NOT NULL,\n",
    "    branch_location    GEOGRAPHY(POINT, 4326)   NOT NULL\n",
    ");\n",
    "\n",
    "CREATE INDEX patient_points_gix \n",
    "ON public.patient_branch \n",
    "USING GIST (patient_location);\n",
    "\n",
    "CREATE INDEX branch_points_gix \n",
    "ON public.patient_branch \n",
    "USING GIST (branch_location);\n",
    "\"\"\""
   ]
  },
  {
   "cell_type": "code",
   "execution_count": null,
   "metadata": {},
   "outputs": [],
   "source": [
    "%%time\n",
    "with psycopg2.connect(host=pg_host, \n",
    "                      database=pg_db,\n",
    "                      user=pg_user, \n",
    "                      password=pg_pwd) as c, open(branch_file) as csvfile:\n",
    "\n",
    "    try:\n",
    "        # Execute DDL\n",
    "        cursor = c.cursor()\n",
    "        cursor.execute(ddl)\n",
    "        c.commit()\n",
    "\n",
    "        # Execute DML\n",
    "        cursor = c.cursor()\n",
    "\n",
    "        dml = \"\"\"\n",
    "        INSERT INTO public.patient_branch (\n",
    "            patient_key,\n",
    "            patient_latitude,\n",
    "            patient_longitude,\n",
    "            branch_key,\n",
    "            branch_latitude,\n",
    "            branch_longitude,\n",
    "            patient_location,\n",
    "            branch_location\n",
    "        )\n",
    "        VALUES (%s, %s, %s, %s, %s, %s, \n",
    "                ST_GeomFromText(%s, 4326), ST_GeomFromText(%s, 4326))\n",
    "        \"\"\"\n",
    "\n",
    "        # Read both attributes and geometries.\n",
    "        n = 0\n",
    "        reader = csv.DictReader(csvfile)\n",
    "        for row in reader:\n",
    "            n += 1\n",
    "            \n",
    "            if not row['PatientLatitude'] or not row['PatientLongitude']:\n",
    "                continue\n",
    "                \n",
    "            p1 = Point(float(row['PatientLatitude']), float(row['PatientLongitude']))\n",
    "\n",
    "            try:\n",
    "            \n",
    "                if not row['BranchLatitude'] or not row['BranchLongitude']:\n",
    "                    continue\n",
    "\n",
    "                p2 = Point(float(row['BranchLatitude']), float(row['BranchLongitude']))\n",
    "            except ValueError as e:\n",
    "                print(row)\n",
    "                \n",
    "            cursor.execute(dml, (\n",
    "                row['PatientKey'], \n",
    "                row['PatientLatitude'], \n",
    "                row['PatientLongitude'], \n",
    "                int(float(row['BranchKey'])), \n",
    "                row['BranchLatitude'], \n",
    "                row['BranchLongitude'], \n",
    "                p1.wkt,\n",
    "                p2.wkt\n",
    "            ))\n",
    "        c.commit()\n",
    "        print(f\"Inserted {n} records\")\n",
    "        \n",
    "    except Exception as e:\n",
    "        c.rollback()\n",
    "        raise e"
   ]
  }
 ],
 "metadata": {
  "kernelspec": {
   "display_name": "Python 3",
   "language": "python",
   "name": "python3"
  },
  "language_info": {
   "codemirror_mode": {
    "name": "ipython",
    "version": 3
   },
   "file_extension": ".py",
   "mimetype": "text/x-python",
   "name": "python",
   "nbconvert_exporter": "python",
   "pygments_lexer": "ipython3",
   "version": "3.6.9"
  }
 },
 "nbformat": 4,
 "nbformat_minor": 2
}
