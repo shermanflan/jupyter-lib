{
 "cells": [
  {
   "cell_type": "markdown",
   "metadata": {},
   "source": [
    "# Using Basic Marshmallow without SQL Alchemy Integration"
   ]
  },
  {
   "cell_type": "code",
   "execution_count": null,
   "metadata": {},
   "outputs": [],
   "source": [
    "from os import environ\n",
    "import urllib\n",
    "#import json\n",
    "\n",
    "from sqlalchemy import create_engine, inspect\n",
    "from sqlalchemy import Table, Column, ForeignKey, Integer, String, Float, MetaData\n",
    "from sqlalchemy.ext.declarative import declarative_base\n",
    "from sqlalchemy.orm import relationship, backref\n",
    "from sqlalchemy.orm import sessionmaker, selectinload\n",
    "from sqlalchemy.sql import union, select, and_, or_, not_, text\n",
    "from sqlalchemy.sql import bindparam\n",
    "from sqlalchemy.sql.functions import coalesce\n",
    "\n",
    "from marshmallow import Schema, fields, validate, EXCLUDE, pprint"
   ]
  },
  {
   "cell_type": "markdown",
   "metadata": {},
   "source": [
    "# Setup"
   ]
  },
  {
   "cell_type": "code",
   "execution_count": null,
   "metadata": {},
   "outputs": [],
   "source": [
    "driver = environ.get('SQL_DRIVER', '{ODBC Driver 17 for SQL Server}')\n",
    "host = environ.get('SQL_HOST', 'sql-fabulous')\n",
    "db = environ.get('SQL_DB', 'ScratchDB')\n",
    "user = environ.get('SQL_USER', 'sa')\n",
    "pw = environ.get('SQL_PASSWORD', 'HelloWorld1')\n",
    "\n",
    "con_str = f'DRIVER={driver};SERVER={host};DATABASE={db};UID={user};PWD={pw}'\n",
    "\n",
    "params = urllib.parse.quote_plus(con_str)  \n",
    "\n",
    "# 'echo' emits generated sql\n",
    "engine = create_engine(f\"mssql+pyodbc:///?odbc_connect={params}\", echo=True)"
   ]
  },
  {
   "cell_type": "markdown",
   "metadata": {},
   "source": [
    "# Define ORM Schema"
   ]
  },
  {
   "cell_type": "code",
   "execution_count": null,
   "metadata": {},
   "outputs": [],
   "source": [
    "Base = declarative_base()\n",
    "\n",
    "class Survey(Base):\n",
    "    __tablename__ = 'DirectionalSurvey'\n",
    "\n",
    "    ID = Column(Integer, autoincrement=False, primary_key=True)\n",
    "    API = Column(String(32), nullable=True)\n",
    "    WKID = Column(String(32), nullable=True)\n",
    "    FIPS = Column(String(4), nullable=True)\n",
    "    STATUS_CODE = Column(String(1), nullable=False)\n",
    "\n",
    "    def __repr__(self):\n",
    "        return f\"Survey(ID={self.ID}, API={self.API}, WKID={self.WKID}, Points={self.stations})\"\n",
    "\n",
    "class SurveyReport(Base):\n",
    "    __tablename__ = 'SurveyReport'\n",
    "\n",
    "    ID = Column(Integer, autoincrement=False, primary_key=True)\n",
    "    DirectionalSurveyId = Column(Integer, ForeignKey('DirectionalSurvey.ID'), nullable=False)\n",
    "    Azimuth = Column(Float, nullable=True)\n",
    "    MD = Column(Float, nullable=True)\n",
    "    Inclination = Column(Float, nullable=True)\n",
    "    STATUS_CODE = Column(String(1), nullable=False)\n",
    "    survey = relationship(Survey, backref=backref('stations', uselist=True))\n",
    "\n",
    "    def __repr__(self):\n",
    "        return f\"Report(ID={self.ID}, FK={self.DirectionalSurveyId}, STATUS={self.STATUS_CODE})\"\n",
    "\n",
    "# Set mapped tables to local vars so that full SQL metadata is available.\n",
    "surveys = Survey.__table__\n",
    "points = SurveyReport.__table__"
   ]
  },
  {
   "cell_type": "markdown",
   "metadata": {},
   "source": [
    "# Define Marshmallow Schema"
   ]
  },
  {
   "cell_type": "code",
   "execution_count": null,
   "metadata": {},
   "outputs": [],
   "source": [
    "class SurveySchema(Schema):\n",
    "    # Ignore unknown fields\n",
    "    class Meta:\n",
    "        unknown = EXCLUDE\n",
    "        ordered = True\n",
    "    \n",
    "    ID = fields.Int(required=True, data_key=\"SurveyId\")\n",
    "    API = fields.Str(validate=validate.Length(max=32))\n",
    "    WKID = fields.Str(validate=validate.Length(max=32))\n",
    "    FIPS = fields.Str(validate=validate.Length(max=4))\n",
    "    STATUS_CODE = fields.Str(validate=validate.Length(1), required=True)\n",
    "    \n",
    "    stations = fields.Nested(\"SurveyReportSchema\", many=True\n",
    "                             , exclude=(\"DirectionalSurveyId\", \"survey\"))\n",
    "\n",
    "class SurveyReportSchema(Schema):\n",
    "    class Meta:\n",
    "        unknown = EXCLUDE\n",
    "        ordered = True\n",
    "\n",
    "    ID = fields.Int(required=True, data_key=\"SurveyReportId\")\n",
    "    DirectionalSurveyId = fields.Int(required=True)\n",
    "    Azimuth = fields.Float()\n",
    "    MD = fields.Float()\n",
    "    Inclination = fields.Float()\n",
    "    STATUS_CODE = fields.Str(validate=validate.Length(1), required=True)\n",
    "    \n",
    "    survey = fields.Nested(SurveySchema, many=False, exclude=(\"stations\",))\n",
    "    \n",
    "survey_serdes = SurveySchema()  \n",
    "report_serdes = SurveyReportSchema()"
   ]
  },
  {
   "cell_type": "markdown",
   "metadata": {},
   "source": [
    "# Bind Engine to Schema and Create Session, Connection"
   ]
  },
  {
   "cell_type": "code",
   "execution_count": null,
   "metadata": {},
   "outputs": [],
   "source": [
    "Base.metadata.bind = engine\n",
    "DBSession = sessionmaker(bind=engine)\n",
    "session = DBSession()\n",
    "conn = engine.connect()"
   ]
  },
  {
   "cell_type": "markdown",
   "metadata": {},
   "source": [
    "# Select"
   ]
  },
  {
   "cell_type": "code",
   "execution_count": null,
   "metadata": {},
   "outputs": [],
   "source": [
    "my_surveys = session.query(Survey) \\\n",
    "                .options(selectinload(Survey.stations))\\\n",
    "                .filter(Survey.STATUS_CODE.in_(['N', 'C']))\\\n",
    "                .filter(Survey.ID < 2)\\\n",
    "                .filter(Survey.stations.any())\\\n",
    "                .all()\n",
    "\n",
    "try:\n",
    "    for s in my_surveys:\n",
    "        print(f\"S: {type(s)}, {s}\")\n",
    "        s_json = survey_serdes.dump(s)\n",
    "        pprint(s_json, indent=2)\n",
    "        \n",
    "        for sr in s.stations:\n",
    "            print(f\"SR: {type(sr)}, {sr}\")\n",
    "            sr_json = report_serdes.dump(sr)\n",
    "            pprint(sr_json, indent=2)\n",
    "        \n",
    "except Exception as e:\n",
    "    print(f\"{e}\")"
   ]
  },
  {
   "cell_type": "code",
   "execution_count": null,
   "metadata": {},
   "outputs": [],
   "source": [
    "my_surveys = session.query(Survey)\\\n",
    "                .join(SurveyReport)\\\n",
    "                .filter(Survey.STATUS_CODE.in_(['N', 'C']))\\\n",
    "                .filter(Survey.WKID.like('WKID2%'))\\\n",
    "                .filter(SurveyReport.Azimuth >= 7)\\\n",
    "                .all()\n",
    "\n",
    "try:\n",
    "    for s in my_surveys:\n",
    "        print(f\"S: {type(s)}, {s}\")\n",
    "        s_json = survey_serdes.dump(s)\n",
    "        pprint(s_json, indent=2)\n",
    "        \n",
    "        for sr in s.stations:\n",
    "            print(f\"SR: {type(sr)}, {sr}\")\n",
    "            sr_json = report_serdes.dump(sr)\n",
    "            pprint(sr_json, indent=2)\n",
    "        \n",
    "except Exception as e:\n",
    "    print(f\"{e}\")"
   ]
  }
 ],
 "metadata": {
  "kernelspec": {
   "display_name": "Python 3",
   "language": "python",
   "name": "python3"
  },
  "language_info": {
   "codemirror_mode": {
    "name": "ipython",
    "version": 3
   },
   "file_extension": ".py",
   "mimetype": "text/x-python",
   "name": "python",
   "nbconvert_exporter": "python",
   "pygments_lexer": "ipython3",
   "version": "3.8.5"
  }
 },
 "nbformat": 4,
 "nbformat_minor": 2
}
