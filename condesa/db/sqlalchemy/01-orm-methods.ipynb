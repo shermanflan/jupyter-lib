{
 "cells": [
  {
   "cell_type": "markdown",
   "metadata": {},
   "source": [
    "# Basic SQLAlchemy ORM manipulations"
   ]
  },
  {
   "cell_type": "code",
   "execution_count": null,
   "metadata": {},
   "outputs": [],
   "source": [
    "import json\n",
    "from os import environ\n",
    "import pyodbc\n",
    "import urllib\n",
    "import pandas as pd\n",
    "\n",
    "from sqlalchemy import create_engine, text, func\n",
    "from sqlalchemy.ext.declarative import declarative_base\n",
    "from sqlalchemy.orm import sessionmaker, aliased, selectinload, joinedload\n",
    "from sqlalchemy import Column, ForeignKey, Integer, String, Float\n",
    "from sqlalchemy.orm import relationship, backref\n",
    "from sqlalchemy.orm.exc import MultipleResultsFound\n",
    "from sqlalchemy.sql import exists"
   ]
  },
  {
   "cell_type": "markdown",
   "metadata": {},
   "source": [
    "# Setup"
   ]
  },
  {
   "cell_type": "code",
   "execution_count": null,
   "metadata": {},
   "outputs": [],
   "source": [
    "driver = environ.get('SQL_DRIVER', '{ODBC Driver 17 for SQL Server}')\n",
    "host = environ.get('SQL_HOST', 'sql-fabulous')\n",
    "db = environ.get('SQL_DB', 'ScratchDB')\n",
    "user = environ.get('SQL_USER', 'sa')\n",
    "pw = environ.get('SQL_PASSWORD', 'HelloWorld1')\n",
    "\n",
    "con_str = f'DRIVER={driver};SERVER={host};DATABASE={db};UID={user};PWD={pw}'\n",
    "\n",
    "params = urllib.parse.quote_plus(con_str)  \n",
    "\n",
    "# 'echo' emits generated sql\n",
    "engine = create_engine(f\"mssql+pyodbc:///?odbc_connect={params}\", echo=True)"
   ]
  },
  {
   "cell_type": "markdown",
   "metadata": {},
   "source": [
    "# Define the catalog of classes"
   ]
  },
  {
   "cell_type": "code",
   "execution_count": null,
   "metadata": {},
   "outputs": [],
   "source": [
    "Base = declarative_base()\n",
    "\n",
    "\n",
    "class Survey(Base):\n",
    "    __tablename__ = 'DirectionalSurvey'\n",
    "    \n",
    "    ID = Column(Integer, autoincrement=False, primary_key=True)\n",
    "    API = Column(String(32), nullable=True)\n",
    "    WKID = Column(String(32), nullable=True)\n",
    "    FIPS = Column(String(4), nullable=True)\n",
    "    STATUS_CODE = Column(String(1), nullable=False)\n",
    "\n",
    "    def __repr__(self):\n",
    "        return f\"Survey(ID={self.ID}, API={self.API}, STATUS={self.STATUS_CODE})\"\n",
    "\n",
    "class SurveyReport(Base):\n",
    "    __tablename__ = 'SurveyReport'\n",
    "    \n",
    "    ID = Column(Integer, autoincrement=False, primary_key=True)\n",
    "    DirectionalSurveyId = Column(Integer, ForeignKey('DirectionalSurvey.ID'), nullable=False)\n",
    "    Azimuth = Column(Float, nullable=True)\n",
    "    MD = Column(Float, nullable=True)\n",
    "    Inclination = Column(Float, nullable=True)\n",
    "    STATUS_CODE = Column(String(1), nullable=False)\n",
    "\n",
    "    # Relationship\n",
    "    survey = relationship(Survey, backref=backref('stations', uselist=True))\n",
    "    #survey = relationship(Survey, back_populates='stations')\n",
    "\n",
    "    def __repr__(self):\n",
    "        return f\"Report(ID={self.ID}, FK={self.DirectionalSurveyId}, STATUS={self.STATUS_CODE})\"\n",
    "    \n",
    "\n",
    "# For SQL Core: set mapped tables to local vars so that full SQL metadata is available.\n",
    "surveys = Survey.__table__\n",
    "points = SurveyReport.__table__"
   ]
  },
  {
   "cell_type": "markdown",
   "metadata": {},
   "source": [
    "# Inspect underlying metadata"
   ]
  },
  {
   "cell_type": "code",
   "execution_count": null,
   "metadata": {},
   "outputs": [],
   "source": [
    "SurveyReport.__table__"
   ]
  },
  {
   "cell_type": "markdown",
   "metadata": {},
   "source": [
    "# Create Schema"
   ]
  },
  {
   "cell_type": "code",
   "execution_count": null,
   "metadata": {},
   "outputs": [],
   "source": [
    "Base.metadata.create_all(engine, checkfirst=True)"
   ]
  },
  {
   "cell_type": "markdown",
   "metadata": {},
   "source": [
    "# Create Bean"
   ]
  },
  {
   "cell_type": "code",
   "execution_count": null,
   "metadata": {},
   "outputs": [],
   "source": [
    "# Automatically creates a constructor accepting kwargs\n",
    "survey4 = Survey(ID=4, API='API4', WKID='0004', STATUS_CODE='C')\n",
    "survey4"
   ]
  },
  {
   "cell_type": "markdown",
   "metadata": {},
   "source": [
    "# Create session - interface to the DB"
   ]
  },
  {
   "cell_type": "code",
   "execution_count": null,
   "metadata": {},
   "outputs": [],
   "source": [
    "Session = sessionmaker(bind=engine)\n",
    "session = Session()"
   ]
  },
  {
   "cell_type": "markdown",
   "metadata": {},
   "source": [
    "# Insert"
   ]
  },
  {
   "cell_type": "code",
   "execution_count": null,
   "metadata": {},
   "outputs": [],
   "source": [
    "session.add(survey4)\n",
    "#session.rollback()\n",
    "session.commit()"
   ]
  },
  {
   "cell_type": "markdown",
   "metadata": {},
   "source": [
    "# Update"
   ]
  },
  {
   "cell_type": "code",
   "execution_count": null,
   "metadata": {},
   "outputs": [],
   "source": [
    "survey_tmp = session.query(Survey).filter_by(API = 'API4').first()\n",
    "survey_tmp.WKID = 'WKID4'\n",
    "survey_tmp.FIPS = '0004'\n",
    "\n",
    "session.add_all([survey_tmp])\n",
    "session.commit()"
   ]
  },
  {
   "cell_type": "markdown",
   "metadata": {},
   "source": [
    "# Querying"
   ]
  },
  {
   "cell_type": "code",
   "execution_count": null,
   "metadata": {},
   "outputs": [],
   "source": [
    "for i in session.query(Survey).order_by(Survey.ID):\n",
    "    print(f\"{i.ID}, {i.API}\")"
   ]
  },
  {
   "cell_type": "code",
   "execution_count": null,
   "metadata": {},
   "outputs": [],
   "source": [
    "for id, api in session.query(Survey.ID, Survey.API):\n",
    "    print(f\"{id}, {api}\")"
   ]
  },
  {
   "cell_type": "code",
   "execution_count": null,
   "metadata": {},
   "outputs": [],
   "source": [
    "for row in session.query(Survey, Survey.ID).all():\n",
    "    print(f\"{row.Survey}, {row.Survey.stations}, {row.ID}\")"
   ]
  },
  {
   "cell_type": "code",
   "execution_count": null,
   "metadata": {},
   "outputs": [],
   "source": [
    "for row in session.query(Survey, Survey.ID.label('SurveyID')).all(): # field aliasing\n",
    "    print(f\"{row.Survey}, {row.SurveyID}\")"
   ]
  },
  {
   "cell_type": "code",
   "execution_count": null,
   "metadata": {},
   "outputs": [],
   "source": [
    "# table aliasing\n",
    "DirectionalSurvey = aliased(Survey, name='DirectionalSurvey')\n",
    "for row in session.query(DirectionalSurvey, DirectionalSurvey.ID):\n",
    "    print(f\"{row.DirectionalSurvey}, {row.ID}\")"
   ]
  },
  {
   "cell_type": "code",
   "execution_count": null,
   "metadata": {},
   "outputs": [],
   "source": [
    "# Can use python slicer to limit results.\n",
    "for row in session.query(Survey).order_by(Survey.ID)[-1::-1]:\n",
    "    print(f\"{row.ID}\")"
   ]
  },
  {
   "cell_type": "code",
   "execution_count": null,
   "metadata": {},
   "outputs": [],
   "source": [
    "# Where clause\n",
    "for s in session.query(Survey).filter(Survey.API == \"API3\"):\n",
    "    print(f\"{s}\")"
   ]
  },
  {
   "cell_type": "code",
   "execution_count": null,
   "metadata": {},
   "outputs": [],
   "source": [
    "# Where clause AND\n",
    "# ilike applies a lower to both sides\n",
    "for s in session.query(Survey)\\\n",
    "            .filter(Survey.API.startswith(\"API\"))\\\n",
    "            .filter(Survey.WKID.like(\"WK%\"))\\\n",
    "            .filter(Survey.WKID.ilike(\"WK%\"))\\\n",
    "            .filter(Survey.STATUS_CODE.in_(\"N\")):\n",
    "    print(f\"{s}\")"
   ]
  },
  {
   "cell_type": "code",
   "execution_count": null,
   "metadata": {},
   "outputs": [],
   "source": [
    "# IN/NOT IN Sub-query\n",
    "for s in session.query(Survey)\\\n",
    "            .filter(~Survey.ID.in_(\n",
    "                session.query(SurveyReport.DirectionalSurveyId)\n",
    "            )):\n",
    "    print(f\"{s}\")"
   ]
  },
  {
   "cell_type": "code",
   "execution_count": null,
   "metadata": {},
   "outputs": [],
   "source": [
    "for sr in session.query(SurveyReport):\n",
    "    print(f\"{sr}\")"
   ]
  },
  {
   "cell_type": "markdown",
   "metadata": {},
   "source": [
    "# Other query operators\n",
    "- \"==\" is the same as \"is_\"\n",
    "- \"!=\" is the same as \"isnot\"\n",
    "- Compound filters are the same as \"and_\"\n",
    "- \"or_\" can also be used\n",
    "- \"\"== None\" is the same as \"IS / IS NOT NULL\"\n",
    "- contains()"
   ]
  },
  {
   "cell_type": "markdown",
   "metadata": {},
   "source": [
    "# Result Operators all, first, one"
   ]
  },
  {
   "cell_type": "code",
   "execution_count": null,
   "metadata": {},
   "outputs": [],
   "source": [
    "for r in session.query(Survey).all(): # returns list\n",
    "    print(r)"
   ]
  },
  {
   "cell_type": "code",
   "execution_count": null,
   "metadata": {},
   "outputs": [],
   "source": [
    "r = session.query(Survey).first() # returns single tuple\n",
    "print(r)"
   ]
  },
  {
   "cell_type": "code",
   "execution_count": null,
   "metadata": {},
   "outputs": [],
   "source": [
    "try:\n",
    "    # Fails if more than one exists \n",
    "    # \"one_or_none()\" returns None instead of failing.\n",
    "    r = session.query(Survey).one() \n",
    "except MultipleResultsFound as e:\n",
    "    print(e)"
   ]
  },
  {
   "cell_type": "markdown",
   "metadata": {},
   "source": [
    "# Bind Parameters"
   ]
  },
  {
   "cell_type": "code",
   "execution_count": null,
   "metadata": {},
   "outputs": [],
   "source": [
    "for s in session.query(Survey).filter(text(\"id<:rec and API=:api\")).\\\n",
    "                            params(rec=4, api='API2'):\n",
    "    print(s)"
   ]
  },
  {
   "cell_type": "markdown",
   "metadata": {},
   "source": [
    "# Literal SQL"
   ]
  },
  {
   "cell_type": "code",
   "execution_count": null,
   "metadata": {},
   "outputs": [],
   "source": [
    "s = session.query(Survey).from_statement(\n",
    "    text(\"SELECT ID, API FROM DirectionalSurvey where API=:api\")).\\\n",
    "        params(api='API1').first()\n",
    "\n",
    "s"
   ]
  },
  {
   "cell_type": "markdown",
   "metadata": {},
   "source": [
    "# COUNT()"
   ]
  },
  {
   "cell_type": "code",
   "execution_count": null,
   "metadata": {},
   "outputs": [],
   "source": [
    "g = session.query(func.count(Survey.STATUS_CODE), Survey.STATUS_CODE)\\\n",
    "        .group_by(Survey.STATUS_CODE).all()\n",
    "g"
   ]
  },
  {
   "cell_type": "code",
   "execution_count": null,
   "metadata": {},
   "outputs": [],
   "source": [
    "session.query(func.count(Survey.ID)).scalar() # count(*)"
   ]
  },
  {
   "cell_type": "markdown",
   "metadata": {},
   "source": [
    "# Navigating Relations"
   ]
  },
  {
   "cell_type": "code",
   "execution_count": null,
   "metadata": {},
   "outputs": [],
   "source": [
    "r = session.query(Survey).first() # returns single tuple\n",
    "print(r.stations[0].survey.API)"
   ]
  },
  {
   "cell_type": "markdown",
   "metadata": {},
   "source": [
    "# Joins"
   ]
  },
  {
   "cell_type": "code",
   "execution_count": null,
   "metadata": {},
   "outputs": [],
   "source": [
    "# Old SQL cross-join style\n",
    "for s, sr in session.query(Survey, SurveyReport).\\\n",
    "                filter(Survey.ID == SurveyReport.DirectionalSurveyId).\\\n",
    "                filter(Survey.STATUS_CODE.in_(['N'])):\n",
    "    print(f\"{s}, {sr}\")"
   ]
  },
  {
   "cell_type": "code",
   "execution_count": null,
   "metadata": {},
   "outputs": [],
   "source": [
    "# Standard style\n",
    "# join can be explicit: \n",
    "# join(SurveyReport, Survey.ID == SurveyReport.DirectionalSurveyId)\n",
    "# outerjoin() also available\n",
    "# Use table aliasing to join to the same table more than once.\n",
    "for row in session.query(Survey).\\\n",
    "                join(SurveyReport).\\\n",
    "                filter(Survey.STATUS_CODE.in_(['N'])):\n",
    "    print(f\"{row}, {row.stations}\")"
   ]
  },
  {
   "cell_type": "markdown",
   "metadata": {},
   "source": [
    "# Sub-queries"
   ]
  },
  {
   "cell_type": "code",
   "execution_count": null,
   "metadata": {},
   "outputs": [],
   "source": [
    "# Build named sub-query\n",
    "stmt = session.query(SurveyReport.DirectionalSurveyId, func.count('*').\\\n",
    "            label('report_count')).\\\n",
    "            group_by(SurveyReport.DirectionalSurveyId).subquery()\n",
    "\n",
    "# Join to parent table\n",
    "for u, count in session.query(Survey, stmt.c.report_count).\\\n",
    "                    outerjoin(stmt, Survey.ID == stmt.c.DirectionalSurveyId).\\\n",
    "                    order_by(Survey.ID):\n",
    "    print(u, count)"
   ]
  },
  {
   "cell_type": "code",
   "execution_count": null,
   "metadata": {},
   "outputs": [],
   "source": [
    "# Exists/Not Exists use \"~\"\n",
    "# Use has() for many to 1 relations\n",
    "for s in session.query(Survey).\\\n",
    "        filter(Survey.stations.any(SurveyReport.STATUS_CODE.in_(['N', 'C']))): # or any()\n",
    "    print(s)"
   ]
  },
  {
   "cell_type": "markdown",
   "metadata": {},
   "source": [
    "# Optimizations"
   ]
  },
  {
   "cell_type": "code",
   "execution_count": null,
   "metadata": {},
   "outputs": [],
   "source": [
    "# Loads all related objects eagerly\n",
    "s1 = session.query(Survey).\\\n",
    "        options(selectinload(Survey.stations)).\\\n",
    "        filter(Survey.API == 'API1').one()\n",
    "\n",
    "s1"
   ]
  },
  {
   "cell_type": "code",
   "execution_count": null,
   "metadata": {},
   "outputs": [],
   "source": [
    "# Loads all related objects eagerly\n",
    "jack = session.query(Survey).\\\n",
    "        options(joinedload(Survey.stations)).\\\n",
    "        filter_by(API='API1').one()\n",
    "jack"
   ]
  },
  {
   "cell_type": "markdown",
   "metadata": {},
   "source": [
    "# Deletes"
   ]
  },
  {
   "cell_type": "code",
   "execution_count": null,
   "metadata": {},
   "outputs": [],
   "source": [
    "sr1 = session.query(SurveyReport)\\\n",
    "        .filter(SurveyReport.ID == 6)\\\n",
    "        .one()\n",
    "sr1"
   ]
  },
  {
   "cell_type": "code",
   "execution_count": null,
   "metadata": {},
   "outputs": [],
   "source": [
    "session.delete(sr1)"
   ]
  },
  {
   "cell_type": "code",
   "execution_count": null,
   "metadata": {},
   "outputs": [],
   "source": [
    "session.commit()"
   ]
  }
 ],
 "metadata": {
  "kernelspec": {
   "display_name": "Python 3",
   "language": "python",
   "name": "python3"
  },
  "language_info": {
   "codemirror_mode": {
    "name": "ipython",
    "version": 3
   },
   "file_extension": ".py",
   "mimetype": "text/x-python",
   "name": "python",
   "nbconvert_exporter": "python",
   "pygments_lexer": "ipython3",
   "version": "3.8.5"
  }
 },
 "nbformat": 4,
 "nbformat_minor": 2
}
