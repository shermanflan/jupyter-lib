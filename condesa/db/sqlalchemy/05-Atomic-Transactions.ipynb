{
 "cells": [
  {
   "cell_type": "code",
   "execution_count": null,
   "metadata": {},
   "outputs": [],
   "source": [
    "from os import environ\n",
    "import urllib\n",
    "import json\n",
    "\n",
    "from sqlalchemy import create_engine, inspect\n",
    "from sqlalchemy import Table, Column, ForeignKey, Integer, String, Float, MetaData\n",
    "from sqlalchemy.ext.declarative import declarative_base\n",
    "from sqlalchemy.orm import relationship, backref\n",
    "from sqlalchemy.orm import sessionmaker, selectinload\n",
    "from sqlalchemy.sql import union, select, and_, or_, not_, text\n",
    "from sqlalchemy.sql import bindparam\n",
    "from sqlalchemy.sql.functions import coalesce\n"
   ]
  },
  {
   "cell_type": "markdown",
   "metadata": {},
   "source": [
    "# Connect"
   ]
  },
  {
   "cell_type": "code",
   "execution_count": null,
   "metadata": {},
   "outputs": [],
   "source": [
    "driver = environ.get('SQL_DRIVER', '{ODBC Driver 17 for SQL Server}')\n",
    "host = environ.get('SQL_HOST', 'sql-fabulous')\n",
    "db = environ.get('SQL_DB', 'ScratchDB')\n",
    "user = environ.get('SQL_USER', 'sa')\n",
    "pw = environ.get('SQL_PASSWORD', 'HelloWorld1')\n",
    "con_str = f'DRIVER={driver};SERVER={host};DATABASE={db};UID={user};PWD={pw}'\n",
    "\n",
    "params = urllib.parse.quote_plus(con_str)\n",
    "sql_engine = create_engine(f\"mssql+pyodbc:///?odbc_connect={params}\"\n",
    "                           , echo=True) # echo's emitted sql"
   ]
  },
  {
   "cell_type": "markdown",
   "metadata": {},
   "source": [
    "# Define Schema"
   ]
  },
  {
   "cell_type": "code",
   "execution_count": null,
   "metadata": {},
   "outputs": [],
   "source": [
    "Base = declarative_base()\n",
    "\n",
    "class Survey(Base):\n",
    "    __tablename__ = 'DirectionalSurvey2'\n",
    "\n",
    "    ID = Column(Integer, autoincrement=True, primary_key=True)\n",
    "    API = Column(String(32), nullable=True)\n",
    "    WKID = Column(String(32), nullable=True)\n",
    "    FIPS = Column(String(4), nullable=True)\n",
    "    STATUS_CODE = Column(String(1), nullable=False)\n",
    "\n",
    "    def __repr__(self):\n",
    "        return f\"Survey(ID={self.ID}, API={self.API}, WKID={self.WKID}, Points={self.stations})\"\n",
    "\n",
    "class SurveyReport(Base):\n",
    "    __tablename__ = 'SurveyReport2'\n",
    "\n",
    "    ID = Column(Integer, autoincrement=True, primary_key=True)\n",
    "    DirectionalSurveyId = Column(Integer, ForeignKey('DirectionalSurvey2.ID'), nullable=False)\n",
    "    Azimuth = Column(Float, nullable=True)\n",
    "    MD = Column(Float, nullable=True)\n",
    "    Inclination = Column(Float, nullable=True)\n",
    "    STATUS_CODE = Column(String(1), nullable=False)\n",
    "    survey = relationship(Survey, backref=backref('stations', uselist=True))\n",
    "\n",
    "    def __repr__(self):\n",
    "        return f\"Report(ID={self.ID}, FK={self.DirectionalSurveyId}, STATUS={self.STATUS_CODE})\"\n",
    "\n",
    "# Set mapped tables to local vars so that full SQL metadata is available.\n",
    "surveys = Survey.__table__\n",
    "points = SurveyReport.__table__"
   ]
  },
  {
   "cell_type": "markdown",
   "metadata": {},
   "source": [
    "# Bind Engine to Schema and Create Session, Connection"
   ]
  },
  {
   "cell_type": "code",
   "execution_count": null,
   "metadata": {},
   "outputs": [],
   "source": [
    "Base.metadata.bind = sql_engine\n",
    "DBSession = sessionmaker(bind=sql_engine)\n",
    "session = DBSession()\n",
    "conn = sql_engine.connect()"
   ]
  },
  {
   "cell_type": "markdown",
   "metadata": {},
   "source": [
    "# Create Schema"
   ]
  },
  {
   "cell_type": "code",
   "execution_count": null,
   "metadata": {},
   "outputs": [],
   "source": [
    "Base.metadata.drop_all()\n",
    "Base.metadata.create_all(sql_engine, checkfirst=True)"
   ]
  },
  {
   "cell_type": "markdown",
   "metadata": {},
   "source": [
    "# Create Bean"
   ]
  },
  {
   "cell_type": "markdown",
   "metadata": {},
   "source": [
    "## Atomic Commits (parent/child)"
   ]
  },
  {
   "cell_type": "code",
   "execution_count": null,
   "metadata": {},
   "outputs": [],
   "source": [
    "try:\n",
    "    survey1 = Survey(API='API1', WKID='WKID1', FIPS = '0001', STATUS_CODE='C')\n",
    "\n",
    "    survey_report1 = SurveyReport(DirectionalSurveyId=survey1.ID, Azimuth=1, MD=1, Inclination=1, STATUS_CODE='C')\n",
    "    survey_report2 = SurveyReport(DirectionalSurveyId=survey1.ID, Azimuth=2, MD=2, Inclination=1, STATUS_CODE='C')\n",
    "    survey_report3 = SurveyReport(DirectionalSurveyId=survey1.ID, Azimuth=3, MD=3, Inclination=1, STATUS_CODE='C')\n",
    "\n",
    "    survey1.stations.append(survey_report1)\n",
    "    survey1.stations.append(survey_report2)\n",
    "    survey1.stations.append(survey_report3)\n",
    "\n",
    "    session.add(survey1)\n",
    "    \n",
    "    survey2 = Survey(API='API2', WKID='WKID2', FIPS = '0002', STATUS_CODE='C')\n",
    "\n",
    "    survey_report2b = SurveyReport(DirectionalSurveyId=survey2.ID, Azimuth=2, MD=2, Inclination=2, STATUS_CODE='N')\n",
    "    survey_report3b = SurveyReport(DirectionalSurveyId=survey2.ID, Azimuth=3, MD=3, Inclination=2, STATUS_CODE='N')\n",
    "    survey_report4b = SurveyReport(DirectionalSurveyId=survey2.ID, Azimuth=4, MD=4, Inclination=2, STATUS_CODE='N')\n",
    "\n",
    "    survey2.stations = [survey_report2b, survey_report3b, survey_report4b]\n",
    "\n",
    "    session.add(survey2)\n",
    "    \n",
    "    survey3 = Survey(API='API3', WKID='WKID3', FIPS = '0003', STATUS_CODE='N')\n",
    "\n",
    "    survey_report2c = SurveyReport(DirectionalSurveyId=survey3.ID, Azimuth=2, MD=2, Inclination=2, STATUS_CODE='N')\n",
    "    survey_report3c = SurveyReport(DirectionalSurveyId=survey3.ID, Azimuth=3, MD=3, Inclination=2, STATUS_CODE='N')\n",
    "    survey_report4c = SurveyReport(DirectionalSurveyId=survey3.ID, Azimuth=4, MD=4, Inclination=2, STATUS_CODE='N')\n",
    "\n",
    "    survey3.stations.extend([survey_report2c, survey_report3c, survey_report4c])\n",
    "    \n",
    "    session.add_all([survey3])\n",
    "    session.commit()\n",
    "\n",
    "#     session.add_all([survey_report1])\n",
    "#     session.commit()\n",
    "\n",
    "except Exception as e:\n",
    "    print(e)\n",
    "    session.rollback()"
   ]
  },
  {
   "cell_type": "markdown",
   "metadata": {},
   "source": [
    "# Select Using SQL ORM"
   ]
  },
  {
   "cell_type": "code",
   "execution_count": null,
   "metadata": {},
   "outputs": [],
   "source": [
    "my_surveys = session.query(Survey) \\\n",
    "                .options(selectinload(Survey.stations))\\\n",
    "                .filter(Survey.STATUS_CODE.in_(['N', 'C']))\\\n",
    "                .filter(Survey.stations.any())\\\n",
    "                .all()\n",
    "\n",
    "# List of Survey\n",
    "try:\n",
    "    for s in my_surveys:\n",
    "        print(f\"S: {s.ID}, {s.stations}\")\n",
    "        in_state = inspect(s)\n",
    "        \n",
    "        for ar in in_state.attrs:\n",
    "            print(f\"lv: {ar.loaded_value}, v:{ar.value}\")\n",
    "        #print(s.__table__.columns)\n",
    "        \n",
    "#         for sr in s.stations:\n",
    "#             print(f\"SR: {sr.ID}, {sr.STATUS_CODE}\")\n",
    "#             print(type(sr))\n",
    "#             print(sr.__table__.columns)\n",
    "            \n",
    "except Exception as e:\n",
    "    print(f\"{e}\")\n"
   ]
  },
  {
   "cell_type": "markdown",
   "metadata": {},
   "source": [
    "# Select Using SQL Core"
   ]
  },
  {
   "cell_type": "code",
   "execution_count": null,
   "metadata": {
    "scrolled": true
   },
   "outputs": [],
   "source": [
    "stmt = select([surveys, points.c.ID.label('ReportId')])\\\n",
    "        .select_from(surveys.join(points))\\\n",
    "        .where(\n",
    "            and_(\n",
    "                surveys.c.API.like('API%'),\n",
    "                points.c.STATUS_CODE.in_(['C', 'N']),\n",
    "                points.c.Azimuth >= 6\n",
    "            )\n",
    "        )\n",
    "\n",
    "cursor = conn.execute(stmt)\n",
    "\n",
    "# List of RowProxy\n",
    "for r in cursor:\n",
    "    print(f\"{type(r)}, {r.keys()}, {r[surveys.c.ID]}, {r['ReportId']}\")\n",
    "    print(json.dumps(r.items()))\n",
    "    \n",
    "cursor.close()"
   ]
  },
  {
   "cell_type": "code",
   "execution_count": null,
   "metadata": {},
   "outputs": [],
   "source": [
    "stmt2 = select([surveys, points.c.Azimuth])\\\n",
    "        .select_from(surveys.join(points))\\\n",
    "        .where(\n",
    "            and_(\n",
    "                surveys.c.API.like('API%'),\n",
    "                points.c.STATUS_CODE.in_(['C', 'N']),\n",
    "                points.c.Azimuth >= 6\n",
    "            )\n",
    "        )\n",
    "\n",
    "try:\n",
    "    cursor = conn.execute(stmt2)\n",
    "\n",
    "    # List of RowProxy\n",
    "    for r in cursor:\n",
    "        print(f\"K:{r.keys()}, KV: {r.items()}\")\n",
    "        print(json.dumps(r.items()))\n",
    "        \n",
    "except Exception as e:\n",
    "    print(f\"{e}\")\n",
    "finally:\n",
    "    cursor.close()"
   ]
  }
 ],
 "metadata": {
  "kernelspec": {
   "display_name": "Python 3",
   "language": "python",
   "name": "python3"
  },
  "language_info": {
   "codemirror_mode": {
    "name": "ipython",
    "version": 3
   },
   "file_extension": ".py",
   "mimetype": "text/x-python",
   "name": "python",
   "nbconvert_exporter": "python",
   "pygments_lexer": "ipython3",
   "version": "3.8.5"
  }
 },
 "nbformat": 4,
 "nbformat_minor": 2
}
