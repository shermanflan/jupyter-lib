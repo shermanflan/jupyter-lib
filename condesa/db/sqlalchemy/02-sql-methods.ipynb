{
 "cells": [
  {
   "cell_type": "markdown",
   "metadata": {},
   "source": [
    "# Basic SQLAlchemy SQL Expressions"
   ]
  },
  {
   "cell_type": "code",
   "execution_count": null,
   "metadata": {},
   "outputs": [],
   "source": [
    "import urllib\n",
    "from os import environ\n",
    "\n",
    "from sqlalchemy import create_engine, func, desc, cast, JSON\n",
    "from sqlalchemy import type_coerce\n",
    "from sqlalchemy import Table, Column, Integer, String, MetaData, ForeignKey\n",
    "from sqlalchemy.sql import union, select, and_, or_, not_, text\n",
    "from sqlalchemy.sql import bindparam\n",
    "from sqlalchemy.sql.functions import coalesce"
   ]
  },
  {
   "cell_type": "markdown",
   "metadata": {},
   "source": [
    "# Setup"
   ]
  },
  {
   "cell_type": "code",
   "execution_count": null,
   "metadata": {},
   "outputs": [],
   "source": [
    "driver = environ.get('SQL_DRIVER', '{ODBC Driver 17 for SQL Server}')\n",
    "host = environ.get('SQL_HOST', 'sql-fabulous')\n",
    "db = environ.get('SQL_DB', 'ScratchDB')\n",
    "user = environ.get('SQL_USER', 'sa')\n",
    "pw = environ.get('SQL_PASSWORD', 'HelloWorld1')\n",
    "\n",
    "con_str = f'DRIVER={driver};SERVER={host};DATABASE={db};UID={user};PWD={pw}'\n",
    "\n",
    "params = urllib.parse.quote_plus(con_str)  \n",
    "\n",
    "# 'echo' emits generated sql\n",
    "engine = create_engine(f\"mssql+pyodbc:///?odbc_connect={params}\", echo=True)"
   ]
  },
  {
   "cell_type": "markdown",
   "metadata": {},
   "source": [
    "# Define Table Schema"
   ]
  },
  {
   "cell_type": "code",
   "execution_count": null,
   "metadata": {},
   "outputs": [],
   "source": [
    "metadata = MetaData()\n",
    "\n",
    "users = Table('users', metadata,\n",
    "            Column('id', Integer, autoincrement=False, primary_key=True),\n",
    "            Column('name', String(50), nullable=False),\n",
    "            Column('fullname', String(255), nullable=False),\n",
    "        )\n",
    "\n",
    "addresses = Table('addresses', metadata,\n",
    "                Column('id', Integer, autoincrement=False, primary_key=True),\n",
    "                Column('user_id', None, ForeignKey('users.id')),\n",
    "                Column('email_address', String(255), nullable=False)\n",
    "            )\n",
    "\n",
    "metadata.create_all(engine, checkfirst=True)"
   ]
  },
  {
   "cell_type": "code",
   "execution_count": null,
   "metadata": {},
   "outputs": [],
   "source": [
    "# Establish connection\n",
    "conn = engine.connect()"
   ]
  },
  {
   "cell_type": "markdown",
   "metadata": {},
   "source": [
    "# Inserts"
   ]
  },
  {
   "cell_type": "code",
   "execution_count": null,
   "metadata": {},
   "outputs": [],
   "source": [
    "ins = users.insert().values(id=1, name='jack', fullname='Jack Jones')\n",
    "conn.execute(ins)"
   ]
  },
  {
   "cell_type": "code",
   "execution_count": null,
   "metadata": {},
   "outputs": [],
   "source": [
    "ins = users.insert()\n",
    "conn.execute(ins, id=2, name='wendy', fullname='Wendy Williams')"
   ]
  },
  {
   "cell_type": "code",
   "execution_count": null,
   "metadata": {},
   "outputs": [],
   "source": [
    "# Multi-insert\n",
    "# Can also update(), delete()\n",
    "conn.execute(addresses.insert(), [\n",
    "        {'id': 1, 'user_id': 1, 'email_address' : 'jack@yahoo.com'},\n",
    "        {'id': 2, 'user_id': 1, 'email_address' : 'jack@msn.com'},\n",
    "        {'id': 3, 'user_id': 2, 'email_address' : 'www@www.org'},\n",
    "        {'id': 4, 'user_id': 2, 'email_address' : 'wendy@aol.com'},\n",
    "])"
   ]
  },
  {
   "cell_type": "markdown",
   "metadata": {},
   "source": [
    "# Select"
   ]
  },
  {
   "cell_type": "markdown",
   "metadata": {},
   "source": [
    "### Make sure to close result cursors as below."
   ]
  },
  {
   "cell_type": "code",
   "execution_count": null,
   "metadata": {},
   "outputs": [],
   "source": [
    "s = select([users])\n",
    "result = conn.execute(s) # returns cursor\n",
    "\n",
    "for r in result:\n",
    "    print(r)\n",
    "    print(f\"name: {r['name']}; fullname: {r['fullname']}\")\n",
    "    print(f\"name: {r[1]}; fullname: {r[2]}\")\n",
    "    print(f\"name: {r[users.c.name]}, fullname:{r[users.c.fullname]}\")\n",
    "          \n",
    "result.close()"
   ]
  },
  {
   "cell_type": "code",
   "execution_count": null,
   "metadata": {},
   "outputs": [],
   "source": [
    "# Explicit columns\n",
    "s = select([users.c.name, users.c.fullname])\n",
    "result = conn.execute(s)\n",
    "\n",
    "for row in result:\n",
    "    print(row)\n",
    "    \n",
    "result.close()"
   ]
  },
  {
   "cell_type": "code",
   "execution_count": null,
   "metadata": {},
   "outputs": [],
   "source": [
    "# Cross join\n",
    "result = conn.execute(select([users, addresses]))\n",
    "for row in result:\n",
    "    print(row)\n",
    "    \n",
    "result.close()"
   ]
  },
  {
   "cell_type": "code",
   "execution_count": null,
   "metadata": {},
   "outputs": [],
   "source": [
    "# Inner join\n",
    "result = conn.execute(\n",
    "            select([users, addresses])\\\n",
    "            .where(users.c.id == addresses.c.user_id)\n",
    "        )\n",
    "for row in result:\n",
    "    print(row)\n",
    "    \n",
    "result.close()"
   ]
  },
  {
   "cell_type": "markdown",
   "metadata": {},
   "source": [
    "# Operators\n",
    "- \"== None\" becomes \"IS / IS NOT NULL\""
   ]
  },
  {
   "cell_type": "markdown",
   "metadata": {},
   "source": [
    "# Conjunctions"
   ]
  },
  {
   "cell_type": "code",
   "execution_count": null,
   "metadata": {},
   "outputs": [],
   "source": [
    "stmt = select([(users.c.fullname + \", \" + addresses.c.email_address).label('title')])\\\n",
    "        .where(and_(\n",
    "            users.c.name.like('j%'),\n",
    "            users.c.id == addresses.c.user_id,\n",
    "            or_(\n",
    "                addresses.c.email_address == 'wendy@aol.com',\n",
    "                addresses.c.email_address == 'jack@yahoo.com'\n",
    "            ),\n",
    "            not_(users.c.id > 5)\n",
    "        ))\n",
    "\n",
    "result = conn.execute(stmt)\n",
    "\n",
    "for r in result:\n",
    "    print(r)\n",
    "    \n",
    "result.close()"
   ]
  },
  {
   "cell_type": "code",
   "execution_count": null,
   "metadata": {},
   "outputs": [],
   "source": [
    "# Equivalent using multiple where clauses (method chaining)\n",
    "stmt = select([(users.c.fullname + \", \" + addresses.c.email_address).label('title')])\\\n",
    "        .where(users.c.name.like('j%'))\\\n",
    "        .where(users.c.id == addresses.c.user_id)\\\n",
    "        .where(or_(\n",
    "                addresses.c.email_address == 'wendy@aol.com',\n",
    "                addresses.c.email_address == 'jack@yahoo.com'\n",
    "            ))\\\n",
    "        .where(not_(users.c.id > 5))\n",
    "\n",
    "result = conn.execute(stmt)\n",
    "\n",
    "for r in result:\n",
    "    print(r)\n",
    "    \n",
    "result.close()"
   ]
  },
  {
   "cell_type": "markdown",
   "metadata": {},
   "source": [
    "# Explicit SQL with Parameters"
   ]
  },
  {
   "cell_type": "code",
   "execution_count": null,
   "metadata": {},
   "outputs": [],
   "source": [
    "# Explicit T-SQL\n",
    "s = text(\n",
    "    \"SELECT users.fullname + ', ' + addresses.email_address AS title \"\n",
    "    \"FROM users, addresses \"\n",
    "    \"WHERE users.id = addresses.user_id \"\n",
    "        \"AND users.name BETWEEN :x AND :y \"\n",
    "        \"AND (addresses.email_address LIKE :e1 \"\n",
    "                \"OR addresses.email_address LIKE :e2)\")\n",
    "# Or: s2 = s.bindparams(x='m', y='z', e1='%@aol.com', e2='%@msn.com')\n",
    "r = conn.execute(s, x='m', y='z', e1='%@aol.com', e2='%@msn.com')\n",
    "\n",
    "for row in r:\n",
    "    print(row)\n",
    "r.close()"
   ]
  },
  {
   "cell_type": "markdown",
   "metadata": {},
   "source": [
    "# Group By / Order By"
   ]
  },
  {
   "cell_type": "code",
   "execution_count": null,
   "metadata": {},
   "outputs": [],
   "source": [
    "stmt = select([addresses.c.user_id,\n",
    "                func.count(addresses.c.id).label('num_addresses')]).\\\n",
    "        group_by(addresses.c.user_id)\\\n",
    "        .order_by(addresses.c.user_id, desc(\"num_addresses\"))\n",
    "\n",
    "conn.execute(stmt).fetchall()"
   ]
  },
  {
   "cell_type": "markdown",
   "metadata": {},
   "source": [
    "# Table Aliasing / Sub-Queries"
   ]
  },
  {
   "cell_type": "code",
   "execution_count": null,
   "metadata": {},
   "outputs": [],
   "source": [
    "a1 = addresses.alias('a1')\n",
    "a2 = addresses.alias('a2')\n",
    "s = select([users]).\\\n",
    "    where(and_(\n",
    "            users.c.id == a1.c.user_id,\n",
    "            users.c.id == a2.c.user_id,\n",
    "            a1.c.email_address == 'jack@msn.com',\n",
    "            a2.c.email_address == 'jack@yahoo.com'\n",
    "    ))\n",
    "\n",
    "conn.execute(s).fetchall()"
   ]
  },
  {
   "cell_type": "code",
   "execution_count": null,
   "metadata": {},
   "outputs": [],
   "source": [
    "addresses_subq = s.alias()\n",
    "s = select([users.c.name])\\\n",
    "    .where(users.c.id == addresses_subq.c.id)\n",
    "conn.execute(s).fetchall()"
   ]
  },
  {
   "cell_type": "markdown",
   "metadata": {},
   "source": [
    "# Joins"
   ]
  },
  {
   "cell_type": "code",
   "execution_count": null,
   "metadata": {},
   "outputs": [],
   "source": [
    "# Can also use outerjoin()\n",
    "s = select([users.c.fullname])\\\n",
    "        .select_from(\n",
    "            users.join(addresses)\n",
    "    )\n",
    "conn.execute(s).fetchall()"
   ]
  },
  {
   "cell_type": "code",
   "execution_count": null,
   "metadata": {},
   "outputs": [],
   "source": [
    "s = select([users, addresses.c.email_address])\\\n",
    "        .select_from(\n",
    "            users.join(addresses,\n",
    "                addresses.c.email_address.like(users.c.name + '%'))\n",
    "    )\n",
    "conn.execute(s).fetchall()"
   ]
  },
  {
   "cell_type": "markdown",
   "metadata": {},
   "source": [
    "# Functions"
   ]
  },
  {
   "cell_type": "code",
   "execution_count": null,
   "metadata": {},
   "outputs": [],
   "source": [
    "print(func.now())\n",
    "print(func.current_timestamp())"
   ]
  },
  {
   "cell_type": "code",
   "execution_count": null,
   "metadata": {},
   "outputs": [],
   "source": [
    "conn.execute(\n",
    "    select([\n",
    "        func.max(addresses.c.email_address, type_=String).\n",
    "            label('maxemail')\n",
    "        ])\n",
    ").scalar()"
   ]
  },
  {
   "cell_type": "markdown",
   "metadata": {},
   "source": [
    "# Window Functions"
   ]
  },
  {
   "cell_type": "code",
   "execution_count": null,
   "metadata": {},
   "outputs": [],
   "source": [
    "s = select([\n",
    "    users.c.id,\n",
    "    func.row_number().over(order_by=users.c.name)\n",
    "])\n",
    "\n",
    "conn.execute(s).fetchall()"
   ]
  },
  {
   "cell_type": "code",
   "execution_count": null,
   "metadata": {},
   "outputs": [],
   "source": [
    "s = select([\n",
    "        users.c.id,\n",
    "        func.count(addresses.c.id).over(\n",
    "            partition_by=users.c.name,\n",
    "            order_by=users.c.id,\n",
    "            rows=(None, None)\n",
    "        )\n",
    "    ])\\\n",
    "    .select_from(\n",
    "        users.join(addresses))\n",
    "    \n",
    "conn.execute(s).fetchall()"
   ]
  },
  {
   "cell_type": "markdown",
   "metadata": {},
   "source": [
    "# Casts"
   ]
  },
  {
   "cell_type": "code",
   "execution_count": null,
   "metadata": {},
   "outputs": [],
   "source": [
    "s = select([cast(users.c.id, String)])\n",
    "conn.execute(s).fetchall()"
   ]
  },
  {
   "cell_type": "code",
   "execution_count": null,
   "metadata": {},
   "outputs": [],
   "source": [
    "# Coerces but does not cast.\n",
    "d = type_coerce({'some_key': {'foo': 'bar'}}, JSON)['some_key']\n",
    "d"
   ]
  },
  {
   "cell_type": "markdown",
   "metadata": {},
   "source": [
    "# Set Ops"
   ]
  },
  {
   "cell_type": "code",
   "execution_count": null,
   "metadata": {},
   "outputs": [],
   "source": [
    "# Also, union_all(), intersect(), except_()\n",
    "u = union(\n",
    "    addresses.select()\n",
    "        .where(addresses.c.email_address == 'foo@bar.com'),\n",
    "    addresses.select()\n",
    "        .where(addresses.c.email_address.like('%@yahoo.com')),\n",
    ").order_by(addresses.c.email_address)\n",
    "\n",
    "conn.execute(u).fetchall()"
   ]
  },
  {
   "cell_type": "markdown",
   "metadata": {},
   "source": [
    "# Scalar Selects"
   ]
  },
  {
   "cell_type": "code",
   "execution_count": null,
   "metadata": {},
   "outputs": [],
   "source": [
    "stmt = select([func.count(addresses.c.id)])\\\n",
    "        .where(users.c.id == addresses.c.user_id)\\\n",
    "        .as_scalar()\n",
    "\n",
    "# This creates a correlated sub-query\n",
    "conn.execute(select([users.c.name, stmt])).fetchall()\n",
    "\n",
    "# This creates a named correlated sub-query\n",
    "stmt = select([func.count(addresses.c.id)])\\\n",
    "        .where(users.c.id == addresses.c.user_id)\\\n",
    "        .label(\"address_count\")\n",
    "\n",
    "# This creates a correlated sub-query\n",
    "conn.execute(select([users.c.name, stmt])).fetchall()"
   ]
  },
  {
   "cell_type": "markdown",
   "metadata": {},
   "source": [
    "# Correlated sub-queries"
   ]
  },
  {
   "cell_type": "code",
   "execution_count": null,
   "metadata": {},
   "outputs": [],
   "source": [
    "stmt = select([addresses.c.user_id])\\\n",
    "        .where(addresses.c.user_id == users.c.id)\\\n",
    "        .where(addresses.c.email_address == 'jack@yahoo.com')\n",
    "\n",
    "# SqlAlchemy interprets the var as a sub-query\n",
    "enclosing_stmt = select([users.c.name]).where(users.c.id == stmt)\n",
    "\n",
    "conn.execute(enclosing_stmt).fetchall()"
   ]
  },
  {
   "cell_type": "code",
   "execution_count": null,
   "metadata": {},
   "outputs": [],
   "source": [
    "# Specifying a specific correlated table when more than 1 is involved.\n",
    "# Also, correlate_except()\n",
    "stmt = select([users.c.id])\\\n",
    "        .where(users.c.id == addresses.c.user_id)\\\n",
    "        .where(users.c.name == 'jack')\\\n",
    "        .correlate(addresses)\n",
    "\n",
    "enclosing_stmt = select([users.c.name, addresses.c.email_address])\\\n",
    "        .select_from(users.join(addresses))\\\n",
    "        .where(users.c.id == stmt)\n",
    "\n",
    "conn.execute(enclosing_stmt).fetchall()"
   ]
  },
  {
   "cell_type": "code",
   "execution_count": null,
   "metadata": {},
   "outputs": [],
   "source": [
    "# Disable correlation - creates non-correlated sub-query\n",
    "stmt = select([users.c.id])\\\n",
    "        .where(users.c.name == 'wendy')\\\n",
    "        .correlate(None)\n",
    "\n",
    "enclosing_stmt = select([users.c.name])\\\n",
    "        .where(users.c.id == stmt)\n",
    "\n",
    "conn.execute(enclosing_stmt).fetchall()"
   ]
  },
  {
   "cell_type": "markdown",
   "metadata": {},
   "source": [
    "# Group By, Order By, Offset Fetch"
   ]
  },
  {
   "cell_type": "code",
   "execution_count": null,
   "metadata": {},
   "outputs": [],
   "source": [
    "stmt = select([users.c.name]).order_by(users.c.name.desc())\n",
    "conn.execute(stmt).fetchall()"
   ]
  },
  {
   "cell_type": "code",
   "execution_count": null,
   "metadata": {},
   "outputs": [],
   "source": [
    "stmt = select([users.c.name, func.count(addresses.c.id)])\\\n",
    "        .select_from(users.join(addresses))\\\n",
    "        .group_by(users.c.name)\\\n",
    "        .having(func.length(users.c.name) > 4)\n",
    "\n",
    "conn.execute(stmt).fetchall()"
   ]
  },
  {
   "cell_type": "code",
   "execution_count": null,
   "metadata": {},
   "outputs": [],
   "source": [
    "stmt = select([users.c.name])\\\n",
    "        .select_from(users.join(addresses))\\\n",
    "        .distinct()\n",
    "\n",
    "conn.execute(stmt).fetchall()"
   ]
  },
  {
   "cell_type": "code",
   "execution_count": null,
   "metadata": {},
   "outputs": [],
   "source": [
    "stmt = select([users.c.name, addresses.c.email_address])\\\n",
    "            .select_from(users.join(addresses))\\\n",
    "            .order_by(users.c.name.asc())\\\n",
    "            .limit(1).offset(1)\n",
    "\n",
    "conn.execute(stmt).fetchall()"
   ]
  },
  {
   "cell_type": "markdown",
   "metadata": {},
   "source": [
    "# Inserts, Updates, Deletes"
   ]
  },
  {
   "cell_type": "code",
   "execution_count": null,
   "metadata": {},
   "outputs": [],
   "source": [
    "stmt = users.update()\\\n",
    "        .values(fullname=\"Fullname: \" + users.c.name)\n",
    "\n",
    "conn.execute(stmt)"
   ]
  },
  {
   "cell_type": "code",
   "execution_count": null,
   "metadata": {},
   "outputs": [],
   "source": [
    "stmt = users.insert()\\\n",
    "        .values([\n",
    "    {'id':7, 'name':'name1', 'fullname':'name1'},\n",
    "    {'id':8, 'name':'name2', 'fullname':'name2'},\n",
    "    {'id':9, 'name':'name3', 'fullname':'name3'},\n",
    "])\n",
    "\n",
    "conn.execute(stmt)"
   ]
  },
  {
   "cell_type": "code",
   "execution_count": null,
   "metadata": {},
   "outputs": [],
   "source": [
    "# Override a parameter\n",
    "stmt = users.insert()\\\n",
    "        .values(name=bindparam('_name') + \" .. name\")\n",
    "\n",
    "conn.execute(stmt, [\n",
    "    {'id':4, '_name':'name1', 'fullname':'name1'},\n",
    "    {'id':5, '_name':'name2', 'fullname':'name2'},\n",
    "    {'id':6, '_name':'name3', 'fullname':'name3'},\n",
    "])"
   ]
  },
  {
   "cell_type": "code",
   "execution_count": null,
   "metadata": {},
   "outputs": [],
   "source": [
    "stmt = users.update()\\\n",
    "        .where(users.c.name == 'jack')\\\n",
    "        .values(name='ed')\n",
    "\n",
    "conn.execute(stmt)"
   ]
  },
  {
   "cell_type": "code",
   "execution_count": null,
   "metadata": {},
   "outputs": [],
   "source": [
    "stmt = users.update()\\\n",
    "        .where(users.c.name == bindparam('oldname'))\\\n",
    "        .values(name=bindparam('newname'))\n",
    "\n",
    "conn.execute(stmt, [\n",
    "    {'oldname':'jack', 'newname':'jack2'},\n",
    "    {'oldname':'wendy', 'newname':'wendy2'},\n",
    "    {'oldname':'jim', 'newname':'jim2'},\n",
    "])"
   ]
  },
  {
   "cell_type": "code",
   "execution_count": null,
   "metadata": {},
   "outputs": [],
   "source": [
    "# Correlated update\n",
    "stmt = users.update().\\\n",
    "        values(fullname=\"Name test2: \"+addresses.c.email_address)\\\n",
    "        .where(users.c.id == addresses.c.id)\\\n",
    "        .where(addresses.c.email_address.endswith('.com'))\n",
    "\n",
    "conn.execute(stmt)"
   ]
  },
  {
   "cell_type": "code",
   "execution_count": null,
   "metadata": {},
   "outputs": [],
   "source": [
    "# Correlated update with explicit dictionary syntax\n",
    "stmt = users.update().\\\n",
    "        values({\n",
    "            users.c.name: \"Name: \" + addresses.c.email_address,\n",
    "            users.c.fullname: \"Email: \" + addresses.c.email_address\n",
    "        })\\\n",
    "        .where(users.c.id == addresses.c.id)\\\n",
    "        .where(addresses.c.email_address.endswith('.com'))\n",
    "\n",
    "conn.execute(stmt)"
   ]
  },
  {
   "cell_type": "code",
   "execution_count": null,
   "metadata": {
    "scrolled": true
   },
   "outputs": [],
   "source": [
    "conn.execute(users.delete().where(users.c.fullname.startswith('jack')))"
   ]
  },
  {
   "cell_type": "code",
   "execution_count": null,
   "metadata": {},
   "outputs": [],
   "source": [
    "# Subquery delete\n",
    "stmt = users.delete()\\\n",
    "        .where(users.c.id.notin_(\n",
    "            select([addresses.c.user_id])\n",
    "        ))\\\n",
    "        .where(users.c.fullname.startswith('ed'))\n",
    "\n",
    "conn.execute(stmt)"
   ]
  }
 ],
 "metadata": {
  "kernelspec": {
   "display_name": "Python 3",
   "language": "python",
   "name": "python3"
  },
  "language_info": {
   "codemirror_mode": {
    "name": "ipython",
    "version": 3
   },
   "file_extension": ".py",
   "mimetype": "text/x-python",
   "name": "python",
   "nbconvert_exporter": "python",
   "pygments_lexer": "ipython3",
   "version": "3.8.5"
  }
 },
 "nbformat": 4,
 "nbformat_minor": 2
}
