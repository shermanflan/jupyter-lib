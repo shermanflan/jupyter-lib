{
 "cells": [
  {
   "cell_type": "markdown",
   "metadata": {},
   "source": [
    "# Basic SQLAlchemy ORM manipulations"
   ]
  },
  {
   "cell_type": "code",
   "execution_count": null,
   "metadata": {},
   "outputs": [],
   "source": [
    "import json\n",
    "from os import environ\n",
    "\n",
    "from sqlalchemy import create_engine, text, func\n",
    "from sqlalchemy.ext.declarative import declarative_base\n",
    "from sqlalchemy.orm import sessionmaker, aliased, selectinload, joinedload\n",
    "from sqlalchemy import Column, ForeignKey, Integer, String, Float\n",
    "from sqlalchemy.orm import relationship, backref\n",
    "from sqlalchemy.orm.exc import MultipleResultsFound\n",
    "from sqlalchemy.sql import exists"
   ]
  },
  {
   "cell_type": "markdown",
   "metadata": {},
   "source": [
    "# Setup"
   ]
  },
  {
   "cell_type": "code",
   "execution_count": null,
   "metadata": {},
   "outputs": [],
   "source": [
    "host = environ.get('PG_SERVER', 'sql-fabulous')\n",
    "db = environ.get('PG_DATABASE', 'condesa')\n",
    "user = environ.get('PG_UID', 'sa')\n",
    "pw = environ.get('POSTGRES_PASSWORD', 'pwd')\n",
    "\n",
    "con_str = f'{user}:{pw}@{host}/{db}'\n",
    "\n",
    "# 'echo' emits generated sql\n",
    "engine = create_engine(f\"postgresql+psycopg2://{con_str}\", echo=True)"
   ]
  },
  {
   "cell_type": "markdown",
   "metadata": {},
   "source": [
    "# Define the catalog of classes"
   ]
  },
  {
   "cell_type": "code",
   "execution_count": null,
   "metadata": {},
   "outputs": [],
   "source": [
    "Base = declarative_base()\n",
    "\n",
    "\n",
    "class Survey(Base):\n",
    "    __tablename__ = 'directional_survey'\n",
    "    \n",
    "    id = Column(Integer, autoincrement=True, primary_key=True)\n",
    "    api = Column(String(32), nullable=True)\n",
    "    wkid = Column(String(32), nullable=True)\n",
    "    fips = Column(String(4), nullable=True)\n",
    "    status_code = Column(String(1), nullable=False)\n",
    "\n",
    "    def __repr__(self):\n",
    "        return f\"Survey(id={self.id}, api={self.api}, status={self.status_code})\"\n",
    "\n",
    "class SurveyReport(Base):\n",
    "    __tablename__ = 'survey_report'\n",
    "    \n",
    "    id = Column(Integer, autoincrement=True, primary_key=True)\n",
    "    directional_survey_id = Column(Integer, ForeignKey('directional_survey.id'), nullable=False)\n",
    "    azimuth = Column(Float, nullable=True)\n",
    "    md = Column(Float, nullable=True)\n",
    "    inclination = Column(Float, nullable=True)\n",
    "    status_code = Column(String(1), nullable=False)\n",
    "\n",
    "    # Relationship\n",
    "    survey = relationship(Survey, backref=backref('stations', uselist=True))\n",
    "    #survey = relationship(Survey, back_populates='stations')\n",
    "\n",
    "    def __repr__(self):\n",
    "        return f\"SurveyReport(id={self.id}, FK={self.directional_survey_id}, status={self.status_code})\"\n",
    "    \n",
    "\n",
    "# For SQL Core: set mapped tables to local vars so that full SQL metadata is available.\n",
    "surveys = Survey.__table__\n",
    "points = SurveyReport.__table__"
   ]
  },
  {
   "cell_type": "markdown",
   "metadata": {},
   "source": [
    "# Inspect underlying metadata"
   ]
  },
  {
   "cell_type": "code",
   "execution_count": null,
   "metadata": {},
   "outputs": [],
   "source": [
    "SurveyReport.__table__"
   ]
  },
  {
   "cell_type": "markdown",
   "metadata": {},
   "source": [
    "# Create Schema"
   ]
  },
  {
   "cell_type": "code",
   "execution_count": null,
   "metadata": {},
   "outputs": [],
   "source": [
    "Base.metadata.drop_all(engine, checkfirst=True)\n",
    "Base.metadata.create_all(engine, checkfirst=False)"
   ]
  },
  {
   "cell_type": "markdown",
   "metadata": {},
   "source": [
    "# Create session - interface to the DB"
   ]
  },
  {
   "cell_type": "code",
   "execution_count": null,
   "metadata": {},
   "outputs": [],
   "source": [
    "Session = sessionmaker(bind=engine)\n",
    "session = Session()"
   ]
  },
  {
   "cell_type": "markdown",
   "metadata": {},
   "source": [
    "# Create Beans"
   ]
  },
  {
   "cell_type": "code",
   "execution_count": null,
   "metadata": {},
   "outputs": [],
   "source": [
    "try:\n",
    "    # Automatically creates a constructor accepting kwargs\n",
    "    survey1 = Survey(api='API1', wkid='WKID1', fips = '0001', status_code='C')\n",
    "\n",
    "    survey_report1 = SurveyReport(directional_survey_id=survey1.id, azimuth=1, md=1, inclination=1, status_code='C')\n",
    "    survey_report2 = SurveyReport(directional_survey_id=survey1.id, azimuth=2, md=2, inclination=1, status_code='C')\n",
    "    survey_report3 = SurveyReport(directional_survey_id=survey1.id, azimuth=3, md=3, inclination=1, status_code='C')\n",
    "\n",
    "    survey1.stations.append(survey_report1)\n",
    "    survey1.stations.append(survey_report2)\n",
    "    survey1.stations.append(survey_report3)\n",
    "\n",
    "    session.add(survey1)\n",
    "    \n",
    "    survey2 = Survey(api='API2', wkid='WKID2', fips = '0002', status_code='C')\n",
    "\n",
    "    survey_report2b = SurveyReport(directional_survey_id=survey2.id, azimuth=2, md=2, inclination=2, status_code='N')\n",
    "    survey_report3b = SurveyReport(directional_survey_id=survey2.id, azimuth=3, md=3, inclination=2, status_code='N')\n",
    "    survey_report4b = SurveyReport(directional_survey_id=survey2.id, azimuth=4, md=4, inclination=2, status_code='N')\n",
    "\n",
    "    survey2.stations = [survey_report2b, survey_report3b, survey_report4b]\n",
    "\n",
    "    session.add(survey2)\n",
    "    \n",
    "    survey3 = Survey(api='API3', wkid='WKID3', fips = '0003', status_code='N')\n",
    "\n",
    "    survey_report2c = SurveyReport(directional_survey_id=survey3.id, azimuth=2, md=2, inclination=2, status_code='N')\n",
    "    survey_report3c = SurveyReport(directional_survey_id=survey3.id, azimuth=3, md=3, inclination=2, status_code='N')\n",
    "    survey_report4c = SurveyReport(directional_survey_id=survey3.id, azimuth=4, md=4, inclination=2, status_code='N')\n",
    "\n",
    "    survey3.stations.extend([survey_report2c, survey_report3c, survey_report4c])\n",
    "    \n",
    "    session.add_all([survey3])\n",
    "\n",
    "    survey4 = Survey(id=4, api='API4', wkid='0004', status_code='C')\n",
    "\n",
    "    session.add(survey4)\n",
    "    \n",
    "    session.commit()\n",
    "\n",
    "except SQLAlchemyError as e:\n",
    "    print(e)\n",
    "    session.rollback()"
   ]
  },
  {
   "cell_type": "markdown",
   "metadata": {},
   "source": [
    "# Update"
   ]
  },
  {
   "cell_type": "code",
   "execution_count": null,
   "metadata": {},
   "outputs": [],
   "source": [
    "survey_mod = session.query(Survey).filter_by(api = 'API4').first()\n",
    "survey_mod.wkid = 'WKID4'\n",
    "survey_mod.fips = '0004'\n",
    "\n",
    "try:\n",
    "    session.add_all([survey_mod])\n",
    "    session.commit()\n",
    "except SQLAlchemyError as e:\n",
    "    session.rollback()"
   ]
  },
  {
   "cell_type": "markdown",
   "metadata": {},
   "source": [
    "# Querying"
   ]
  },
  {
   "cell_type": "code",
   "execution_count": null,
   "metadata": {},
   "outputs": [],
   "source": [
    "for i in session.query(Survey).order_by(Survey.id):\n",
    "    print(f\"{i.id}, {i.api}\")"
   ]
  },
  {
   "cell_type": "code",
   "execution_count": null,
   "metadata": {},
   "outputs": [],
   "source": [
    "for id, api in session.query(Survey.id, Survey.api):\n",
    "    print(f\"{id}, {api}\")"
   ]
  },
  {
   "cell_type": "code",
   "execution_count": null,
   "metadata": {},
   "outputs": [],
   "source": [
    "for row in session.query(Survey, Survey.id).all():\n",
    "    print(f\"{row.Survey}, {row.Survey.stations}, {row.id}\")"
   ]
  },
  {
   "cell_type": "code",
   "execution_count": null,
   "metadata": {},
   "outputs": [],
   "source": [
    "for row in session.query(Survey, Survey.id.label('survey_id')).all(): # field aliasing\n",
    "    print(f\"{row.Survey}, {row.survey_id}\")"
   ]
  },
  {
   "cell_type": "code",
   "execution_count": null,
   "metadata": {},
   "outputs": [],
   "source": [
    "# table aliasing\n",
    "DirectionalSurvey = aliased(Survey, name='d_survey')\n",
    "for row in session.query(DirectionalSurvey, DirectionalSurvey.id):\n",
    "    print(f\"{row.d_survey}, {row.id}\")"
   ]
  },
  {
   "cell_type": "code",
   "execution_count": null,
   "metadata": {},
   "outputs": [],
   "source": [
    "# Can use python slicer to limit results.\n",
    "for row in session.query(Survey).order_by(Survey.id)[-1::-1]:\n",
    "    print(f\"{row.id}\")"
   ]
  },
  {
   "cell_type": "code",
   "execution_count": null,
   "metadata": {},
   "outputs": [],
   "source": [
    "# Where clause\n",
    "for s in session.query(Survey).filter(Survey.api == \"API4\"):\n",
    "    print(f\"{s}\")"
   ]
  },
  {
   "cell_type": "code",
   "execution_count": null,
   "metadata": {},
   "outputs": [],
   "source": [
    "# Where clause AND\n",
    "# ilike applies a lower to both sides\n",
    "for s in (session.\n",
    "          query(Survey).\n",
    "          filter(Survey.api.startswith(\"API\")).\n",
    "          filter(Survey.wkid.like(\"WK%\")).\n",
    "          filter(Survey.wkid.ilike(\"wk%\")).\n",
    "          filter(Survey.status_code == \"N\")\n",
    "         ):\n",
    "    print(f\"{s}\")"
   ]
  },
  {
   "cell_type": "code",
   "execution_count": null,
   "metadata": {},
   "outputs": [],
   "source": [
    "# IN/NOT IN Sub-query\n",
    "for s in (session.\n",
    "          query(Survey).\n",
    "          filter(~Survey.id.in_(\n",
    "              session.\n",
    "              query(SurveyReport.directional_survey_id)\n",
    "            ))\n",
    "         ):\n",
    "    print(f\"{s}\")"
   ]
  },
  {
   "cell_type": "code",
   "execution_count": null,
   "metadata": {},
   "outputs": [],
   "source": [
    "for sr in session.query(SurveyReport):\n",
    "    print(f\"{sr}\")"
   ]
  },
  {
   "cell_type": "markdown",
   "metadata": {},
   "source": [
    "# Other query operators\n",
    "- \"==\" is the same as \"is_\"\n",
    "- \"!=\" is the same as \"isnot\"\n",
    "- Compound filters are the same as \"and_\"\n",
    "- \"or_\" can also be used\n",
    "- \"\"== None\" is the same as \"IS / IS NOT NULL\"\n",
    "- contains()"
   ]
  },
  {
   "cell_type": "markdown",
   "metadata": {},
   "source": [
    "# Result Operators all, first, one"
   ]
  },
  {
   "cell_type": "code",
   "execution_count": null,
   "metadata": {},
   "outputs": [],
   "source": [
    "for r in session.query(Survey).all(): # returns list\n",
    "    print(r)"
   ]
  },
  {
   "cell_type": "code",
   "execution_count": null,
   "metadata": {},
   "outputs": [],
   "source": [
    "r = session.query(Survey).first() # returns single tuple\n",
    "print(r)"
   ]
  },
  {
   "cell_type": "code",
   "execution_count": null,
   "metadata": {},
   "outputs": [],
   "source": [
    "try:\n",
    "    # Fails if more than one exists \n",
    "    # \"one_or_none()\" returns None instead of failing.\n",
    "    r = session.query(Survey).one() \n",
    "except MultipleResultsFound as e:\n",
    "    print(e)"
   ]
  },
  {
   "cell_type": "markdown",
   "metadata": {},
   "source": [
    "# Bind Parameters"
   ]
  },
  {
   "cell_type": "code",
   "execution_count": null,
   "metadata": {},
   "outputs": [],
   "source": [
    "for s in (session.\n",
    "          query(Survey).\n",
    "          filter(text(\"id < :rec and api = :api\")).\n",
    "          params(rec=4, api='API2')):\n",
    "    print(s)"
   ]
  },
  {
   "cell_type": "markdown",
   "metadata": {},
   "source": [
    "# Literal SQL"
   ]
  },
  {
   "cell_type": "code",
   "execution_count": null,
   "metadata": {},
   "outputs": [],
   "source": [
    "s = (session.\n",
    "     query(Survey).\n",
    "     from_statement(\n",
    "        text(\"SELECT id, api FROM directional_survey where api = :api\")).\n",
    "     params(api='API1')\n",
    "     .first()\n",
    "    )\n",
    "\n",
    "s"
   ]
  },
  {
   "cell_type": "markdown",
   "metadata": {},
   "source": [
    "# COUNT()"
   ]
  },
  {
   "cell_type": "code",
   "execution_count": null,
   "metadata": {},
   "outputs": [],
   "source": [
    "g = (session.\n",
    "     query(func.count(Survey.status_code), Survey.status_code).\n",
    "     group_by(Survey.status_code).\n",
    "     all()\n",
    "    )\n",
    "g"
   ]
  },
  {
   "cell_type": "code",
   "execution_count": null,
   "metadata": {},
   "outputs": [],
   "source": [
    "session.query(func.count(Survey.id)).scalar() # count(*)"
   ]
  },
  {
   "cell_type": "markdown",
   "metadata": {},
   "source": [
    "# Navigating Relations"
   ]
  },
  {
   "cell_type": "code",
   "execution_count": null,
   "metadata": {},
   "outputs": [],
   "source": [
    "r = session.query(Survey).first() # returns single tuple\n",
    "print(r.stations[0].survey.api)"
   ]
  },
  {
   "cell_type": "markdown",
   "metadata": {},
   "source": [
    "# Joins"
   ]
  },
  {
   "cell_type": "code",
   "execution_count": null,
   "metadata": {},
   "outputs": [],
   "source": [
    "# Old SQL cross-join style\n",
    "for s, sr in (session.\n",
    "              query(Survey, SurveyReport).\n",
    "              filter(Survey.id == SurveyReport.directional_survey_id).\n",
    "              filter(Survey.status_code.in_(['N']))\n",
    "             ):\n",
    "    print(f\"{s}, {sr}\")"
   ]
  },
  {
   "cell_type": "code",
   "execution_count": null,
   "metadata": {},
   "outputs": [],
   "source": [
    "# Standard style\n",
    "# join can be explicit: \n",
    "# join(SurveyReport, Survey.ID == SurveyReport.DirectionalSurveyId)\n",
    "# outerjoin() also available\n",
    "# Use table aliasing to join to the same table more than once.\n",
    "for row in (session.\n",
    "            query(Survey).\n",
    "            join(SurveyReport).\n",
    "            filter(Survey.status_code.in_(['N']))\n",
    "           ):\n",
    "    print(f\"{row}, {row.stations}\")"
   ]
  },
  {
   "cell_type": "markdown",
   "metadata": {},
   "source": [
    "# Sub-queries"
   ]
  },
  {
   "cell_type": "code",
   "execution_count": null,
   "metadata": {},
   "outputs": [],
   "source": [
    "# Build named sub-query\n",
    "stmt = (session.\n",
    "        query(SurveyReport.directional_survey_id, \n",
    "              func.count('*').\n",
    "              label('report_count')).\n",
    "        group_by(SurveyReport.directional_survey_id).\n",
    "        subquery()\n",
    "       )\n",
    "\n",
    "# Join to parent table\n",
    "for u, count in (session.\n",
    "                 query(Survey, stmt.c.report_count).\n",
    "                 outerjoin(stmt, Survey.id == stmt.c.directional_survey_id).\n",
    "                 order_by(Survey.id)\n",
    "                ):\n",
    "    print(u, count)"
   ]
  },
  {
   "cell_type": "code",
   "execution_count": null,
   "metadata": {},
   "outputs": [],
   "source": [
    "# Exists/Not Exists use \"~\"\n",
    "# Use has() for many to 1 relations\n",
    "for s in (session.\n",
    "          query(Survey).\n",
    "          filter(\n",
    "              Survey.stations.\n",
    "              any(SurveyReport.status_code.in_(['N', 'C'])))\n",
    "         ): # or any()\n",
    "    print(s)"
   ]
  },
  {
   "cell_type": "markdown",
   "metadata": {},
   "source": [
    "# Optimizations"
   ]
  },
  {
   "cell_type": "code",
   "execution_count": null,
   "metadata": {},
   "outputs": [],
   "source": [
    "# Loads all related objects eagerly\n",
    "s1 = (session.\n",
    "      query(Survey).\n",
    "      options(selectinload(Survey.stations)).\n",
    "      filter(Survey.api == 'API1').one()\n",
    "     )\n",
    "\n",
    "s1"
   ]
  },
  {
   "cell_type": "code",
   "execution_count": null,
   "metadata": {},
   "outputs": [],
   "source": [
    "# Loads all related objects eagerly\n",
    "jack = (session.\n",
    "        query(Survey).\n",
    "        options(joinedload(Survey.stations)).\n",
    "        filter_by(api='API1').\n",
    "        one()\n",
    "       )\n",
    "jack"
   ]
  },
  {
   "cell_type": "markdown",
   "metadata": {},
   "source": [
    "# Deletes"
   ]
  },
  {
   "cell_type": "code",
   "execution_count": null,
   "metadata": {},
   "outputs": [],
   "source": [
    "sr1 = (session.\n",
    "       query(SurveyReport).\n",
    "       filter(SurveyReport.id == 9).\n",
    "       one()\n",
    "      )\n",
    "\n",
    "try:\n",
    "    session.delete(sr1)\n",
    "    session.commit()\n",
    "except SqlAlchemyException as e:\n",
    "    session.rollback()"
   ]
  },
  {
   "cell_type": "code",
   "execution_count": null,
   "metadata": {},
   "outputs": [],
   "source": []
  }
 ],
 "metadata": {
  "kernelspec": {
   "display_name": "Python 3",
   "language": "python",
   "name": "python3"
  },
  "language_info": {
   "codemirror_mode": {
    "name": "ipython",
    "version": 3
   },
   "file_extension": ".py",
   "mimetype": "text/x-python",
   "name": "python",
   "nbconvert_exporter": "python",
   "pygments_lexer": "ipython3",
   "version": "3.8.5"
  }
 },
 "nbformat": 4,
 "nbformat_minor": 2
}
