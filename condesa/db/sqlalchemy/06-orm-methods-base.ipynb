{
 "cells": [
  {
   "cell_type": "markdown",
   "metadata": {},
   "source": [
    "# SQLAlchemy ORM Schema Design\n",
    "Table schema example using postgresql"
   ]
  },
  {
   "cell_type": "code",
   "execution_count": null,
   "metadata": {},
   "outputs": [],
   "source": [
    "from datetime import datetime, date\n",
    "import json\n",
    "from os import environ\n",
    "\n",
    "from sqlalchemy import create_engine, text, func\n",
    "from sqlalchemy.exc import SQLAlchemyError\n",
    "from sqlalchemy.ext.declarative import declarative_base\n",
    "from sqlalchemy.orm import sessionmaker, aliased, selectinload, joinedload\n",
    "from sqlalchemy import Column, ForeignKey, Integer, String, Float\n",
    "from sqlalchemy import BigInteger, Boolean, Date, DateTime, Text\n",
    "from sqlalchemy.orm import relationship, backref\n",
    "from sqlalchemy.orm.exc import MultipleResultsFound\n",
    "from sqlalchemy.sql import exists"
   ]
  },
  {
   "cell_type": "markdown",
   "metadata": {},
   "source": [
    "# Setup"
   ]
  },
  {
   "cell_type": "code",
   "execution_count": null,
   "metadata": {},
   "outputs": [],
   "source": [
    "host = environ.get('PG_SERVER', 'sql-fabulous')\n",
    "db = environ.get('PG_DATABASE', 'condesa')\n",
    "user = environ.get('PG_UID', 'sa')\n",
    "pw = environ.get('POSTGRES_PASSWORD', 'pwd')\n",
    "\n",
    "con_str = f'{user}:{pw}@{host}/{db}'\n",
    "\n",
    "# 'echo' emits generated sql\n",
    "engine = create_engine(f\"postgresql+psycopg2://{con_str}\", echo=True)"
   ]
  },
  {
   "cell_type": "markdown",
   "metadata": {},
   "source": [
    "# Define the catalog of classes"
   ]
  },
  {
   "cell_type": "code",
   "execution_count": null,
   "metadata": {},
   "outputs": [],
   "source": [
    "Base = declarative_base()\n",
    "\n",
    "\n",
    "class PracticeInterface(Base):\n",
    "    __tablename__ = 'practice_interface'\n",
    "    \n",
    "    id = Column(BigInteger, autoincrement=True, primary_key=True)\n",
    "    \n",
    "    data_partner_registry_id = Column(BigInteger, ForeignKey('data_partner_registry.id'), nullable=False)\n",
    "    practice_interface_vendor_id = Column(BigInteger, ForeignKey('practice_interface_vendor.id'), nullable=False)\n",
    "    practice_interface_category_id = Column(BigInteger, ForeignKey('practice_interface_category.id'), nullable=False)\n",
    "    practice_interface_pipeline_id = Column(BigInteger, ForeignKey('practice_interface_pipeline.id'), nullable=False)\n",
    "    practice_interface_status_id = Column(BigInteger, ForeignKey('practice_interface_status.id'), nullable=False)\n",
    "\n",
    "    prac_id = Column(BigInteger, nullable=False)\n",
    "    is_inbound = Column(Boolean, default=True, nullable=False)\n",
    "    \n",
    "    start_date = Column(Date, default=date.today, nullable=False)\n",
    "    end_date = Column(Date, default=None, nullable=True)\n",
    "    \n",
    "    created_at = Column(DateTime, default=datetime.now, nullable=True)\n",
    "    updated_at = Column(DateTime, default=datetime.now, onupdate=datetime.now, nullable=True)\n",
    "\n",
    "    data_partner_registry = relationship('DataPartnerRegistry', backref=backref('interfaces', uselist=True))\n",
    "    practice_interface_vendor = relationship('PracticeInterfaceVendor', backref=backref('vendors', uselist=True))\n",
    "    practice_interface_category = relationship('PracticeInterfaceCategory', backref=backref('categories', uselist=True))\n",
    "    practice_interface_pipeline = relationship('PracticeInterfacePipeline', backref=backref('pipelines', uselist=True))\n",
    "    practice_interface_status = relationship('PracticeInterfaceStatus', backref=backref('statuses', uselist=True))\n",
    "\n",
    "    def __repr__(self):\n",
    "        return (\"PracticeInterface(id={}, source={}, vendor={}, category={}, status={})\".\n",
    "               format(self.id, self.data_partner_registry, \n",
    "                      self.practice_interface_vendor, self.practice_interface_category,\n",
    "                      self.practice_interface_status))\n",
    "\n",
    "class DataPartnerRegistry(Base):\n",
    "    __tablename__ = 'data_partner_registry'\n",
    "    \n",
    "    id = Column(BigInteger, autoincrement=True, primary_key=True)\n",
    "    name = Column(Text, nullable=False, unique=True)\n",
    "    description = Column(Text, nullable=True)\n",
    "\n",
    "    created_at = Column(DateTime, default=datetime.now, nullable=True)\n",
    "    updated_at = Column(DateTime, default=datetime.now, onupdate=datetime.now, nullable=True)\n",
    "\n",
    "    def __repr__(self):\n",
    "        return \"Registry(id={0}, name={1})\".format(self.id, self.name)\n",
    "\n",
    "class PracticeInterfaceVendor(Base):\n",
    "    __tablename__ = 'practice_interface_vendor'\n",
    "    \n",
    "    id = Column(BigInteger, autoincrement=True, primary_key=True)\n",
    "    name = Column(Text, nullable=False, unique=True)\n",
    "    description = Column(Text, nullable=True)\n",
    "\n",
    "    created_at = Column(DateTime, default=datetime.now, nullable=True)\n",
    "    updated_at = Column(DateTime, default=datetime.now, onupdate=datetime.now, nullable=True)\n",
    "\n",
    "    def __repr__(self):\n",
    "        return \"Vendor(id={0}, name={1})\".format(self.id, self.name)\n",
    "\n",
    "class PracticeInterfaceCategory(Base):\n",
    "    __tablename__ = 'practice_interface_category'\n",
    "    \n",
    "    id = Column(BigInteger, autoincrement=True, primary_key=True)\n",
    "    name = Column(Text, nullable=False, unique=True)\n",
    "    description = Column(Text, nullable=True)\n",
    "\n",
    "    created_at = Column(DateTime, default=datetime.now, nullable=True)\n",
    "    updated_at = Column(DateTime, default=datetime.now, onupdate=datetime.now, nullable=True)\n",
    "\n",
    "    def __repr__(self):\n",
    "        return \"Category(id={0}, name={1})\".format(self.id, self.name)\n",
    "\n",
    "class PracticeInterfacePipeline(Base):\n",
    "    __tablename__ = 'practice_interface_pipeline'\n",
    "    \n",
    "    id = Column(BigInteger, autoincrement=True, primary_key=True)\n",
    "    name = Column(Text, nullable=False, unique=True)\n",
    "    description = Column(Text, nullable=True)\n",
    "\n",
    "    created_at = Column(DateTime, default=datetime.now, nullable=True)\n",
    "    updated_at = Column(DateTime, default=datetime.now, onupdate=datetime.now, nullable=True)\n",
    "\n",
    "    def __repr__(self):\n",
    "        return \"Pipeline(id={0}, name={1})\".format(self.id, self.name)\n",
    "\n",
    "class PracticeInterfaceStatus(Base):\n",
    "    __tablename__ = 'practice_interface_status'\n",
    "    \n",
    "    id = Column(BigInteger, autoincrement=True, primary_key=True)\n",
    "    name = Column(Text, nullable=False, unique=True)\n",
    "    description = Column(Text, nullable=True)\n",
    "\n",
    "    created_at = Column(DateTime, default=datetime.now, nullable=True)\n",
    "    updated_at = Column(DateTime, default=datetime.now, onupdate=datetime.now, nullable=True)\n",
    "\n",
    "    def __repr__(self):\n",
    "        return \"Status(id={0}, name={1})\".format(self.id, self.name)\n",
    "    \n",
    "\n",
    "# For SQL Core: set mapped tables to local vars so that full SQL metadata is available.\n",
    "interfaces = PracticeInterface.__table__\n",
    "vendors = PracticeInterfaceVendor.__table__\n",
    "categories = PracticeInterfaceCategory.__table__\n",
    "pipelines = PracticeInterfacePipeline.__table__\n",
    "statuses = PracticeInterfaceStatus.__table__"
   ]
  },
  {
   "cell_type": "markdown",
   "metadata": {},
   "source": [
    "# Create session - interface to the DB"
   ]
  },
  {
   "cell_type": "code",
   "execution_count": null,
   "metadata": {},
   "outputs": [],
   "source": [
    "Session = sessionmaker(bind=engine)\n",
    "session = Session()"
   ]
  },
  {
   "cell_type": "markdown",
   "metadata": {},
   "source": [
    "# Create Schema"
   ]
  },
  {
   "cell_type": "code",
   "execution_count": null,
   "metadata": {},
   "outputs": [],
   "source": [
    "Base.metadata.drop_all(engine, checkfirst=True)\n",
    "Base.metadata.create_all(engine, checkfirst=False)"
   ]
  },
  {
   "cell_type": "markdown",
   "metadata": {},
   "source": [
    "# Inspect underlying metadata"
   ]
  },
  {
   "cell_type": "code",
   "execution_count": null,
   "metadata": {},
   "outputs": [],
   "source": [
    "DataPartnerRegistry.__table__"
   ]
  },
  {
   "cell_type": "markdown",
   "metadata": {},
   "source": [
    "# Create session - interface to the DB"
   ]
  },
  {
   "cell_type": "code",
   "execution_count": null,
   "metadata": {},
   "outputs": [],
   "source": [
    "Session = sessionmaker(bind=engine)\n",
    "session = Session()"
   ]
  },
  {
   "cell_type": "markdown",
   "metadata": {},
   "source": [
    "# Create Beans"
   ]
  },
  {
   "cell_type": "markdown",
   "metadata": {},
   "source": [
    "### Reference Data"
   ]
  },
  {
   "cell_type": "code",
   "execution_count": null,
   "metadata": {},
   "outputs": [],
   "source": [
    "try:\n",
    "    # Automatically creates a constructor accepting kwargs\n",
    "    athena = DataPartnerRegistry(name='athena')\n",
    "    \n",
    "    session.add(athena)\n",
    "    \n",
    "    athena_vendor = PracticeInterfaceVendor(name='athena')\n",
    "    ecw = PracticeInterfaceVendor(name='ecw')\n",
    "    healthjump = PracticeInterfaceVendor(name='healthjump')\n",
    "\n",
    "    session.add_all([athena_vendor, ecw, healthjump])\n",
    "\n",
    "    unknown = PracticeInterfaceCategory(name='unknown')\n",
    "    clinical = PracticeInterfaceCategory(name='clinical')\n",
    "    qdc = PracticeInterfaceCategory(name='qdc')\n",
    "    appointment = PracticeInterfaceCategory(name='appointment')\n",
    "    hie = PracticeInterfaceCategory(name='hie')\n",
    "    labs = PracticeInterfaceCategory(name='labs')\n",
    "    claims = PracticeInterfaceCategory(name='claims')\n",
    "\n",
    "    session.add_all([unknown, clinical, qdc, appointment, hie, labs, claims])\n",
    "    \n",
    "    mc_ccda = PracticeInterfacePipeline(name='MAeHC CCDA', description='MAeHC CCDA practice interface')\n",
    "    cd_ccda = PracticeInterfacePipeline(name='Aledade CCDA', description='Aledade clinical_quality_ccd data pipeline')\n",
    "\n",
    "    session.add_all([mc_ccda, cd_ccda])\n",
    "    \n",
    "    active = PracticeInterfaceStatus(name='active', description='MAeHC CCDA practice interface')\n",
    "    inactive = PracticeInterfaceStatus(name='inactive', description='MAeHC CCDA practice interface')\n",
    "    terminated = PracticeInterfaceStatus(name='terminated', description='MAeHC CCDA practice interface')\n",
    "    paused = PracticeInterfaceStatus(name='paused', description='MAeHC CCDA practice interface')\n",
    "\n",
    "    session.add_all([active, inactive, terminated, paused])\n",
    "  \n",
    "    session.commit()\n",
    "\n",
    "except SQLAlchemyError as e:\n",
    "    session.rollback()\n",
    "    raise"
   ]
  },
  {
   "cell_type": "markdown",
   "metadata": {},
   "source": [
    "### Interfaces"
   ]
  },
  {
   "cell_type": "code",
   "execution_count": null,
   "metadata": {},
   "outputs": [],
   "source": [
    "try:\n",
    "    athena = (session.\n",
    "              query(DataPartnerRegistry).\n",
    "              filter(DataPartnerRegistry.name == 'athena').\n",
    "              one())\n",
    "    \n",
    "    athena_vendor = (session.\n",
    "                     query(PracticeInterfaceVendor).\n",
    "                     filter(PracticeInterfaceVendor.name == 'athena').\n",
    "                     one())\n",
    "    clinical = (session.\n",
    "                query(PracticeInterfaceCategory).\n",
    "                filter(PracticeInterfaceCategory.name == 'clinical').\n",
    "                one())\n",
    "\n",
    "    mc_ccda = (session.\n",
    "               query(PracticeInterfacePipeline).\n",
    "               filter(PracticeInterfacePipeline.name == 'MAeHC CCDA').\n",
    "               one())\n",
    "    \n",
    "    active = (session.\n",
    "              query(PracticeInterfaceStatus).\n",
    "              filter(PracticeInterfaceStatus.name == 'active').\n",
    "              one())\n",
    "    \n",
    "    interface_1 = PracticeInterface(data_partner_registry=athena, \n",
    "                                    practice_interface_vendor=athena_vendor,\n",
    "                                    practice_interface_category=clinical,\n",
    "                                    practice_interface_pipeline=mc_ccda,\n",
    "                                    practice_interface_status=active, \n",
    "                                    prac_id=1,\n",
    "                                   )\n",
    "\n",
    "    session.add(interface_1)\n",
    "    \n",
    "    session.commit()\n",
    "\n",
    "except SQLAlchemyError as e:\n",
    "    session.rollback()\n",
    "    raise"
   ]
  },
  {
   "cell_type": "code",
   "execution_count": null,
   "metadata": {},
   "outputs": [],
   "source": []
  }
 ],
 "metadata": {
  "kernelspec": {
   "display_name": "Python 3",
   "language": "python",
   "name": "python3"
  },
  "language_info": {
   "codemirror_mode": {
    "name": "ipython",
    "version": 3
   },
   "file_extension": ".py",
   "mimetype": "text/x-python",
   "name": "python",
   "nbconvert_exporter": "python",
   "pygments_lexer": "ipython3",
   "version": "3.8.5"
  }
 },
 "nbformat": 4,
 "nbformat_minor": 2
}
