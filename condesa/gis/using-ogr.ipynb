{
 "cells": [
  {
   "cell_type": "code",
   "execution_count": 1,
   "metadata": {},
   "outputs": [],
   "source": [
    "import os\n",
    "from pprint import pprint\n",
    "\n",
    "from osgeo import ogr  # vector\n",
    "from osgeo import osr  # spatial reference"
   ]
  },
  {
   "cell_type": "markdown",
   "metadata": {},
   "source": [
    "## Shell commands (batch commands)\n",
    "- ogrinfo can be combined with SQL syntax to select features from a dataset\n",
    "- ogr2ogr (translations, conversion, reprojection, etc.) can also be used with SQL syntax"
   ]
  },
  {
   "cell_type": "code",
   "execution_count": null,
   "metadata": {},
   "outputs": [],
   "source": [
    "!pwd"
   ]
  },
  {
   "cell_type": "code",
   "execution_count": null,
   "metadata": {
    "scrolled": true
   },
   "outputs": [],
   "source": [
    "# Supported formats\n",
    "!ogrinfo --formats"
   ]
  },
  {
   "cell_type": "code",
   "execution_count": null,
   "metadata": {
    "scrolled": true
   },
   "outputs": [],
   "source": [
    "# Inspect shapefile metadata\n",
    "!ogrinfo -so /opt/diml-service/data/us_states tl_2014_us_state"
   ]
  },
  {
   "cell_type": "code",
   "execution_count": null,
   "metadata": {},
   "outputs": [],
   "source": [
    "# Convert shapefile to geojson\n",
    "#ogr2ogr -f \"GeoJSON\" \"[output_path]\" \"[datasource path]\"\n",
    "\n",
    "# Merge multiple vector files (shapefiles)\n",
    "#ogrmerge.py in GDAL/scripts folder"
   ]
  },
  {
   "cell_type": "markdown",
   "metadata": {},
   "source": [
    "### SQL Server shapefile export"
   ]
  },
  {
   "cell_type": "code",
   "execution_count": null,
   "metadata": {
    "scrolled": true
   },
   "outputs": [],
   "source": [
    "%%bash\n",
    "\n",
    "# Connect to MSSQL\n",
    "ogrinfo -so \\\n",
    "    \"MSSQL:Driver={ODBC Driver 17 for SQL Server};Server=[FQDN];Database=;Uid=;Pwd=\" \\\n",
    "    landgrid.State"
   ]
  },
  {
   "cell_type": "code",
   "execution_count": null,
   "metadata": {
    "scrolled": true
   },
   "outputs": [],
   "source": [
    "%%time\n",
    "%%bash\n",
    "\n",
    "# Export from MSSQL to Shapefile\n",
    "ogr2ogr -overwrite -a_srs \"EPSG:4326\" -f \"ESRI Shapefile\" \\\n",
    "    /opt/diml-service/data/mssql_test \\\n",
    "    \"MSSQL:Driver={ODBC Driver 17 for SQL Server};Server=[FQDN];Database=;Uid=;Pwd=\" \\\n",
    "    landgrid.OhSection"
   ]
  },
  {
   "cell_type": "markdown",
   "metadata": {},
   "source": [
    "### PostGis Operations"
   ]
  },
  {
   "cell_type": "code",
   "execution_count": null,
   "metadata": {},
   "outputs": [],
   "source": [
    "%%time\n",
    "%%bash\n",
    "\n",
    "# Inspect table layer\n",
    "ogrinfo -so \\\n",
    "    \"PG:dbname=db host=host port=5432 user=sa password=pw\" \\\n",
    "    maps.tx_ector"
   ]
  },
  {
   "cell_type": "code",
   "execution_count": null,
   "metadata": {},
   "outputs": [],
   "source": [
    "%%time\n",
    "%%bash\n",
    "\n",
    "# Write table layer to shapefile\n",
    "ogr2ogr -overwrite -a_srs \"EPSG:4269\" -f \"ESRI Shapefile\" \\\n",
    "    /opt/diml-service \\\n",
    "    \"PG:dbname=db host=host port=5432 user=sa password=pw\" \\\n",
    "    maps.tx_ector"
   ]
  },
  {
   "cell_type": "code",
   "execution_count": null,
   "metadata": {},
   "outputs": [],
   "source": [
    "%%time\n",
    "%%bash\n",
    "\n",
    "# Inspect shapefile\n",
    "ogrinfo -so /opt/diml-service/maps.tx_ector.shp maps.tx_ector"
   ]
  },
  {
   "cell_type": "code",
   "execution_count": null,
   "metadata": {},
   "outputs": [],
   "source": [
    "%%time\n",
    "%%bash\n",
    "\n",
    "# Write shapefile to table\n",
    "ogr2ogr -update -append -f \"PostgreSQL\" --config PG_USE_COPY YES -nlt PROMOTE_TO_MULTI \\\n",
    "    \"PG:dbname=ScratchDB host=postgres-gis port=5432 user=sa password=HelloWorld1\" \\\n",
    "    /opt/diml-service/maps.tx_ector.shp \\\n",
    "    -nln maps.tx_ector"
   ]
  },
  {
   "cell_type": "markdown",
   "metadata": {},
   "source": [
    "## Open Shapefile"
   ]
  },
  {
   "cell_type": "code",
   "execution_count": null,
   "metadata": {
    "scrolled": true
   },
   "outputs": [],
   "source": [
    "shp_path = os.path.join(os.environ[\"DATA_DIR\"], 'us_states', 'tl_2014_us_state.shp')\n",
    "\n",
    "driver = ogr.GetDriverByName(\"ESRI Shapefile\")\n",
    "dataSource = driver.Open(shp_path, 0)\n",
    "layer = dataSource.GetLayer(0)\n",
    "\n",
    "print(layer.GetLayerDefn())\n",
    "print(f\"Spatial Ref: {layer.GetSpatialRef()}\")\n",
    "print(f\"#Features: {layer.GetFeatureCount()}\")\n",
    "\n",
    "# Enumerate features attributes and geometry\n",
    "for feature in layer:\n",
    "    pprint(feature)\n",
    "    print(feature.GetField(\"NAME\"))\n",
    "    \n",
    "    geom = feature.GetGeometryRef()\n",
    "    print(geom.Centroid().ExportToWkt())\n",
    "    \n",
    "# for i in range(layer.GetFeatureCount()):\n",
    "#     print(layer.GetFeature(i).GetField(\"NAME\"))"
   ]
  },
  {
   "cell_type": "markdown",
   "metadata": {},
   "source": [
    "## Create Polygon"
   ]
  },
  {
   "cell_type": "code",
   "execution_count": null,
   "metadata": {},
   "outputs": [],
   "source": [
    "r = ogr.Geometry(ogr.wkbLinearRing)\n",
    "r.AddPoint(1,1)\n",
    "r.AddPoint(5,1)\n",
    "r.AddPoint(5,5)\n",
    "r.AddPoint(1,5)\n",
    "r.AddPoint(1,1)\n",
    "poly = ogr.Geometry(ogr.wkbPolygon)\n",
    "poly.AddGeometry(r)\n",
    "\n",
    "print(poly.ExportToWkt())"
   ]
  },
  {
   "cell_type": "markdown",
   "metadata": {},
   "source": [
    "## Create Polygon from GeoJSON"
   ]
  },
  {
   "cell_type": "code",
   "execution_count": null,
   "metadata": {},
   "outputs": [],
   "source": [
    "geojson = \"\"\"\n",
    "{\"type\":\"Polygon\",\"coordinates\":[[[1,1],[5,1],[5,5],[1,5], [1,1]]]}\n",
    "\"\"\"\n",
    "polygon = ogr.CreateGeometryFromJson(geojson)\n",
    "print(polygon) "
   ]
  },
  {
   "cell_type": "markdown",
   "metadata": {},
   "source": [
    "## Geometric Operations"
   ]
  },
  {
   "cell_type": "code",
   "execution_count": null,
   "metadata": {},
   "outputs": [],
   "source": [
    "print(polygon.Centroid())\n",
    "print(polygon.GetBoundary())\n",
    "print(polygon.ConvexHull())\n",
    "print(polygon.Buffer(0))\n",
    "\n",
    "point = ogr.Geometry(ogr.wkbPoint)\n",
    "point.AddPoint(10, 10)\n",
    "polygon.Contains(point)"
   ]
  },
  {
   "cell_type": "markdown",
   "metadata": {},
   "source": [
    "## Create Shapefile"
   ]
  },
  {
   "cell_type": "code",
   "execution_count": null,
   "metadata": {},
   "outputs": [],
   "source": [
    "# 1 set the spatial reference (WGS84)\n",
    "spatial_ref = osr.SpatialReference()\n",
    "spatial_ref.SetWellKnownGeogCS('WGS84')\n",
    "\n",
    "# 2 create a new shapefile\n",
    "shp_path = os.path.join(os.environ[\"DATA_DIR\"], 'shapefile_out', 'ogr_ex.shp')\n",
    "driver = ogr.GetDriverByName('ESRI Shapefile')\n",
    "shape_data = driver.CreateDataSource(shp_path)\n",
    "\n",
    "# 3 create the layer\n",
    "new_layer = shape_data.CreateLayer('polygon_layer', spatial_ref, ogr.wkbPolygon)\n",
    "\n",
    "id_field = ogr.FieldDefn(\"ID\", ogr.OFTInteger)\n",
    "id_field.SetWidth(4)\n",
    "new_layer.CreateField(id_field)\n",
    "    \n",
    "# 4 geometry is put inside feature\n",
    "feature = ogr.Feature(new_layer.GetLayerDefn())\n",
    "feature.SetFID(0)\n",
    "feature.SetField(\"ID\", 21)\n",
    "\n",
    "geojson = '{\"type\":\"Polygon\",\"coordinates\":[[[1,1],[5,1],[5,5],[1,5], [1,1]]]}'\n",
    "polygon = ogr.CreateGeometryFromJson(geojson)\n",
    "\n",
    "feature.SetGeometry(polygon)\n",
    "\n",
    "# 5 feature is put into layer\n",
    "new_layer.CreateFeature(feature)\n",
    "\n",
    "# THIS IS ESSENTIAL - basically closes the file handle\n",
    "#feature.Destroy()\n",
    "\n",
    "# THIS IS ESSENTIAL - basically closes the file handle\n",
    "shape_data.FlushCache()\n",
    "shape_data.Destroy()  # or shape_data = None"
   ]
  },
  {
   "cell_type": "code",
   "execution_count": null,
   "metadata": {},
   "outputs": [],
   "source": [
    "# NOTE: DBF_DATE_LAST_UPDATE exists. Could be used for CT?\n",
    "!ogrinfo /opt/diml-service/data/shapefile_out/ogr_ex.shp ogr_ex"
   ]
  },
  {
   "cell_type": "markdown",
   "metadata": {},
   "source": [
    "## Use a Spatial Filter"
   ]
  },
  {
   "cell_type": "code",
   "execution_count": null,
   "metadata": {},
   "outputs": [],
   "source": [
    "shp_path = os.path.join(os.environ[\"DATA_DIR\"], 'us_states', 'tl_2014_us_state.shp')\n",
    "driver = ogr.GetDriverByName('ESRI Shapefile')\n",
    "data_source = driver.Open(shp_path, 0)  # read only\n",
    "\n",
    "layer = data_source.GetLayer()\n",
    "\n",
    "# Pass in the coordinates for the data frame to the SetSpatialFilterRect() function. \n",
    "# This filter creates a rectangular extent and selects the features inside the extent\n",
    "layer.SetSpatialFilterRect(-102, 26, -94, 36)\n",
    "\n",
    "for feature in layer:\n",
    "    print(feature.GetField(\"NAME\"))\n",
    "    \n",
    "data_source.Destroy()"
   ]
  }
 ],
 "metadata": {
  "kernelspec": {
   "display_name": "Python 3",
   "language": "python",
   "name": "python3"
  },
  "language_info": {
   "codemirror_mode": {
    "name": "ipython",
    "version": 3
   },
   "file_extension": ".py",
   "mimetype": "text/x-python",
   "name": "python",
   "nbconvert_exporter": "python",
   "pygments_lexer": "ipython3",
   "version": "3.6.9"
  }
 },
 "nbformat": 4,
 "nbformat_minor": 2
}
