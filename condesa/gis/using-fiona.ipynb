{
 "cells": [
  {
   "cell_type": "markdown",
   "metadata": {},
   "source": [
    "# Fiooooona\n",
    "- [Reference](https://github.com/Toblerity/Fiona/blob/2ec38d087fea72c8bd0e7696d8ac1a6203df8851/examples/with-shapely.py#L22)"
   ]
  },
  {
   "cell_type": "code",
   "execution_count": 1,
   "metadata": {},
   "outputs": [],
   "source": [
    "from glob import glob\n",
    "import logging\n",
    "import os\n",
    "from pprint import pprint\n",
    "\n",
    "import geojson\n",
    "import fiona\n",
    "from shapely.geometry import mapping, shape, box"
   ]
  },
  {
   "cell_type": "code",
   "execution_count": null,
   "metadata": {},
   "outputs": [],
   "source": [
    "# WGS84\n",
    "shp_path = os.path.join(os.environ[\"DATA_DIR\"], 'shapefile_out')\n",
    "layer_path = os.path.join(os.environ[\"DATA_DIR\"], 'landgrid', 'DI_basemaps_WGS84.gdb')"
   ]
  },
  {
   "cell_type": "markdown",
   "metadata": {},
   "source": [
    "## Read Shapefile"
   ]
  },
  {
   "cell_type": "code",
   "execution_count": null,
   "metadata": {
    "scrolled": false
   },
   "outputs": [],
   "source": [
    "with fiona.open(os.path.join(shp_path, 'Counties_US_WGS84_shgrid.shp')) as c_iter:\n",
    "    print(f\"Driver: {c_iter.driver}, CRS: {c_iter.crs}\")\n",
    "    print(f\"Num Records: {len(c_iter)}\")\n",
    "    \n",
    "    rec = next(iter(c_iter))\n",
    "    pprint(f\"SCHEMA: {c_iter.schema}\")\n",
    "    pprint(rec.keys())\n",
    "    pprint(rec['type'])\n",
    "    pprint(rec['id'])\n",
    "    pprint(rec['properties'])\n",
    "    pprint(rec['geometry'])\n",
    "\n",
    "    # for rec in c_iter:\n",
    "    #     pprint(rec['type'])\n",
    "    #     pprint(rec['id'])\n",
    "    #     pprint(rec['properties'])\n",
    "    #     pprint(rec['geometry'])\n",
    "    \n",
    "    pprint(f\"Access by index: {c_iter[21]}\")    "
   ]
  },
  {
   "cell_type": "code",
   "execution_count": null,
   "metadata": {
    "scrolled": true
   },
   "outputs": [],
   "source": [
    "batches = glob(os.path.join(shp_path, f'*_township*.shp'))\n",
    "\n",
    "for b in batches:\n",
    "    with fiona.open(b) as c_iter:\n",
    "        print(f\"Num Records {os.path.split(b)[1]}: {len(c_iter)}\")"
   ]
  },
  {
   "cell_type": "markdown",
   "metadata": {},
   "source": [
    "## Read ESRI File Geodatabase\n",
    "- See https://gdal.org/drivers/vector/filegdb.html\n",
    "- See https://fiona.readthedocs.io/en/stable/manual.html#reading-multilayer-data"
   ]
  },
  {
   "cell_type": "code",
   "execution_count": null,
   "metadata": {
    "scrolled": true
   },
   "outputs": [],
   "source": [
    "# List layers in GDB\n",
    "for name in sorted(fiona.listlayers(layer_path)):\n",
    "    print(name)"
   ]
  },
  {
   "cell_type": "code",
   "execution_count": null,
   "metadata": {
    "scrolled": true
   },
   "outputs": [],
   "source": [
    "layer_path = os.path.join(os.environ[\"DATA_DIR\"], 'landgrid', 'DI_basemaps_WGS84.gdb')\n",
    "\n",
    "with fiona.open(layer_path, layer='States_US') as c_iter:\n",
    "    print(f\"Driver: {c_iter.driver}, CRS: {c_iter.crs}\")\n",
    "    print(f\"Num Records: {len(c_iter)}\")\n",
    "    pprint(f\"SCHEMA: {c_iter.schema}\")\n",
    "    \n",
    "    rec = next(iter(c_iter))\n",
    "    pprint(rec.keys())\n",
    "    pprint(rec['type'])\n",
    "    pprint(rec['id'])\n",
    "    pprint(rec['properties'])\n",
    "    pprint(rec['geometry'])\n",
    "\n",
    "    # for rec in c_iter:\n",
    "    #     pprint(rec['type'])\n",
    "    #     pprint(rec['id'])\n",
    "    #     pprint(rec['properties'])\n",
    "    #     pprint(rec['geometry'])\n"
   ]
  },
  {
   "cell_type": "markdown",
   "metadata": {},
   "source": [
    "## Write Shapefile"
   ]
  },
  {
   "cell_type": "code",
   "execution_count": null,
   "metadata": {
    "scrolled": true
   },
   "outputs": [],
   "source": [
    "%%time\n",
    "\n",
    "# WGS84 (epsg:4326)\n",
    "gdb_src_path = os.path.join(os.environ[\"DATA_DIR\"], 'landgrid', 'DI_basemaps_WGS84.gdb')\n",
    "shp_out_path = os.path.join(os.environ[\"DATA_DIR\"], 'shapefile_out', 'test_fiona.shp')\n",
    "\n",
    "with fiona.open(gdb_src_path, layer='States_US') as src:\n",
    "    print(f\"Driver: {src.driver}, CRS: {src.crs}\")\n",
    "    \n",
    "    # Copy the source schema and add a property.\n",
    "    schema = src.schema.copy()\n",
    "    schema['properties']['new_prop'] = 'int'  # new\n",
    "    schema['geometry'] = 'Polygon'  # update\n",
    "    print(f\"Schema: {schema}\")\n",
    "    \n",
    "    with fiona.open(shp_out_path, 'w', driver='ESRI Shapefile', \n",
    "                    schema=schema, crs=src.crs) as tgt:\n",
    "        \n",
    "        i = 0\n",
    "        for f in src:\n",
    "            #print(f\"Coordinates: {f['geometry']['coordinates']}\")\n",
    "            \n",
    "            # See https://shapely.readthedocs.io/en/latest/manual.html#python-geo-interface\n",
    "            state = shape(f['geometry'])\n",
    "            print(f\"Type: {f['geometry']['type']}, State: {f['properties']['State_Name']}\")\n",
    "            #print(f\"Bounds: {state.bounds}\")\n",
    "            \n",
    "            if not state.is_valid:\n",
    "                clean_state = state.buffer(0.0)\n",
    "                assert clean_state.is_valid\n",
    "                assert clean_state.geom_type == 'MultiPolygon'\n",
    "                state = clean_state\n",
    "            \n",
    "            bbox = box(*state.bounds)\n",
    "            \n",
    "            # Writes as python-geo-interface (GeoJSON-like)\n",
    "            f['geometry'] = mapping(bbox)\n",
    "            pprint(f\"Geometry: {f['geometry']}\")\n",
    "            \n",
    "            # Create GeoJSON representation.\n",
    "            pprint(f\"GeoJSON: {geojson.dumps(f['geometry'], sort_keys=True)}\")\n",
    "            f['properties'].update(new_prop=i)\n",
    "            i += 1\n",
    "            \n",
    "            tgt.write(f)"
   ]
  }
 ],
 "metadata": {
  "kernelspec": {
   "display_name": "Python 3",
   "language": "python",
   "name": "python3"
  },
  "language_info": {
   "codemirror_mode": {
    "name": "ipython",
    "version": 3
   },
   "file_extension": ".py",
   "mimetype": "text/x-python",
   "name": "python",
   "nbconvert_exporter": "python",
   "pygments_lexer": "ipython3",
   "version": "3.6.9"
  }
 },
 "nbformat": 4,
 "nbformat_minor": 2
}
