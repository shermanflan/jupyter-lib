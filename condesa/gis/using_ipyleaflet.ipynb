{
 "cells": [
  {
   "cell_type": "markdown",
   "metadata": {},
   "source": [
    "# Visualization Examples"
   ]
  },
  {
   "cell_type": "code",
   "execution_count": 1,
   "metadata": {},
   "outputs": [],
   "source": [
    "import os\n",
    "import datetime\n",
    "import geojson\n",
    "import json\n",
    "\n",
    "import psycopg2\n",
    "from shapely.geometry import Point, Polygon, MultiPolygon\n",
    "from shapely.wkb import loads\n",
    "from shapely.wkt import dumps, loads\n",
    "from ipyleaflet import (\n",
    "    Map, Marker, TileLayer, ImageOverlay,\n",
    "    Polyline, Polygon, Rectangle, Circle,\n",
    "    CircleMarker, GeoJSON, basemaps\n",
    ")"
   ]
  },
  {
   "cell_type": "code",
   "execution_count": 4,
   "metadata": {},
   "outputs": [],
   "source": [
    "# Postgis\n",
    "pg_host = os.environ[\"PG_SERVER\"]\n",
    "pg_db = os.environ[\"PG_DATABASE\"]\n",
    "pg_user = os.environ[\"PG_UID\"]\n",
    "pg_pwd = os.environ[\"PG_PWD\"]"
   ]
  },
  {
   "cell_type": "code",
   "execution_count": 5,
   "metadata": {},
   "outputs": [],
   "source": [
    "# center (lat, lon)\n",
    "latlon = [31.8457, -102.3676]\n",
    "zoom = 7\n",
    "mapper = Map(center=latlon, zoom=zoom, basemap=basemaps.OpenStreetMap.Mapnik)"
   ]
  },
  {
   "cell_type": "code",
   "execution_count": 58,
   "metadata": {
    "scrolled": true
   },
   "outputs": [
    {
     "name": "stdout",
     "output_type": "stream",
     "text": [
      "Completed.\n"
     ]
    }
   ],
   "source": [
    "# Example of overlap lister in SQL.\n",
    "dml = \"\"\"\n",
    "WITH ol\n",
    "AS\n",
    "(\n",
    "\tSELECT \tok.id, STRING_AGG(st.state_name, ', ') AS state_overlaps\n",
    "\tFROM \tpublic.ok_township AS ok \n",
    "\t\tINNER JOIN public.states_us AS st\n",
    "\t\t\tON ST_Intersects(st.shape, ok.shape)\n",
    "\tWHERE\tok.id < 100\n",
    "\tGROUP BY ok.id\n",
    ")\n",
    "SELECT \tol.state_overlaps, ok.id, ok.twplabel, \n",
    "\t\tST_AsGeoJSON(shape) AS jsonshape\n",
    "FROM \tpublic.ok_township AS ok\n",
    "\tINNER JOIN ol\n",
    "\t\tON ok.id = ol.id \n",
    ";\n",
    "\n",
    "\"\"\"\n",
    "\n",
    "with psycopg2.connect(host=pg_host, database=pg_db,user=pg_user, password=pg_pwd) as c:\n",
    "\n",
    "    try:\n",
    "        mapper.clear_layers()\n",
    "        mapper.add_layer(basemaps.OpenStreetMap.Mapnik)\n",
    "        \n",
    "        # Execute DML\n",
    "        cursor = c.cursor()\n",
    "        cursor.execute(dml)\n",
    "        c = cursor.fetchall()\n",
    "        \n",
    "        for rec in c:\n",
    "#             print(rec[1])\n",
    "            shape = geojson.loads(rec[3])\n",
    "            layer_shape = GeoJSON(data=shape)\n",
    "            mapper.add_layer(layer_shape)\n",
    "            \n",
    "    except Exception as e:\n",
    "        raise e\n",
    "\n",
    "print(\"Completed.\")"
   ]
  },
  {
   "cell_type": "code",
   "execution_count": 6,
   "metadata": {},
   "outputs": [
    {
     "data": {
      "application/vnd.jupyter.widget-view+json": {
       "model_id": "63e06697bf6a4126a29481e96810904b",
       "version_major": 2,
       "version_minor": 0
      },
      "text/plain": [
       "Map(center=[31.8457, -102.3676], controls=(ZoomControl(options=['position', 'zoom_in_text', 'zoom_in_title', '…"
      ]
     },
     "metadata": {},
     "output_type": "display_data"
    }
   ],
   "source": [
    "mapper"
   ]
  },
  {
   "cell_type": "code",
   "execution_count": null,
   "metadata": {
    "scrolled": false
   },
   "outputs": [],
   "source": [
    "mapper.layers"
   ]
  }
 ],
 "metadata": {
  "kernelspec": {
   "display_name": "Python 3",
   "language": "python",
   "name": "python3"
  },
  "language_info": {
   "codemirror_mode": {
    "name": "ipython",
    "version": 3
   },
   "file_extension": ".py",
   "mimetype": "text/x-python",
   "name": "python",
   "nbconvert_exporter": "python",
   "pygments_lexer": "ipython3",
   "version": "3.6.9"
  }
 },
 "nbformat": 4,
 "nbformat_minor": 2
}
