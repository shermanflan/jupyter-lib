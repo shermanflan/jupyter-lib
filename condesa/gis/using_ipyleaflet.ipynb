{
 "cells": [
  {
   "cell_type": "markdown",
   "metadata": {},
   "source": [
    "# Visualization Examples\n",
    "- [IpyLeaflet usage examples](https://towardsdatascience.com/ipyleaflet-interactive-mapping-in-jupyter-notebook-994f19611e79)\n",
    "- [Awesome icons](https://fontawesome.com/v4.7.0/icon/medkit)"
   ]
  },
  {
   "cell_type": "code",
   "execution_count": 23,
   "metadata": {},
   "outputs": [],
   "source": [
    "import csv\n",
    "import os\n",
    "import datetime\n",
    "import geojson\n",
    "import json\n",
    "\n",
    "import geopandas as gpd\n",
    "from ipyleaflet import (\n",
    "    Map, Marker, MarkerCluster, TileLayer, \n",
    "    ImageOverlay, AwesomeIcon, \n",
    "    LayersControl, ScaleControl, ZoomControl, FullScreenControl,\n",
    "    MeasureControl, SplitMapControl,\n",
    "    Polyline, Polygon, Rectangle, Circle, CircleMarker, \n",
    "    GeoData, GeoJSON, \n",
    "    LayerGroup,\n",
    "    basemaps, basemap_to_tiles\n",
    ")\n",
    "from ipywidgets import HTML\n",
    "import psycopg2\n",
    "from shapely.geometry import Point, Polygon, MultiPolygon\n",
    "from shapely.wkb import loads\n",
    "from shapely.wkt import dumps, loads"
   ]
  },
  {
   "cell_type": "code",
   "execution_count": null,
   "metadata": {},
   "outputs": [],
   "source": [
    "%%bash\n",
    "\n",
    "# head -n 5 data/patient_branch_zip.csv\n",
    "# pip3 list"
   ]
  },
  {
   "cell_type": "code",
   "execution_count": 2,
   "metadata": {},
   "outputs": [],
   "source": [
    "# Postgis\n",
    "pg_host = os.environ[\"PG_SERVER\"]\n",
    "pg_db = os.environ[\"PG_DATABASE\"]\n",
    "pg_user = os.environ[\"PG_UID\"]\n",
    "pg_pwd = os.environ[\"PG_PWD\"]\n",
    "branch_file = \"data/patient_branch_zip.csv\""
   ]
  },
  {
   "cell_type": "markdown",
   "metadata": {},
   "source": [
    "## Create Map\n",
    "- [Basemaps](https://ipyleaflet.readthedocs.io/en/latest/api_reference/basemaps.html)"
   ]
  },
  {
   "cell_type": "code",
   "execution_count": null,
   "metadata": {},
   "outputs": [],
   "source": [
    "# center (lat, lon)\n",
    "centroid = [35.0984955, -85.3791176]\n",
    "\n",
    "# mapper = Map(center=centroid, zoom=5, basemap=basemaps.CartoDB.DarkMatter)\n",
    "# mapper = Map(center=latlon, zoom=zoom, basemap=basemaps.Esri.WorldStreetMap)\n",
    "# mapper = Map(center=latlon, zoom=zoom, basemap=basemaps.OpenStreetMap.HOT)\n",
    "# mapper = Map(center=latlon, zoom=zoom, basemap=basemaps.CartoDB.Positron)\n",
    "# mapper = Map(center=latlon, zoom=zoom, basemap=basemaps.OpenStreetMap.Mapnik)\n",
    "mapper = Map(center=latlon, zoom=zoom, basemap=basemaps.Stamen.Toner)\n",
    "# mapper = Map(center=latlon, zoom=zoom, basemap=basemaps.NASAGIBS.ViirsEarthAtNight2012)\n",
    "mapper"
   ]
  },
  {
   "cell_type": "code",
   "execution_count": null,
   "metadata": {
    "scrolled": true
   },
   "outputs": [],
   "source": [
    "mapper.layers"
   ]
  },
  {
   "cell_type": "markdown",
   "metadata": {},
   "source": [
    "## Create Map from SQL"
   ]
  },
  {
   "cell_type": "markdown",
   "metadata": {},
   "source": [
    "### Add branches\n",
    "- Also, saves to shapefile from postgreSQL"
   ]
  },
  {
   "cell_type": "code",
   "execution_count": 32,
   "metadata": {
    "scrolled": false
   },
   "outputs": [
    {
     "name": "stdout",
     "output_type": "stream",
     "text": [
      "Added 55 branches\n"
     ]
    },
    {
     "data": {
      "application/vnd.jupyter.widget-view+json": {
       "model_id": "fd18f4cca5624bb6affaea61cd976d92",
       "version_major": 2,
       "version_minor": 0
      },
      "text/plain": [
       "Map(center=[35.0984955, -85.3791176], controls=(AttributionControl(options=['position', 'prefix'], position='b…"
      ]
     },
     "metadata": {},
     "output_type": "display_data"
    },
    {
     "name": "stdout",
     "output_type": "stream",
     "text": [
      "CPU times: user 1.43 s, sys: 55.7 ms, total: 1.49 s\n",
      "Wall time: 1.55 s\n"
     ]
    }
   ],
   "source": [
    "%%time\n",
    "branch_dml = \"\"\"\n",
    "    SELECT  DISTINCT\n",
    "            branch_key,\n",
    "            branch_latitude,\n",
    "            branch_longitude,\n",
    "            branch_location\n",
    "            --ST_AsGeoJSON(branch_location) AS branch_json\n",
    "    FROM    public.patient_branch\n",
    "\"\"\"\n",
    "\n",
    "with psycopg2.connect(host=pg_host, \n",
    "                      database=pg_db,\n",
    "                      user=pg_user, \n",
    "                      password=pg_pwd) as c:\n",
    "    patient_df = gpd.GeoDataFrame.from_postgis(sql=branch_dml, con=c,\n",
    "                                               geom_col=\"branch_location\")\n",
    "#     patient_df.to_file('data/patient_branch.shp')\n",
    "#     patient_3857_df = patient_df.copy().to_crs(epsg=3857)  # web mercator\n",
    "#     patient_3857_df.to_file('data/patient_branch.geojson', driver='GeoJSON')\n",
    "    patient_df.to_csv('data/patient_branch.csv', index=False)\n",
    "    \n",
    "with psycopg2.connect(host=pg_host, \n",
    "                      database=pg_db,\n",
    "                      user=pg_user, \n",
    "                      password=pg_pwd) as c:\n",
    "    try:\n",
    "#         mapper.clear_layers()\n",
    "#         mapper.add_layer(basemaps.OpenStreetMap.Mapnik)\n",
    "        \n",
    "        # Execute DML\n",
    "        cursor = c.cursor()\n",
    "        cursor.execute(branch_dml)\n",
    "        \n",
    "        centroid = [35.0984955, -85.3791176]\n",
    "        hospital_icon = AwesomeIcon(\n",
    "            name='fa-medkit',\n",
    "            marker_color='red',\n",
    "            icon_color='white',\n",
    "            spin=False\n",
    "        )\n",
    "        mapper = Map(center=centroid, zoom=6, zoom_control=False)\n",
    "        \n",
    "        left_map = basemap_to_tiles(basemaps.Stamen.Toner)\n",
    "        right_map = basemap_to_tiles(basemaps.OpenStreetMap.Mapnik)\n",
    "\n",
    "        split_control = SplitMapControl(left_layer=left_map, right_layer=right_map)\n",
    "        mapper.add_control(split_control)\n",
    "        \n",
    "        branch_group = LayerGroup(name=\"Branches\")\n",
    "        branch_radius_group = LayerGroup(name=\"Branch Radius\")\n",
    "        \n",
    "        shapes = 0\n",
    "        for rec in cursor:\n",
    "            shapes += 1\n",
    "            \n",
    "            branch_loc = (rec[1], rec[2])\n",
    "            marker = Marker(location=branch_loc, opacity=0.5, \n",
    "#                             rise_on_hover=True, rise_offset=250,\n",
    "                            icon=hospital_icon)\n",
    "            branch_group.add_layer(marker);\n",
    "            \n",
    "            branch_info = HTML()\n",
    "            branch_info.value = f\"Branch Key: <b>{rec[0]}</b>\"\n",
    "#             branch_info.placeholder = \"Some HTML\"\n",
    "#             branch_info.description = \"Some HTML\"\n",
    "            marker.popup = branch_info\n",
    "        \n",
    "            branch_r = Circle()\n",
    "#             branch_r = CircleMarker()\n",
    "            branch_r.location = branch_loc\n",
    "#             branch_r.radius = 10  # CircleMarker pixels\n",
    "            branch_r.radius = 6000  # Circle meters\n",
    "            branch_r.fill = True\n",
    "            branch_r.fill_color = \"yellow\"\n",
    "            branch_r.fill_opacity = 0.5\n",
    "            branch_r.stroke = True\n",
    "            branch_r.color = \"#000000\"  # stroke color, also hex #0033FF\n",
    "            branch_r.opacity = 0.7  # stroke\n",
    "            branch_r.weight = 1  # stroke\n",
    "            \n",
    "            branch_radius_group.add_layer(branch_r)\n",
    "\n",
    "        mapper.add_layer(branch_group)\n",
    "        mapper.add_layer(branch_radius_group)\n",
    "        \n",
    "        mapper.add_control(ZoomControl(position='topright'))\n",
    "        mapper.add_control(LayersControl())\n",
    "        mapper.add_control(ScaleControl(position='bottomleft', metric=False))\n",
    "        mapper.add_control(FullScreenControl())\n",
    "        \n",
    "        measure = MeasureControl(\n",
    "            position='bottomleft',\n",
    "            active_color = 'orange',\n",
    "            primary_length_unit = 'miles'\n",
    "        )\n",
    "        mapper.add_control(measure)\n",
    "\n",
    "        measure.completed_color = 'red'\n",
    "\n",
    "#         measure.add_length_unit('yards', 1.09361, 4)\n",
    "#         measure.secondary_length_unit = 'yards'\n",
    "#         measure.add_area_unit('sqyards', 1.19599, 4)\n",
    "#         measure.secondary_area_unit = 'sqyards'\n",
    "        \n",
    "        print(f\"Added {shapes} branches\")\n",
    "        \n",
    "    except Exception as e:\n",
    "        raise e\n",
    "\n",
    "display(mapper)"
   ]
  },
  {
   "cell_type": "markdown",
   "metadata": {},
   "source": [
    "### Add Patients\n",
    "- Loads from SQL to GeoDataFrame"
   ]
  },
  {
   "cell_type": "code",
   "execution_count": 25,
   "metadata": {},
   "outputs": [
    {
     "name": "stdout",
     "output_type": "stream",
     "text": [
      "Added 646 patients\n"
     ]
    },
    {
     "data": {
      "application/vnd.jupyter.widget-view+json": {
       "model_id": "5891927324194df4ab4eeb5b8969dd9c",
       "version_major": 2,
       "version_minor": 0
      },
      "text/plain": [
       "Map(bottom=52072.0, center=[35.10193405724608, -85.374755859375], controls=(AttributionControl(options=['posit…"
      ]
     },
     "metadata": {},
     "output_type": "display_data"
    },
    {
     "name": "stdout",
     "output_type": "stream",
     "text": [
      "CPU times: user 3.21 s, sys: 113 ms, total: 3.32 s\n",
      "Wall time: 3.47 s\n"
     ]
    }
   ],
   "source": [
    "%%time\n",
    "patient_dml = \"\"\"\n",
    "    select  patient_latitude\n",
    "            , patient_longitude\n",
    "            , patient_location\n",
    "            , MIN(patient_key) AS patient_key\n",
    "            , COUNT(*) OVER () AS total_patients\n",
    "    from    public.patient_branch\n",
    "    GROUP BY patient_latitude, patient_longitude, patient_location\n",
    "\"\"\"\n",
    "\n",
    "with psycopg2.connect(host=pg_host, \n",
    "                      database=pg_db,\n",
    "                      user=pg_user, \n",
    "                      password=pg_pwd) as c:\n",
    "    patient_df = gpd.GeoDataFrame.from_postgis(sql=patient_dml, con=c,\n",
    "                                               geom_col=\"patient_location\")\n",
    "\n",
    "with psycopg2.connect(host=pg_host, \n",
    "                      database=pg_db,\n",
    "                      user=pg_user, \n",
    "                      password=pg_pwd) as c:\n",
    "    try:\n",
    "#         mapper.clear_layers()\n",
    "#         mapper.add_layer(basemaps.OpenStreetMap.Mapnik)\n",
    "\n",
    "        patient_icon = AwesomeIcon(\n",
    "            name='fa-user-o',\n",
    "            marker_color='blue',\n",
    "            icon_color='white',\n",
    "            spin=False\n",
    "        )\n",
    "\n",
    "        patient_loc = [Marker(location=(geo.x, geo.y), \n",
    "                              icon=patient_icon, \n",
    "#                               rise_on_hover=True, rise_offset=250\n",
    "                             ) \n",
    "                       for geo in patient_df.geometry\n",
    "                      ]\n",
    "        mapper.add_layer(MarkerCluster(markers=patient_loc, name=\"Patients\"))\n",
    "        print(f\"Added {patient_df.shape[0]} patients\")\n",
    "\n",
    "    except Exception as e:\n",
    "        raise e\n",
    "\n",
    "display(mapper)"
   ]
  },
  {
   "cell_type": "code",
   "execution_count": 226,
   "metadata": {
    "scrolled": true
   },
   "outputs": [
    {
     "data": {
      "text/plain": [
       "4"
      ]
     },
     "execution_count": 226,
     "metadata": {},
     "output_type": "execute_result"
    }
   ],
   "source": [
    "len(mapper.layers)"
   ]
  }
 ],
 "metadata": {
  "kernelspec": {
   "display_name": "Python 3",
   "language": "python",
   "name": "python3"
  },
  "language_info": {
   "codemirror_mode": {
    "name": "ipython",
    "version": 3
   },
   "file_extension": ".py",
   "mimetype": "text/x-python",
   "name": "python",
   "nbconvert_exporter": "python",
   "pygments_lexer": "ipython3",
   "version": "3.6.9"
  }
 },
 "nbformat": 4,
 "nbformat_minor": 2
}
