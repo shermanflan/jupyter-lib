{
 "cells": [
  {
   "cell_type": "markdown",
   "metadata": {},
   "source": [
    "## Overlaps Experiments\n",
    "- This example uses the underlying gpd R-tree to calculate intersections between polygons."
   ]
  },
  {
   "cell_type": "code",
   "execution_count": 1,
   "metadata": {},
   "outputs": [],
   "source": [
    "from datetime import datetime\n",
    "import logging\n",
    "import os\n",
    "\n",
    "import geopandas as gpd\n",
    "import matplotlib as plt"
   ]
  },
  {
   "cell_type": "code",
   "execution_count": null,
   "metadata": {},
   "outputs": [],
   "source": [
    "!ls $DIML_HOME"
   ]
  },
  {
   "cell_type": "code",
   "execution_count": 2,
   "metadata": {},
   "outputs": [],
   "source": [
    "# Postgis\n",
    "pg_host = os.environ[\"PG_SERVER\"]\n",
    "pg_db = os.environ[\"PG_DATABASE\"]\n",
    "pg_user = os.environ[\"PG_UID\"]\n",
    "pg_pwd = os.environ[\"PG_PWD\"]\n",
    "\n",
    "# WGS84 (epsg:4326)\n",
    "gdb_path = os.path.join(os.environ[\"DATA_DIR\"], 'landgrid', 'DI_basemaps_WGS84.gdb')\n",
    "ddl_path = os.path.join(os.environ[\"DIML_HOME\"], 'database', 'schema.sql')\n",
    "out_path = os.path.join(os.environ[\"DATA_DIR\"], 'shapefile_out')\n",
    "idx_path = os.path.join(os.environ[\"DIML_HOME\"], 'database', \"indexes.sql\")"
   ]
  },
  {
   "cell_type": "markdown",
   "metadata": {},
   "source": [
    "### Read files and create sindexes"
   ]
  },
  {
   "cell_type": "code",
   "execution_count": 13,
   "metadata": {},
   "outputs": [],
   "source": [
    "county_path = os.path.join(out_path, 'Counties_US_WGS84_clean.shp')\n",
    "county_df = gpd.read_file(county_path)\n",
    "county_idx = county_df.sindex"
   ]
  },
  {
   "cell_type": "code",
   "execution_count": 14,
   "metadata": {},
   "outputs": [],
   "source": [
    "child_path = os.path.join(out_path, f'AZ_section_clean.shp')\n",
    "az_sec_df = gpd.read_file(child_path).loc[:10000, :]\n",
    "az_idx = az_sec_df.sindex"
   ]
  },
  {
   "cell_type": "code",
   "execution_count": 5,
   "metadata": {},
   "outputs": [
    {
     "data": {
      "text/html": [
       "<div>\n",
       "<style scoped>\n",
       "    .dataframe tbody tr th:only-of-type {\n",
       "        vertical-align: middle;\n",
       "    }\n",
       "\n",
       "    .dataframe tbody tr th {\n",
       "        vertical-align: top;\n",
       "    }\n",
       "\n",
       "    .dataframe thead th {\n",
       "        text-align: right;\n",
       "    }\n",
       "</style>\n",
       "<table border=\"1\" class=\"dataframe\">\n",
       "  <thead>\n",
       "    <tr style=\"text-align: right;\">\n",
       "      <th></th>\n",
       "      <th>StateID</th>\n",
       "      <th>StateAPI</th>\n",
       "      <th>TWPCODE</th>\n",
       "      <th>SECCODE</th>\n",
       "      <th>MER</th>\n",
       "      <th>MST</th>\n",
       "      <th>TWP</th>\n",
       "      <th>THALF</th>\n",
       "      <th>TNS</th>\n",
       "      <th>RGE</th>\n",
       "      <th>RHALF</th>\n",
       "      <th>REW</th>\n",
       "      <th>SEC</th>\n",
       "      <th>Shape_Leng</th>\n",
       "      <th>Shape_Area</th>\n",
       "      <th>geometry</th>\n",
       "    </tr>\n",
       "  </thead>\n",
       "  <tbody>\n",
       "    <tr>\n",
       "      <th>0</th>\n",
       "      <td>61</td>\n",
       "      <td>02</td>\n",
       "      <td>0214T00300NR02300E</td>\n",
       "      <td>0214T00300NR02300E24</td>\n",
       "      <td>14</td>\n",
       "      <td>Gila and Salt River</td>\n",
       "      <td>3</td>\n",
       "      <td>0</td>\n",
       "      <td>N</td>\n",
       "      <td>23</td>\n",
       "      <td>0</td>\n",
       "      <td>E</td>\n",
       "      <td>24</td>\n",
       "      <td>0.063664</td>\n",
       "      <td>0.000251</td>\n",
       "      <td>POLYGON ((-109.90901 33.59656, -109.89170 33.5...</td>\n",
       "    </tr>\n",
       "  </tbody>\n",
       "</table>\n",
       "</div>"
      ],
      "text/plain": [
       "   StateID StateAPI             TWPCODE               SECCODE MER  \\\n",
       "0       61       02  0214T00300NR02300E  0214T00300NR02300E24  14   \n",
       "\n",
       "                   MST  TWP  THALF TNS  RGE  RHALF REW  SEC  Shape_Leng  \\\n",
       "0  Gila and Salt River    3      0   N   23      0   E   24    0.063664   \n",
       "\n",
       "   Shape_Area                                           geometry  \n",
       "0    0.000251  POLYGON ((-109.90901 33.59656, -109.89170 33.5...  "
      ]
     },
     "execution_count": 5,
     "metadata": {},
     "output_type": "execute_result"
    }
   ],
   "source": [
    "az_sec_df.head(1)"
   ]
  },
  {
   "cell_type": "markdown",
   "metadata": {},
   "source": [
    "### Run spatial join to get baseline results"
   ]
  },
  {
   "cell_type": "code",
   "execution_count": 15,
   "metadata": {},
   "outputs": [],
   "source": [
    "olaps_df = gpd.sjoin(az_sec_df, county_df, how='inner', op='intersects')"
   ]
  },
  {
   "cell_type": "code",
   "execution_count": 22,
   "metadata": {
    "scrolled": true
   },
   "outputs": [
    {
     "data": {
      "text/html": [
       "<div>\n",
       "<style scoped>\n",
       "    .dataframe tbody tr th:only-of-type {\n",
       "        vertical-align: middle;\n",
       "    }\n",
       "\n",
       "    .dataframe tbody tr th {\n",
       "        vertical-align: top;\n",
       "    }\n",
       "\n",
       "    .dataframe thead th {\n",
       "        text-align: right;\n",
       "    }\n",
       "</style>\n",
       "<table border=\"1\" class=\"dataframe\">\n",
       "  <thead>\n",
       "    <tr style=\"text-align: right;\">\n",
       "      <th></th>\n",
       "      <th>SECCODE</th>\n",
       "      <th>County_Nam</th>\n",
       "    </tr>\n",
       "  </thead>\n",
       "  <tbody>\n",
       "    <tr>\n",
       "      <th>0</th>\n",
       "      <td>0214T00300NR02300E24</td>\n",
       "      <td>Apache</td>\n",
       "    </tr>\n",
       "    <tr>\n",
       "      <th>0</th>\n",
       "      <td>0214T00300NR02300E24</td>\n",
       "      <td>Navajo</td>\n",
       "    </tr>\n",
       "  </tbody>\n",
       "</table>\n",
       "</div>"
      ],
      "text/plain": [
       "                SECCODE County_Nam\n",
       "0  0214T00300NR02300E24     Apache\n",
       "0  0214T00300NR02300E24     Navajo"
      ]
     },
     "execution_count": 22,
     "metadata": {},
     "output_type": "execute_result"
    }
   ],
   "source": [
    "olaps_df.loc[0, ['SECCODE', 'County_Nam']]"
   ]
  },
  {
   "cell_type": "markdown",
   "metadata": {},
   "source": [
    "### Pick a random county and section"
   ]
  },
  {
   "cell_type": "code",
   "execution_count": 20,
   "metadata": {
    "scrolled": true
   },
   "outputs": [
    {
     "data": {
      "text/plain": [
       "County_Nam                                              Autauga\n",
       "State_Name                                              Alabama\n",
       "CountyID                                                    577\n",
       "StateID                                                      60\n",
       "FIPS_State                                                   01\n",
       "FIPS_Count                                                  001\n",
       "API_State                                                    01\n",
       "API_County                                                  001\n",
       "LAT                                                      32.535\n",
       "LON                                                    -86.6428\n",
       "Shape_Leng                                              2.06526\n",
       "Shape_Area                                              0.15026\n",
       "geometry      POLYGON ((-86.41313722699994 32.70749287800004...\n",
       "Name: 0, dtype: object"
      ]
     },
     "execution_count": 20,
     "metadata": {},
     "output_type": "execute_result"
    }
   ],
   "source": [
    "county_polygon = county_df.loc[0, :]"
   ]
  },
  {
   "cell_type": "code",
   "execution_count": 24,
   "metadata": {
    "scrolled": false
   },
   "outputs": [],
   "source": [
    "section_polygon = az_sec_df.loc[0, :].geometry"
   ]
  },
  {
   "cell_type": "markdown",
   "metadata": {},
   "source": [
    "### Get the intersection of counties with the section's bounding box"
   ]
  },
  {
   "cell_type": "code",
   "execution_count": 25,
   "metadata": {},
   "outputs": [
    {
     "data": {
      "text/plain": [
       "[1799, 1795, 1804]"
      ]
     },
     "execution_count": 25,
     "metadata": {},
     "output_type": "execute_result"
    }
   ],
   "source": [
    "county_overlaps = list(county_idx.intersection(section_polygon.bounds))\n",
    "county_overlaps"
   ]
  },
  {
   "cell_type": "code",
   "execution_count": 27,
   "metadata": {},
   "outputs": [
    {
     "data": {
      "text/html": [
       "<div>\n",
       "<style scoped>\n",
       "    .dataframe tbody tr th:only-of-type {\n",
       "        vertical-align: middle;\n",
       "    }\n",
       "\n",
       "    .dataframe tbody tr th {\n",
       "        vertical-align: top;\n",
       "    }\n",
       "\n",
       "    .dataframe thead th {\n",
       "        text-align: right;\n",
       "    }\n",
       "</style>\n",
       "<table border=\"1\" class=\"dataframe\">\n",
       "  <thead>\n",
       "    <tr style=\"text-align: right;\">\n",
       "      <th></th>\n",
       "      <th>County_Nam</th>\n",
       "      <th>State_Name</th>\n",
       "      <th>CountyID</th>\n",
       "      <th>StateID</th>\n",
       "      <th>FIPS_State</th>\n",
       "      <th>FIPS_Count</th>\n",
       "      <th>API_State</th>\n",
       "      <th>API_County</th>\n",
       "      <th>LAT</th>\n",
       "      <th>LON</th>\n",
       "      <th>Shape_Leng</th>\n",
       "      <th>Shape_Area</th>\n",
       "      <th>geometry</th>\n",
       "    </tr>\n",
       "  </thead>\n",
       "  <tbody>\n",
       "    <tr>\n",
       "      <th>1799</th>\n",
       "      <td>Graham</td>\n",
       "      <td>Arizona</td>\n",
       "      <td>651.0</td>\n",
       "      <td>61.0</td>\n",
       "      <td>04</td>\n",
       "      <td>009</td>\n",
       "      <td>02</td>\n",
       "      <td>009</td>\n",
       "      <td>32.932825</td>\n",
       "      <td>-109.887475</td>\n",
       "      <td>5.462724</td>\n",
       "      <td>1.158908</td>\n",
       "      <td>POLYGON ((-109.49546 33.65279, -109.49546 33.6...</td>\n",
       "    </tr>\n",
       "    <tr>\n",
       "      <th>1795</th>\n",
       "      <td>Apache</td>\n",
       "      <td>Arizona</td>\n",
       "      <td>647.0</td>\n",
       "      <td>61.0</td>\n",
       "      <td>04</td>\n",
       "      <td>001</td>\n",
       "      <td>02</td>\n",
       "      <td>001</td>\n",
       "      <td>35.395687</td>\n",
       "      <td>-109.488869</td>\n",
       "      <td>9.317715</td>\n",
       "      <td>2.883117</td>\n",
       "      <td>POLYGON ((-109.04524 36.99916, -109.04524 36.9...</td>\n",
       "    </tr>\n",
       "    <tr>\n",
       "      <th>1804</th>\n",
       "      <td>Navajo</td>\n",
       "      <td>Arizona</td>\n",
       "      <td>656.0</td>\n",
       "      <td>61.0</td>\n",
       "      <td>04</td>\n",
       "      <td>017</td>\n",
       "      <td>02</td>\n",
       "      <td>017</td>\n",
       "      <td>35.399711</td>\n",
       "      <td>-110.321430</td>\n",
       "      <td>8.747960</td>\n",
       "      <td>2.559704</td>\n",
       "      <td>POLYGON ((-110.00070 36.99803, -110.00070 36.9...</td>\n",
       "    </tr>\n",
       "  </tbody>\n",
       "</table>\n",
       "</div>"
      ],
      "text/plain": [
       "     County_Nam State_Name  CountyID  StateID FIPS_State FIPS_Count API_State  \\\n",
       "1799     Graham    Arizona     651.0     61.0         04        009        02   \n",
       "1795     Apache    Arizona     647.0     61.0         04        001        02   \n",
       "1804     Navajo    Arizona     656.0     61.0         04        017        02   \n",
       "\n",
       "     API_County        LAT         LON  Shape_Leng  Shape_Area  \\\n",
       "1799        009  32.932825 -109.887475    5.462724    1.158908   \n",
       "1795        001  35.395687 -109.488869    9.317715    2.883117   \n",
       "1804        017  35.399711 -110.321430    8.747960    2.559704   \n",
       "\n",
       "                                               geometry  \n",
       "1799  POLYGON ((-109.49546 33.65279, -109.49546 33.6...  \n",
       "1795  POLYGON ((-109.04524 36.99916, -109.04524 36.9...  \n",
       "1804  POLYGON ((-110.00070 36.99803, -110.00070 36.9...  "
      ]
     },
     "execution_count": 27,
     "metadata": {},
     "output_type": "execute_result"
    }
   ],
   "source": [
    "possible_matches = county_df.iloc[county_overlaps]\n",
    "possible_matches"
   ]
  },
  {
   "cell_type": "markdown",
   "metadata": {},
   "source": [
    "### Use the possible county matches and the original polygon to get the actual intersection\n",
    "- This should match the results from the sjoin earlier"
   ]
  },
  {
   "cell_type": "code",
   "execution_count": 28,
   "metadata": {},
   "outputs": [
    {
     "data": {
      "text/html": [
       "<div>\n",
       "<style scoped>\n",
       "    .dataframe tbody tr th:only-of-type {\n",
       "        vertical-align: middle;\n",
       "    }\n",
       "\n",
       "    .dataframe tbody tr th {\n",
       "        vertical-align: top;\n",
       "    }\n",
       "\n",
       "    .dataframe thead th {\n",
       "        text-align: right;\n",
       "    }\n",
       "</style>\n",
       "<table border=\"1\" class=\"dataframe\">\n",
       "  <thead>\n",
       "    <tr style=\"text-align: right;\">\n",
       "      <th></th>\n",
       "      <th>County_Nam</th>\n",
       "      <th>State_Name</th>\n",
       "      <th>CountyID</th>\n",
       "      <th>StateID</th>\n",
       "      <th>FIPS_State</th>\n",
       "      <th>FIPS_Count</th>\n",
       "      <th>API_State</th>\n",
       "      <th>API_County</th>\n",
       "      <th>LAT</th>\n",
       "      <th>LON</th>\n",
       "      <th>Shape_Leng</th>\n",
       "      <th>Shape_Area</th>\n",
       "      <th>geometry</th>\n",
       "    </tr>\n",
       "  </thead>\n",
       "  <tbody>\n",
       "    <tr>\n",
       "      <th>1795</th>\n",
       "      <td>Apache</td>\n",
       "      <td>Arizona</td>\n",
       "      <td>647.0</td>\n",
       "      <td>61.0</td>\n",
       "      <td>04</td>\n",
       "      <td>001</td>\n",
       "      <td>02</td>\n",
       "      <td>001</td>\n",
       "      <td>35.395687</td>\n",
       "      <td>-109.488869</td>\n",
       "      <td>9.317715</td>\n",
       "      <td>2.883117</td>\n",
       "      <td>POLYGON ((-109.04524 36.99916, -109.04524 36.9...</td>\n",
       "    </tr>\n",
       "    <tr>\n",
       "      <th>1804</th>\n",
       "      <td>Navajo</td>\n",
       "      <td>Arizona</td>\n",
       "      <td>656.0</td>\n",
       "      <td>61.0</td>\n",
       "      <td>04</td>\n",
       "      <td>017</td>\n",
       "      <td>02</td>\n",
       "      <td>017</td>\n",
       "      <td>35.399711</td>\n",
       "      <td>-110.321430</td>\n",
       "      <td>8.747960</td>\n",
       "      <td>2.559704</td>\n",
       "      <td>POLYGON ((-110.00070 36.99803, -110.00070 36.9...</td>\n",
       "    </tr>\n",
       "  </tbody>\n",
       "</table>\n",
       "</div>"
      ],
      "text/plain": [
       "     County_Nam State_Name  CountyID  StateID FIPS_State FIPS_Count API_State  \\\n",
       "1795     Apache    Arizona     647.0     61.0         04        001        02   \n",
       "1804     Navajo    Arizona     656.0     61.0         04        017        02   \n",
       "\n",
       "     API_County        LAT         LON  Shape_Leng  Shape_Area  \\\n",
       "1795        001  35.395687 -109.488869    9.317715    2.883117   \n",
       "1804        017  35.399711 -110.321430    8.747960    2.559704   \n",
       "\n",
       "                                               geometry  \n",
       "1795  POLYGON ((-109.04524 36.99916, -109.04524 36.9...  \n",
       "1804  POLYGON ((-110.00070 36.99803, -110.00070 36.9...  "
      ]
     },
     "execution_count": 28,
     "metadata": {},
     "output_type": "execute_result"
    }
   ],
   "source": [
    "actual_matches = possible_matches[possible_matches.intersects(section_polygon)]\n",
    "actual_matches"
   ]
  }
 ],
 "metadata": {
  "kernelspec": {
   "display_name": "Python 3",
   "language": "python",
   "name": "python3"
  },
  "language_info": {
   "codemirror_mode": {
    "name": "ipython",
    "version": 3
   },
   "file_extension": ".py",
   "mimetype": "text/x-python",
   "name": "python",
   "nbconvert_exporter": "python",
   "pygments_lexer": "ipython3",
   "version": "3.6.9"
  }
 },
 "nbformat": 4,
 "nbformat_minor": 2
}
