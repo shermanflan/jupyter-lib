{
 "cells": [
  {
   "cell_type": "markdown",
   "metadata": {},
   "source": [
    "# Shapely\n",
    "- [Reference](https://github.com/Toblerity/Fiona/blob/2ec38d087fea72c8bd0e7696d8ac1a6203df8851/examples/with-shapely.py#L22)"
   ]
  },
  {
   "cell_type": "code",
   "execution_count": 1,
   "metadata": {},
   "outputs": [],
   "source": [
    "import os\n",
    "import json\n",
    "from pprint import pprint\n",
    "\n",
    "import fiona\n",
    "from shapely.geometry import Polygon, Point, LineString, \\\n",
    "                            LinearRing, MultiPoint, MultiLineString, \\\n",
    "                            MultiPolygon, mapping, shape"
   ]
  },
  {
   "cell_type": "markdown",
   "metadata": {},
   "source": [
    "## Create Geometries"
   ]
  },
  {
   "cell_type": "code",
   "execution_count": 2,
   "metadata": {},
   "outputs": [],
   "source": [
    "p1 = Polygon(((1, 2), (5, 3), (5, 7), (1, 9), (1, 2)))\n",
    "p2 = Polygon(((6,6), (7,6), (10,4), (11,8), (6,6)))\n",
    "\n",
    "q = Point((2.0, 2.0))\n",
    "line = LineString([(0, 0), (10,10)])\n",
    "ring = LinearRing([(0,0), (3,3), (3,0)])\n",
    "points = MultiPoint([(0.0, 0.0), (3.0, 3.0)])\n",
    "lines = MultiLineString([((0, 0), (1, 1)), ((-1, 0), (1, 0))])\n",
    "polygons = MultiPolygon([p1, p2,])"
   ]
  },
  {
   "cell_type": "markdown",
   "metadata": {},
   "source": [
    "## Reading from GeoJSON"
   ]
  },
  {
   "cell_type": "code",
   "execution_count": null,
   "metadata": {},
   "outputs": [],
   "source": [
    "g_json = '{\"type\": \"Polygon\", \"coordinates\": [[[1,1], [1,3 ], [3,3]]]}'\n",
    "\n",
    "p = shape(json.loads(g_json))  # from geojson\n",
    "print(json.dumps(mapping(p)))  # to geojson\n",
    "\n",
    "p.area"
   ]
  },
  {
   "cell_type": "markdown",
   "metadata": {},
   "source": [
    "## Reading from Shapefile (via Fiona)"
   ]
  },
  {
   "cell_type": "code",
   "execution_count": null,
   "metadata": {
    "scrolled": true
   },
   "outputs": [],
   "source": [
    "# WGS84\n",
    "shp_path = os.path.join(os.environ[\"DATA_DIR\"], 'countries', 'TM_WORLD_BORDERS-0.3.shp')\n",
    "\n",
    "states = []\n",
    "with fiona.open(shp_path) as c_iter:\n",
    "    \n",
    "    for rec in c_iter[:5]:\n",
    "        pprint(f\"Type: {rec['type']}\")\n",
    "        pprint(f\"ID: {rec['id']}\")\n",
    "        pprint(rec['properties'])\n",
    "        pprint(rec['geometry'])\n",
    "        \n",
    "        # Load as shape or inspect rec['geometry']['type']\n",
    "        print(f\"Shape Type: {rec['geometry']['type']}\")\n",
    "        state = shape(rec['geometry'])\n",
    "        states.append(state)\n",
    "    "
   ]
  },
  {
   "cell_type": "code",
   "execution_count": null,
   "metadata": {},
   "outputs": [],
   "source": [
    "multi = MultiPolygon(states)\n",
    "multi"
   ]
  },
  {
   "cell_type": "code",
   "execution_count": null,
   "metadata": {},
   "outputs": [],
   "source": [
    "multi.wkt"
   ]
  }
 ],
 "metadata": {
  "kernelspec": {
   "display_name": "Python 3",
   "language": "python",
   "name": "python3"
  },
  "language_info": {
   "codemirror_mode": {
    "name": "ipython",
    "version": 3
   },
   "file_extension": ".py",
   "mimetype": "text/x-python",
   "name": "python",
   "nbconvert_exporter": "python",
   "pygments_lexer": "ipython3",
   "version": "3.6.9"
  }
 },
 "nbformat": 4,
 "nbformat_minor": 2
}
