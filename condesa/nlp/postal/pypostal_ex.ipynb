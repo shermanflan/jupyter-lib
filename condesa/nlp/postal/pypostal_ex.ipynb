{
 "cells": [
  {
   "cell_type": "markdown",
   "metadata": {},
   "source": [
    "## libpostal Examples\n",
    "Library uses NLP to standardize addresses\n",
    "- [Reference](https://github.com/openvenues/libpostal)"
   ]
  },
  {
   "cell_type": "code",
   "execution_count": 1,
   "metadata": {},
   "outputs": [],
   "source": [
    "from postal.expand import expand_address\n",
    "from postal.parser import parse_address"
   ]
  },
  {
   "cell_type": "code",
   "execution_count": null,
   "metadata": {},
   "outputs": [],
   "source": [
    "%%bash\n",
    "\n",
    "ls"
   ]
  },
  {
   "cell_type": "markdown",
   "metadata": {},
   "source": [
    "## Normalize Address (expand)\n",
    "`expand_address` standardizes addresses into the same form."
   ]
  },
  {
   "cell_type": "code",
   "execution_count": 2,
   "metadata": {},
   "outputs": [
    {
     "data": {
      "text/plain": [
       "'315 west 48th street odessa texas 79764 us'"
      ]
     },
     "execution_count": 2,
     "metadata": {},
     "output_type": "execute_result"
    }
   ],
   "source": [
    "expand_address('three one five w 48th st odessa tx 79764 us')[2]"
   ]
  },
  {
   "cell_type": "markdown",
   "metadata": {},
   "source": [
    "## Parse Address (parse)\n",
    "`parse_address` breaks down a unstructured address into its components. After an address is expanded and parsed, then it can be more effectively validated using a 3rd-party API (USPS, etc.)."
   ]
  },
  {
   "cell_type": "code",
   "execution_count": 3,
   "metadata": {
    "scrolled": true
   },
   "outputs": [
    {
     "data": {
      "text/plain": [
       "[('315', 'house_number'),\n",
       " ('west 48th street', 'road'),\n",
       " ('odessa', 'city'),\n",
       " ('texas', 'state'),\n",
       " ('79764', 'postcode'),\n",
       " ('ector county', 'state_district'),\n",
       " ('us', 'country')]"
      ]
     },
     "execution_count": 3,
     "metadata": {},
     "output_type": "execute_result"
    }
   ],
   "source": [
    "parse_address(expand_address('three one five w 48th st odessa tx 79764 ector county us')[2])"
   ]
  },
  {
   "cell_type": "code",
   "execution_count": 4,
   "metadata": {
    "scrolled": false
   },
   "outputs": [
    {
     "data": {
      "text/plain": [
       "[('3506', 'house_number'),\n",
       " ('menchaca rd', 'road'),\n",
       " ('apt 236', 'unit'),\n",
       " ('austin', 'city'),\n",
       " ('tx', 'state'),\n",
       " ('travis county', 'state_district'),\n",
       " ('79704', 'postcode'),\n",
       " ('us', 'country')]"
      ]
     },
     "execution_count": 4,
     "metadata": {},
     "output_type": "execute_result"
    }
   ],
   "source": [
    "parse_address('3506 menchaca rd apt 236 austin tx travis county 79704 us')"
   ]
  },
  {
   "cell_type": "code",
   "execution_count": 5,
   "metadata": {},
   "outputs": [
    {
     "data": {
      "text/plain": [
       "[('315', 'house_number'),\n",
       " ('w 48th st', 'road'),\n",
       " ('odessa', 'city'),\n",
       " ('tx', 'state'),\n",
       " ('79764', 'postcode'),\n",
       " ('ector county', 'state_district'),\n",
       " ('us', 'country')]"
      ]
     },
     "execution_count": 5,
     "metadata": {},
     "output_type": "execute_result"
    }
   ],
   "source": [
    "parse_address('315 w 48th st odessa tx 79764 ector county us')"
   ]
  }
 ],
 "metadata": {
  "kernelspec": {
   "display_name": "Python 3",
   "language": "python",
   "name": "python3"
  },
  "language_info": {
   "codemirror_mode": {
    "name": "ipython",
    "version": 3
   },
   "file_extension": ".py",
   "mimetype": "text/x-python",
   "name": "python",
   "nbconvert_exporter": "python",
   "pygments_lexer": "ipython3",
   "version": "3.8.5"
  }
 },
 "nbformat": 4,
 "nbformat_minor": 4
}
