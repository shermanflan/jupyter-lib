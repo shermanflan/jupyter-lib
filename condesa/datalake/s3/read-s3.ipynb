{
 "cells": [
  {
   "cell_type": "markdown",
   "id": "bca74ede",
   "metadata": {},
   "source": [
    "# Import From S3\n",
    "- Requires [fsspec](https://pypi.org/project/fsspec/) and [s3fs](https://pypi.org/project/s3fs/) for pandas integration\n",
    "- Another option is [aws-data-wrangler](https://github.com/awslabs/aws-data-wrangler) "
   ]
  },
  {
   "cell_type": "code",
   "execution_count": 1,
   "id": "375572c0",
   "metadata": {},
   "outputs": [],
   "source": [
    "import csv\n",
    "from datetime import datetime\n",
    "from os import environ\n",
    "import gzip as gz\n",
    "import logging\n",
    "\n",
    "import boto3\n",
    "from botocore.exceptions import ClientError, EventStreamError\n",
    "import pandas as pd\n",
    "from sqlalchemy import create_engine, text\n",
    "from sqlalchemy.orm import sessionmaker"
   ]
  },
  {
   "cell_type": "code",
   "execution_count": null,
   "id": "724b7a72",
   "metadata": {},
   "outputs": [],
   "source": [
    "%%bash\n",
    "\n",
    "pip3 install fsspec==2021.4.0\n",
    "pip3 install s3fs==2021.4.0"
   ]
  },
  {
   "cell_type": "code",
   "execution_count": 2,
   "id": "9eb61b5b",
   "metadata": {},
   "outputs": [],
   "source": [
    "logging.basicConfig(format='%(asctime)s %(levelname)s: %(message)s',\n",
    "                    datefmt='%I:%M:%S %p', level=logging.INFO)\n",
    "\n",
    "logger = logging.getLogger(__name__)"
   ]
  },
  {
   "cell_type": "code",
   "execution_count": null,
   "id": "890f3b33",
   "metadata": {},
   "outputs": [],
   "source": [
    "s3_client = boto3.client('s3')\n",
    "\n",
    "exports = s3_client.list_objects_v2(\n",
    "            Bucket='my-bucket',\n",
    "            Prefix='org/unload/test_file'\n",
    "        )\n",
    "\n",
    "for part in exports.get('Contents', []):\n",
    "    logger.info(f\"lake_path is {part['Key']}\")"
   ]
  },
  {
   "cell_type": "markdown",
   "id": "79c44d65",
   "metadata": {},
   "source": [
    "## Inspect Data"
   ]
  },
  {
   "cell_type": "code",
   "execution_count": null,
   "id": "98f68063",
   "metadata": {},
   "outputs": [],
   "source": [
    "s3_path = 's3://my-bucket/org/unload/test_file'\n",
    "columns = ['client_id', 'patient_id', 'type', 'description', 'onset_date', 'resolved_date', 'severity', \n",
    "           'reaction_code', 'reaction', 'product_code']\n",
    "\n",
    "section_df = pd.read_table(filepath_or_buffer=s3_path, sep='|', header=None, names=columns)\n",
    "section_df.shape"
   ]
  },
  {
   "cell_type": "code",
   "execution_count": null,
   "id": "b714fa4f",
   "metadata": {
    "scrolled": false
   },
   "outputs": [],
   "source": [
    "pd.set_option('display.max_rows', 1000)\n",
    "pd.set_option('display.max_columns', 21)\n",
    "pd.set_option('display.max_colwidth', None)\n",
    "section_df.iloc[2360:2400, 0]"
   ]
  },
  {
   "cell_type": "code",
   "execution_count": null,
   "id": "7a09a81a",
   "metadata": {
    "scrolled": true
   },
   "outputs": [],
   "source": [
    "section_df.groupby([0]).count()"
   ]
  },
  {
   "cell_type": "markdown",
   "id": "852f1414",
   "metadata": {},
   "source": [
    "## Read Spark Output"
   ]
  },
  {
   "cell_type": "code",
   "execution_count": null,
   "id": "584858d0",
   "metadata": {},
   "outputs": [],
   "source": [
    "s3_path_out = 's3://my-bucket/org/unload/test_file'\n",
    "parquet_df = pd.read_parquet(path=s3_path_out)\n",
    "parquet_df.shape"
   ]
  },
  {
   "cell_type": "code",
   "execution_count": null,
   "id": "06322710",
   "metadata": {},
   "outputs": [],
   "source": [
    "parquet_df.head()"
   ]
  },
  {
   "cell_type": "markdown",
   "id": "67173b91",
   "metadata": {},
   "source": [
    "## Summary Stats"
   ]
  },
  {
   "cell_type": "code",
   "execution_count": null,
   "id": "5a02e639",
   "metadata": {},
   "outputs": [],
   "source": [
    "summary_path = 's3://my-bucket/org/unload/test_file'\n",
    "\n",
    "summary_df = pd.read_table(filepath_or_buffer=summary_path, sep='|', header=None)\n",
    "summary_df.shape"
   ]
  },
  {
   "cell_type": "code",
   "execution_count": null,
   "id": "b8d01915",
   "metadata": {},
   "outputs": [],
   "source": [
    "summary_df.head()"
   ]
  },
  {
   "cell_type": "code",
   "execution_count": null,
   "id": "d59d4c92",
   "metadata": {
    "scrolled": false
   },
   "outputs": [],
   "source": [
    "pd.set_option('display.max_rows', 100)\n",
    "summary_df[summary_df[0] == 'IMMUNIZATIONS'].iloc[:, 0:3].groupby([0, 1]).sum()"
   ]
  }
 ],
 "metadata": {
  "kernelspec": {
   "display_name": "Python 3",
   "language": "python",
   "name": "python3"
  },
  "language_info": {
   "codemirror_mode": {
    "name": "ipython",
    "version": 3
   },
   "file_extension": ".py",
   "mimetype": "text/x-python",
   "name": "python",
   "nbconvert_exporter": "python",
   "pygments_lexer": "ipython3",
   "version": "3.8.5"
  }
 },
 "nbformat": 4,
 "nbformat_minor": 5
}
